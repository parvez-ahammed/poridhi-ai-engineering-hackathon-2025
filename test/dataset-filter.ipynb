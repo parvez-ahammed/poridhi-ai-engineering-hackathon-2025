{
 "cells": [
  {
   "cell_type": "code",
   "execution_count": 1,
   "metadata": {},
   "outputs": [],
   "source": [
    "import pandas as pd\n",
    "import re"
   ]
  },
  {
   "cell_type": "code",
   "execution_count": 2,
   "metadata": {},
   "outputs": [
    {
     "name": "stdout",
     "output_type": "stream",
     "text": [
      "Index(['title', 'price', 'description'], dtype='object') Index(['product_name', 'price', 'product_brand', 'product_key_features',\n",
      "       'product_specifications', 'product_description'],\n",
      "      dtype='object')\n"
     ]
    }
   ],
   "source": [
    "startech_df = pd.read_csv(\"./startech.csv\")\n",
    "daraz_df = pd.read_csv(\"./daraz.csv\")\n",
    "\n",
    "print(daraz_df.columns, startech_df.columns)"
   ]
  },
  {
   "cell_type": "code",
   "execution_count": 4,
   "metadata": {},
   "outputs": [],
   "source": [
    "startech_df = startech_df.dropna(subset=[\"price\"]).reset_index(drop=True)\n",
    "startech_df = startech_df[startech_df[\"price\"] != \"To be announce\"].copy()\n",
    "startech_df = startech_df\n",
    "startech_df = startech_df[[\"product_name\", \"price\", \"product_specifications\"]].copy()"
   ]
  },
  {
   "cell_type": "code",
   "execution_count": 5,
   "metadata": {},
   "outputs": [
    {
     "name": "stdout",
     "output_type": "stream",
     "text": [
      "(9060, 3)\n"
     ]
    },
    {
     "data": {
      "text/html": [
       "<div>\n",
       "<style scoped>\n",
       "    .dataframe tbody tr th:only-of-type {\n",
       "        vertical-align: middle;\n",
       "    }\n",
       "\n",
       "    .dataframe tbody tr th {\n",
       "        vertical-align: top;\n",
       "    }\n",
       "\n",
       "    .dataframe thead th {\n",
       "        text-align: right;\n",
       "    }\n",
       "</style>\n",
       "<table border=\"1\" class=\"dataframe\">\n",
       "  <thead>\n",
       "    <tr style=\"text-align: right;\">\n",
       "      <th></th>\n",
       "      <th>title</th>\n",
       "      <th>price</th>\n",
       "      <th>description</th>\n",
       "    </tr>\n",
       "  </thead>\n",
       "  <tbody>\n",
       "    <tr>\n",
       "      <th>0</th>\n",
       "      <td>Apple MacBook Pro 16 inch M4 Pro Chip Liquid R...</td>\n",
       "      <td>379500</td>\n",
       "      <td>Processor Brand: Apple\\nProcessor Model: M4 Pr...</td>\n",
       "    </tr>\n",
       "    <tr>\n",
       "      <th>1</th>\n",
       "      <td>Lenovo Legion Slim 5 16AHP9 Ryzen 7 8845HS AI ...</td>\n",
       "      <td>200000</td>\n",
       "      <td>Processor Brand: AMD\\nProcessor Model: Ryzen 7...</td>\n",
       "    </tr>\n",
       "    <tr>\n",
       "      <th>2</th>\n",
       "      <td>Lenovo LOQ 15AHP9 Ryzen 7 8845HS AI Integrated...</td>\n",
       "      <td>175000</td>\n",
       "      <td>Processor Brand: AMD\\nProcessor Model: Ryzen 7...</td>\n",
       "    </tr>\n",
       "    <tr>\n",
       "      <th>3</th>\n",
       "      <td>Lenovo LOQ 15AHP9 Ryzen 7 8845HS AI Integrated...</td>\n",
       "      <td>165000</td>\n",
       "      <td>Processor Brand: AMD\\nProcessor Model: Ryzen 7...</td>\n",
       "    </tr>\n",
       "    <tr>\n",
       "      <th>4</th>\n",
       "      <td>Lenovo IdeaPad Pro 5 14AHP9 Ryzen 7 8845HS AI ...</td>\n",
       "      <td>175000</td>\n",
       "      <td>Processor Brand: AMD\\nProcessor Model: Ryzen 7...</td>\n",
       "    </tr>\n",
       "  </tbody>\n",
       "</table>\n",
       "</div>"
      ],
      "text/plain": [
       "                                               title   price  \\\n",
       "0  Apple MacBook Pro 16 inch M4 Pro Chip Liquid R...  379500   \n",
       "1  Lenovo Legion Slim 5 16AHP9 Ryzen 7 8845HS AI ...  200000   \n",
       "2  Lenovo LOQ 15AHP9 Ryzen 7 8845HS AI Integrated...  175000   \n",
       "3  Lenovo LOQ 15AHP9 Ryzen 7 8845HS AI Integrated...  165000   \n",
       "4  Lenovo IdeaPad Pro 5 14AHP9 Ryzen 7 8845HS AI ...  175000   \n",
       "\n",
       "                                         description  \n",
       "0  Processor Brand: Apple\\nProcessor Model: M4 Pr...  \n",
       "1  Processor Brand: AMD\\nProcessor Model: Ryzen 7...  \n",
       "2  Processor Brand: AMD\\nProcessor Model: Ryzen 7...  \n",
       "3  Processor Brand: AMD\\nProcessor Model: Ryzen 7...  \n",
       "4  Processor Brand: AMD\\nProcessor Model: Ryzen 7...  "
      ]
     },
     "execution_count": 5,
     "metadata": {},
     "output_type": "execute_result"
    }
   ],
   "source": [
    "startech_df[\"price\"] = startech_df[\"price\"].replace(\",\", \"\", regex=True)\n",
    "startech_df = startech_df.rename(columns={\"product_name\": \"title\", \"product_specifications\": \"description\"})\n",
    "print(startech_df.shape)\n",
    "startech_df.head(5)"
   ]
  },
  {
   "cell_type": "code",
   "execution_count": 6,
   "metadata": {},
   "outputs": [],
   "source": [
    "final_5000_products = startech_df.sample(n=5000, random_state=42).reset_index(drop=True)\n",
    "final_5000_products.to_csv(\"./final_5000_products.csv\", index=False)"
   ]
  },
  {
   "cell_type": "code",
   "execution_count": null,
   "metadata": {},
   "outputs": [],
   "source": [
    "bengali_alphabets = \"অআইঈউঊঋএঐওঔকখগঘঙচছজঝঞটঠডঢণতথদধনপফবভমযরলশষসহয়ড়ঢ়ংঃঁ\"\n",
    "bengali_pattern = re.compile(f\"[{bengali_alphabets}]\")\n",
    "\n",
    "bengali_daraz_df = daraz_df[daraz_df[\"title\"].apply(lambda x : bool(bengali_pattern.search(x))) & daraz_df[\"description\"].apply(lambda x : bool(bengali_pattern.search(x)))].reset_index(drop=True)"
   ]
  },
  {
   "cell_type": "code",
   "execution_count": null,
   "metadata": {},
   "outputs": [],
   "source": [
    "len_bengali_df = bengali_daraz_df.shape[0]\n",
    "need = 5000 - len_bengali_df"
   ]
  },
  {
   "cell_type": "code",
   "execution_count": null,
   "metadata": {},
   "outputs": [],
   "source": [
    "sampled_startech_df = startech_df.sample(n=need, random_state=42, replace=False).reset_index(drop=True)"
   ]
  },
  {
   "cell_type": "code",
   "execution_count": null,
   "metadata": {},
   "outputs": [],
   "source": [
    "final_product_df = pd.concat([sampled_startech_df, bengali_daraz_df], axis=0)\n",
    "print(final_product_df.shape)\n",
    "final_product_df.head(5)"
   ]
  },
  {
   "cell_type": "code",
   "execution_count": null,
   "metadata": {},
   "outputs": [],
   "source": [
    "final_product_df.to_csv(\"./final_5000_products.csv\", index=False)"
   ]
  }
 ],
 "metadata": {
  "kernelspec": {
   "display_name": "venv",
   "language": "python",
   "name": "python3"
  },
  "language_info": {
   "codemirror_mode": {
    "name": "ipython",
    "version": 3
   },
   "file_extension": ".py",
   "mimetype": "text/x-python",
   "name": "python",
   "nbconvert_exporter": "python",
   "pygments_lexer": "ipython3",
   "version": "3.12.3"
  }
 },
 "nbformat": 4,
 "nbformat_minor": 2
}

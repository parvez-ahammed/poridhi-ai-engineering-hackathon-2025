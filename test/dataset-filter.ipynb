{
 "cells": [
  {
   "cell_type": "code",
   "execution_count": null,
   "metadata": {},
   "outputs": [],
   "source": [
    "import pandas as pd\n",
    "import re"
   ]
  },
  {
   "cell_type": "code",
   "execution_count": null,
   "metadata": {},
   "outputs": [],
   "source": [
    "startech_df = pd.read_csv(\"./startech.csv\")\n",
    "daraz_df = pd.read_csv(\"./daraz.csv\")\n",
    "\n",
    "print(daraz_df.columns, startech_df.columns)"
   ]
  },
  {
   "cell_type": "code",
   "execution_count": null,
   "metadata": {},
   "outputs": [],
   "source": [
    "startech_df = startech_df[startech_df[\"price\"] != \"To be announce\"].copy()\n",
    "startech_df = startech_df\n",
    "startech_df = startech_df[[\"title\", \"price\", \"description\"]].copy()"
   ]
  },
  {
   "cell_type": "code",
   "execution_count": null,
   "metadata": {},
   "outputs": [],
   "source": [
    "startech_df[\"price\"] = startech_df[\"price\"].replace(\",\", \"\", regex=True)"
   ]
  },
  {
   "cell_type": "code",
   "execution_count": null,
   "metadata": {},
   "outputs": [],
   "source": [
    "bengali_alphabets = \"অআইঈউঊঋএঐওঔকখগঘঙচছজঝঞটঠডঢণতথদধনপফবভমযরলশষসহয়ড়ঢ়ংঃঁ\"\n",
    "bengali_pattern = re.compile(f\"[{bengali_alphabets}]\")\n",
    "\n",
    "bengali_daraz_df = daraz_df[daraz_df[\"title\"].apply(lambda x : bool(bengali_pattern.search(x))) & daraz_df[\"description\"].apply(lambda x : bool(bengali_pattern.search(x)))].reset_index(drop=True)"
   ]
  },
  {
   "cell_type": "code",
   "execution_count": null,
   "metadata": {},
   "outputs": [],
   "source": [
    "len_bengali_df = bengali_daraz_df.shape[0]\n",
    "need = 5000 - len_bengali_df"
   ]
  },
  {
   "cell_type": "code",
   "execution_count": null,
   "metadata": {},
   "outputs": [],
   "source": [
    "sampled_startech_df = startech_df.sample(n=need, random_state=42, replace=False).reset_index(drop=True)"
   ]
  },
  {
   "cell_type": "code",
   "execution_count": null,
   "metadata": {},
   "outputs": [],
   "source": [
    "final_product_df = pd.concat([sampled_startech_df, bengali_daraz_df], axis=0)\n",
    "print(final_product_df.shape)\n",
    "final_product_df.head(5)"
   ]
  },
  {
   "cell_type": "code",
   "execution_count": null,
   "metadata": {},
   "outputs": [],
   "source": [
    "final_product_df.to_csv(\"./final_5000_products.csv\", index=False)"
   ]
  }
 ],
 "metadata": {
  "kernelspec": {
   "display_name": "linuxvenv",
   "language": "python",
   "name": "python3"
  },
  "language_info": {
   "codemirror_mode": {
    "name": "ipython",
    "version": 3
   },
   "file_extension": ".py",
   "mimetype": "text/x-python",
   "name": "python",
   "nbconvert_exporter": "python",
   "pygments_lexer": "ipython3",
   "version": "3.12.3"
  }
 },
 "nbformat": 4,
 "nbformat_minor": 2
}

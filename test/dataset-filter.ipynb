{
 "cells": [
  {
   "cell_type": "code",
   "execution_count": 1,
   "metadata": {},
   "outputs": [],
   "source": [
    "import pandas as pd\n",
    "import re"
   ]
  },
  {
   "cell_type": "code",
   "execution_count": 2,
   "metadata": {},
   "outputs": [
    {
     "name": "stdout",
     "output_type": "stream",
     "text": [
      "Index(['title', 'price', 'description'], dtype='object') Index(['title', 'price', 'product_brand', 'product_key_features',\n",
      "       'product_specifications', 'description'],\n",
      "      dtype='object')\n"
     ]
    }
   ],
   "source": [
    "startech_df = pd.read_csv(\"./startech.csv\")\n",
    "daraz_df = pd.read_csv(\"./daraz.csv\")\n",
    "\n",
    "print(daraz_df.columns, startech_df.columns)"
   ]
  },
  {
   "cell_type": "code",
   "execution_count": 3,
   "metadata": {},
   "outputs": [],
   "source": [
    "startech_df = startech_df[startech_df[\"price\"] != \"To be announce\"].copy()\n",
    "startech_df = startech_df\n",
    "startech_df = startech_df[[\"title\", \"price\", \"product_specifications\"]].copy()"
   ]
  },
  {
   "cell_type": "code",
   "execution_count": 4,
   "metadata": {},
   "outputs": [],
   "source": [
    "startech_df[\"price\"] = startech_df[\"price\"].replace(\",\", \"\", regex=True)"
   ]
  },
  {
   "cell_type": "code",
   "execution_count": 8,
   "metadata": {},
   "outputs": [
    {
     "name": "stdout",
     "output_type": "stream",
     "text": [
      "Processor,Processor Brand,Intel,Processor Model,Core i3-1215U,Generation,12th Gen,Processor Frequency,up to 4.40 GHz,Processor Core,6 (Performance-cores- 2 Efficient-cores- 4),Processor Thread,8,CPU Cache,10MB,Display,Display Size,15.6 Inch,Display Resolution,15.6\" HD (1366 x 768),Memory,RAM,8GB,RAM Type,DDR4 ,Bus Speed,3200MHz ,Storage,Storage Type,PCIe NVMe,Storage Capacity,512GB,Graphics,Graphics Model,Intel UHD Graphics,Graphics Memory,Shared,Keyboard & TouchPad,Keyboard Type,Full-size island-style keyboard,Camera & Audio,WebCam,720p HD camera,Speaker,Yes,Microphone,Yes,Audio Features,Two stereo speakers, dual array microphones,Ports & Slots,Optical Drive,N/A,Card Reader,N/A,HDMI Port,1x HDMI v1.4b,USB 3 Port,2x USB-A 3.2 Gen1 Type-A ports,USB Type-C / Thunderbolt Port,1x USB 3.2 Gen1 Type-C,Headphone & Microphone Port,1x Headphone/microphone combo,Network & Connectivity,LAN,Yes, 1x RJ45,WiFi,Realtek RTL8822CE 802.11a/b/g/n/ac (2x2) Wi-Fi,\n",
      ",\n",
      ",Bluetooth,Bluetooth 5,Security,Fingerprint Sensor,N/A,Security Chip,Trusted Platform Module (TPM),Software,Operating System,Free DOS,Power,Battery Type,3-cell Li-ion,Battery Capacity,41 Wh,Adapter Type,45 W Smart AC power adapter,Physical Specification,Color,Asteroid silver,Dimensions,35.8 x 24.2 x 1.99 cm ,\n",
      ",Weight,Starting at 1.74 kg,Warranty,Warranty Details,02-Year Warranty\n"
     ]
    }
   ],
   "source": [
    "print(startech_df[\"product_specifications\"][34])"
   ]
  },
  {
   "cell_type": "code",
   "execution_count": null,
   "metadata": {},
   "outputs": [],
   "source": [
    "bengali_alphabets = \"অআইঈউঊঋএঐওঔকখগঘঙচছজঝঞটঠডঢণতথদধনপফবভমযরলশষসহয়ড়ঢ়ংঃঁ\"\n",
    "bengali_pattern = re.compile(f\"[{bengali_alphabets}]\")\n",
    "\n",
    "bengali_daraz_df = daraz_df[daraz_df[\"title\"].apply(lambda x : bool(bengali_pattern.search(x))) & daraz_df[\"description\"].apply(lambda x : bool(bengali_pattern.search(x)))].reset_index(drop=True)"
   ]
  },
  {
   "cell_type": "code",
   "execution_count": null,
   "metadata": {},
   "outputs": [],
   "source": [
    "len_bengali_df = bengali_daraz_df.shape[0]\n",
    "need = 5000 - len_bengali_df"
   ]
  },
  {
   "cell_type": "code",
   "execution_count": null,
   "metadata": {},
   "outputs": [],
   "source": [
    "sampled_startech_df = startech_df.sample(n=need, random_state=42, replace=False).reset_index(drop=True)"
   ]
  },
  {
   "cell_type": "code",
   "execution_count": null,
   "metadata": {},
   "outputs": [],
   "source": [
    "final_product_df = pd.concat([sampled_startech_df, bengali_daraz_df], axis=0)\n",
    "print(final_product_df.shape)\n",
    "final_product_df.head(5)"
   ]
  },
  {
   "cell_type": "code",
   "execution_count": null,
   "metadata": {},
   "outputs": [],
   "source": [
    "final_product_df.to_csv(\"./final_5000_products.csv\", index=False)"
   ]
  }
 ],
 "metadata": {
  "kernelspec": {
   "display_name": "venv",
   "language": "python",
   "name": "python3"
  },
  "language_info": {
   "codemirror_mode": {
    "name": "ipython",
    "version": 3
   },
   "file_extension": ".py",
   "mimetype": "text/x-python",
   "name": "python",
   "nbconvert_exporter": "python",
   "pygments_lexer": "ipython3",
   "version": "3.12.3"
  }
 },
 "nbformat": 4,
 "nbformat_minor": 2
}

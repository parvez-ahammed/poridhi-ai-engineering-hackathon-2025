{
 "cells": [
  {
   "cell_type": "code",
   "execution_count": 2,
   "metadata": {},
   "outputs": [],
   "source": [
    "import pandas as pd\n",
    "import re\n",
    "from sklearn.model_selection import train_test_split"
   ]
  },
  {
   "cell_type": "code",
   "execution_count": null,
   "metadata": {},
   "outputs": [],
   "source": [
    "startech_df = pd.read_csv(\"./datasets/startech.csv\")\n",
    "daraz_df = pd.read_csv(\"./datasets/daraz.csv\")\n",
    "\n",
    "print(daraz_df.columns, startech_df.columns)"
   ]
  },
  {
   "cell_type": "code",
   "execution_count": null,
   "metadata": {},
   "outputs": [],
   "source": [
    "startech_df = startech_df.dropna(subset=[\"price\"]).reset_index(drop=True)\n",
    "startech_df = startech_df[startech_df[\"price\"] != \"To be announce\"].copy()\n",
    "startech_df = startech_df\n",
    "startech_df = startech_df[[\"product_name\", \"price\", \"product_specifications\"]].copy()"
   ]
  },
  {
   "cell_type": "code",
   "execution_count": null,
   "metadata": {},
   "outputs": [],
   "source": [
    "startech_df[\"price\"] = startech_df[\"price\"].replace(\",\", \"\", regex=True)\n",
    "startech_df = startech_df.rename(\n",
    "    columns={\"product_name\": \"title\", \"product_specifications\": \"description\"}\n",
    ")\n",
    "print(startech_df.shape)\n",
    "startech_df.head(5)"
   ]
  },
  {
   "cell_type": "code",
   "execution_count": null,
   "metadata": {},
   "outputs": [],
   "source": [
    "final_5000_products = startech_df.sample(n=5000, random_state=42).reset_index(drop=True)\n",
    "final_5000_products.to_csv(\"./final_5000_products.csv\", index=False)"
   ]
  },
  {
   "cell_type": "code",
   "execution_count": null,
   "metadata": {},
   "outputs": [],
   "source": [
    "bengali_alphabets = \"অআইঈউঊঋএঐওঔকখগঘঙচছজঝঞটঠডঢণতথদধনপফবভমযরলশষসহয়ড়ঢ়ংঃঁ\"\n",
    "bengali_pattern = re.compile(f\"[{bengali_alphabets}]\")\n",
    "\n",
    "bengali_daraz_df = daraz_df[\n",
    "    daraz_df[\"title\"].apply(lambda x: bool(bengali_pattern.search(x)))\n",
    "    & daraz_df[\"description\"].apply(lambda x: bool(bengali_pattern.search(x)))\n",
    "].reset_index(drop=True)"
   ]
  },
  {
   "cell_type": "code",
   "execution_count": null,
   "metadata": {},
   "outputs": [],
   "source": [
    "len_bengali_df = bengali_daraz_df.shape[0]\n",
    "need = 5000 - len_bengali_df"
   ]
  },
  {
   "cell_type": "code",
   "execution_count": null,
   "metadata": {},
   "outputs": [],
   "source": [
    "sampled_startech_df = startech_df.sample(\n",
    "    n=need, random_state=42, replace=False\n",
    ").reset_index(drop=True)"
   ]
  },
  {
   "cell_type": "code",
   "execution_count": null,
   "metadata": {},
   "outputs": [],
   "source": [
    "final_product_df = pd.concat([sampled_startech_df, bengali_daraz_df], axis=0)\n",
    "print(final_product_df.shape)\n",
    "final_product_df.head(5)"
   ]
  },
  {
   "cell_type": "code",
   "execution_count": null,
   "metadata": {},
   "outputs": [],
   "source": [
    "final_product_df.to_csv(\"./final_5000_products.csv\", index=False)"
   ]
  },
  {
   "cell_type": "markdown",
   "metadata": {},
   "source": [
    "## Join generated queries dataframe with main dataset\n"
   ]
  },
  {
   "cell_type": "code",
   "execution_count": 6,
   "metadata": {},
   "outputs": [],
   "source": [
    "def format_product_details(name, price, description):\n",
    "    product_details = \"\"\n",
    "    if description is not None:\n",
    "        product_details = f\"Name: {name}\\nPrice: {price} taka\\n{description}\"\n",
    "    else:\n",
    "        product_details = f\"Name: {name}\\nPrice: {price} taka\"\n",
    "\n",
    "    return product_details"
   ]
  },
  {
   "cell_type": "code",
   "execution_count": 7,
   "metadata": {},
   "outputs": [
    {
     "name": "stdout",
     "output_type": "stream",
     "text": [
      "(24434, 3)\n"
     ]
    },
    {
     "data": {
      "text/html": [
       "<div>\n",
       "<style scoped>\n",
       "    .dataframe tbody tr th:only-of-type {\n",
       "        vertical-align: middle;\n",
       "    }\n",
       "\n",
       "    .dataframe tbody tr th {\n",
       "        vertical-align: top;\n",
       "    }\n",
       "\n",
       "    .dataframe thead th {\n",
       "        text-align: right;\n",
       "    }\n",
       "</style>\n",
       "<table border=\"1\" class=\"dataframe\">\n",
       "  <thead>\n",
       "    <tr style=\"text-align: right;\">\n",
       "      <th></th>\n",
       "      <th>product_id</th>\n",
       "      <th>relevant_query</th>\n",
       "      <th>irrelevant_query</th>\n",
       "    </tr>\n",
       "  </thead>\n",
       "  <tbody>\n",
       "    <tr>\n",
       "      <th>0</th>\n",
       "      <td>009b7e66-ef69-49fc-87c8-9d40d53e0e33</td>\n",
       "      <td>Casio DJ-120D Plus basic calculator</td>\n",
       "      <td>Best gift for boyfriend</td>\n",
       "    </tr>\n",
       "    <tr>\n",
       "      <th>1</th>\n",
       "      <td>009b7e66-ef69-49fc-87c8-9d40d53e0e33</td>\n",
       "      <td>Casio DJ-120D Plus check and recheck calculator</td>\n",
       "      <td>Calculator reviews</td>\n",
       "    </tr>\n",
       "    <tr>\n",
       "      <th>2</th>\n",
       "      <td>009b7e66-ef69-49fc-87c8-9d40d53e0e33</td>\n",
       "      <td>Basic calculator with check and recheck feature</td>\n",
       "      <td>How to use a Casio calculator</td>\n",
       "    </tr>\n",
       "    <tr>\n",
       "      <th>3</th>\n",
       "      <td>009b7e66-ef69-49fc-87c8-9d40d53e0e33</td>\n",
       "      <td>Casio DJ-120D Plus price in Bangladesh</td>\n",
       "      <td>Casio calculator accessories</td>\n",
       "    </tr>\n",
       "    <tr>\n",
       "      <th>4</th>\n",
       "      <td>009b7e66-ef69-49fc-87c8-9d40d53e0e33</td>\n",
       "      <td>Casio DJ-120D Plus features</td>\n",
       "      <td>What is the best calculator brand</td>\n",
       "    </tr>\n",
       "  </tbody>\n",
       "</table>\n",
       "</div>"
      ],
      "text/plain": [
       "                             product_id  \\\n",
       "0  009b7e66-ef69-49fc-87c8-9d40d53e0e33   \n",
       "1  009b7e66-ef69-49fc-87c8-9d40d53e0e33   \n",
       "2  009b7e66-ef69-49fc-87c8-9d40d53e0e33   \n",
       "3  009b7e66-ef69-49fc-87c8-9d40d53e0e33   \n",
       "4  009b7e66-ef69-49fc-87c8-9d40d53e0e33   \n",
       "\n",
       "                                    relevant_query  \\\n",
       "0              Casio DJ-120D Plus basic calculator   \n",
       "1  Casio DJ-120D Plus check and recheck calculator   \n",
       "2  Basic calculator with check and recheck feature   \n",
       "3           Casio DJ-120D Plus price in Bangladesh   \n",
       "4                      Casio DJ-120D Plus features   \n",
       "\n",
       "                    irrelevant_query  \n",
       "0            Best gift for boyfriend  \n",
       "1                 Calculator reviews  \n",
       "2      How to use a Casio calculator  \n",
       "3       Casio calculator accessories  \n",
       "4  What is the best calculator brand  "
      ]
     },
     "execution_count": 7,
     "metadata": {},
     "output_type": "execute_result"
    }
   ],
   "source": [
    "query_df_1 = pd.read_csv(\"./datasets/queries_0_2500.csv\")\n",
    "query_df_2 = pd.read_csv(\"./datasets/queries_2500_5000.csv\")\n",
    "query_df = pd.concat([query_df_1, query_df_2], axis=0)\n",
    "print(query_df.shape)\n",
    "query_df.head(5)"
   ]
  },
  {
   "cell_type": "code",
   "execution_count": 8,
   "metadata": {},
   "outputs": [
    {
     "data": {
      "text/html": [
       "<div>\n",
       "<style scoped>\n",
       "    .dataframe tbody tr th:only-of-type {\n",
       "        vertical-align: middle;\n",
       "    }\n",
       "\n",
       "    .dataframe tbody tr th {\n",
       "        vertical-align: top;\n",
       "    }\n",
       "\n",
       "    .dataframe thead th {\n",
       "        text-align: right;\n",
       "    }\n",
       "</style>\n",
       "<table border=\"1\" class=\"dataframe\">\n",
       "  <thead>\n",
       "    <tr style=\"text-align: right;\">\n",
       "      <th></th>\n",
       "      <th>title</th>\n",
       "      <th>price</th>\n",
       "      <th>description</th>\n",
       "      <th>id</th>\n",
       "    </tr>\n",
       "  </thead>\n",
       "  <tbody>\n",
       "    <tr>\n",
       "      <th>0</th>\n",
       "      <td>Casio DJ-120D Plus Check &amp; Recheck Basic Calcu...</td>\n",
       "      <td>1305</td>\n",
       "      <td>NaN</td>\n",
       "      <td>009b7e66-ef69-49fc-87c8-9d40d53e0e33</td>\n",
       "    </tr>\n",
       "    <tr>\n",
       "      <th>1</th>\n",
       "      <td>Colorful CN600 PRO 1TB M.2 NVMe SSD</td>\n",
       "      <td>7300</td>\n",
       "      <td>Capacity: 1TB\\nFlash Type: 3D NAND\\nInterface:...</td>\n",
       "      <td>7bd5da56-89e9-4b68-92e2-cd31f0578bcb</td>\n",
       "    </tr>\n",
       "    <tr>\n",
       "      <th>2</th>\n",
       "      <td>Anker Soundcore Space One Foldable Over-Ear Bl...</td>\n",
       "      <td>7990</td>\n",
       "      <td>Frequency Range: 20Hz-20KHz\\nInput Jack: AUX C...</td>\n",
       "      <td>3c7d8f65-a7b7-47cd-b808-d6e8c445ca69</td>\n",
       "    </tr>\n",
       "    <tr>\n",
       "      <th>3</th>\n",
       "      <td>Smart SEL-50V24K 50\" 4K Voice Control Android ...</td>\n",
       "      <td>51900</td>\n",
       "      <td>Display Type: LED\\nScreen Size: 50 Inch\\nResol...</td>\n",
       "      <td>212bc014-cec5-4bc6-ad82-2591098ab808</td>\n",
       "    </tr>\n",
       "    <tr>\n",
       "      <th>4</th>\n",
       "      <td>EZVIZ H3c 3MP Wi-Fi Smart Home Outdoor Securit...</td>\n",
       "      <td>4324</td>\n",
       "      <td>Image Sensor: 1/2.7”Progressive Scan CMOS\\nEff...</td>\n",
       "      <td>617e0e00-cfd2-4465-b46f-9537476327a4</td>\n",
       "    </tr>\n",
       "  </tbody>\n",
       "</table>\n",
       "</div>"
      ],
      "text/plain": [
       "                                               title  price  \\\n",
       "0  Casio DJ-120D Plus Check & Recheck Basic Calcu...   1305   \n",
       "1                Colorful CN600 PRO 1TB M.2 NVMe SSD   7300   \n",
       "2  Anker Soundcore Space One Foldable Over-Ear Bl...   7990   \n",
       "3  Smart SEL-50V24K 50\" 4K Voice Control Android ...  51900   \n",
       "4  EZVIZ H3c 3MP Wi-Fi Smart Home Outdoor Securit...   4324   \n",
       "\n",
       "                                         description  \\\n",
       "0                                                NaN   \n",
       "1  Capacity: 1TB\\nFlash Type: 3D NAND\\nInterface:...   \n",
       "2  Frequency Range: 20Hz-20KHz\\nInput Jack: AUX C...   \n",
       "3  Display Type: LED\\nScreen Size: 50 Inch\\nResol...   \n",
       "4  Image Sensor: 1/2.7”Progressive Scan CMOS\\nEff...   \n",
       "\n",
       "                                     id  \n",
       "0  009b7e66-ef69-49fc-87c8-9d40d53e0e33  \n",
       "1  7bd5da56-89e9-4b68-92e2-cd31f0578bcb  \n",
       "2  3c7d8f65-a7b7-47cd-b808-d6e8c445ca69  \n",
       "3  212bc014-cec5-4bc6-ad82-2591098ab808  \n",
       "4  617e0e00-cfd2-4465-b46f-9537476327a4  "
      ]
     },
     "execution_count": 8,
     "metadata": {},
     "output_type": "execute_result"
    }
   ],
   "source": [
    "product_df = pd.read_csv(\"./datasets/final_5000_products.csv\")\n",
    "product_df.head(5)"
   ]
  },
  {
   "cell_type": "code",
   "execution_count": 9,
   "metadata": {},
   "outputs": [
    {
     "name": "stdout",
     "output_type": "stream",
     "text": [
      "(24434, 3)\n"
     ]
    },
    {
     "data": {
      "text/html": [
       "<div>\n",
       "<style scoped>\n",
       "    .dataframe tbody tr th:only-of-type {\n",
       "        vertical-align: middle;\n",
       "    }\n",
       "\n",
       "    .dataframe tbody tr th {\n",
       "        vertical-align: top;\n",
       "    }\n",
       "\n",
       "    .dataframe thead th {\n",
       "        text-align: right;\n",
       "    }\n",
       "</style>\n",
       "<table border=\"1\" class=\"dataframe\">\n",
       "  <thead>\n",
       "    <tr style=\"text-align: right;\">\n",
       "      <th></th>\n",
       "      <th>anchor</th>\n",
       "      <th>positive</th>\n",
       "      <th>negative</th>\n",
       "    </tr>\n",
       "  </thead>\n",
       "  <tbody>\n",
       "    <tr>\n",
       "      <th>24429</th>\n",
       "      <td>Name: Redragon Storm Pro M808-KS RGB USB 2.4G ...</td>\n",
       "      <td>Redragon Storm Pro M808-KS RGB gaming mouse</td>\n",
       "      <td>Best laptops under 50000 taka</td>\n",
       "    </tr>\n",
       "    <tr>\n",
       "      <th>24430</th>\n",
       "      <td>Name: Redragon Storm Pro M808-KS RGB USB 2.4G ...</td>\n",
       "      <td>7 programmable buttons wireless gaming mouse</td>\n",
       "      <td>Wireless earbuds with long battery life</td>\n",
       "    </tr>\n",
       "    <tr>\n",
       "      <th>24431</th>\n",
       "      <td>Name: Redragon Storm Pro M808-KS RGB USB 2.4G ...</td>\n",
       "      <td>5 DPI indicator optical sensor</td>\n",
       "      <td>Lightweight backpacks for school</td>\n",
       "    </tr>\n",
       "    <tr>\n",
       "      <th>24432</th>\n",
       "      <td>Name: Redragon Storm Pro M808-KS RGB USB 2.4G ...</td>\n",
       "      <td>40G acceleration gaming mouse</td>\n",
       "      <td>Top-rated smartphones in India</td>\n",
       "    </tr>\n",
       "    <tr>\n",
       "      <th>24433</th>\n",
       "      <td>Name: Redragon Storm Pro M808-KS RGB USB 2.4G ...</td>\n",
       "      <td>Black color options</td>\n",
       "      <td>Discounted deals on kitchen appliances</td>\n",
       "    </tr>\n",
       "  </tbody>\n",
       "</table>\n",
       "</div>"
      ],
      "text/plain": [
       "                                                  anchor  \\\n",
       "24429  Name: Redragon Storm Pro M808-KS RGB USB 2.4G ...   \n",
       "24430  Name: Redragon Storm Pro M808-KS RGB USB 2.4G ...   \n",
       "24431  Name: Redragon Storm Pro M808-KS RGB USB 2.4G ...   \n",
       "24432  Name: Redragon Storm Pro M808-KS RGB USB 2.4G ...   \n",
       "24433  Name: Redragon Storm Pro M808-KS RGB USB 2.4G ...   \n",
       "\n",
       "                                           positive  \\\n",
       "24429   Redragon Storm Pro M808-KS RGB gaming mouse   \n",
       "24430  7 programmable buttons wireless gaming mouse   \n",
       "24431                5 DPI indicator optical sensor   \n",
       "24432                 40G acceleration gaming mouse   \n",
       "24433                           Black color options   \n",
       "\n",
       "                                      negative  \n",
       "24429            Best laptops under 50000 taka  \n",
       "24430  Wireless earbuds with long battery life  \n",
       "24431         Lightweight backpacks for school  \n",
       "24432           Top-rated smartphones in India  \n",
       "24433   Discounted deals on kitchen appliances  "
      ]
     },
     "execution_count": 9,
     "metadata": {},
     "output_type": "execute_result"
    }
   ],
   "source": [
    "merged_df = (\n",
    "    pd.merge(product_df, query_df, left_on=\"id\", right_on=\"product_id\")\n",
    "    .drop(columns=[\"id\", \"product_id\"])\n",
    "    .reset_index(drop=True)\n",
    ")\n",
    "merged_df[\"anchor\"] = merged_df.apply(\n",
    "    lambda row: format_product_details(\n",
    "        name=row[\"title\"], description=row[\"description\"], price=row[\"price\"]\n",
    "    ),\n",
    "    axis=1,\n",
    ")\n",
    "merged_df = merged_df.drop(columns=[\"title\", \"price\", \"description\"]).rename(columns={\"relevant_query\": \"positive\", \"irrelevant_query\": \"negative\"})\n",
    "merged_df = merged_df[[\"anchor\", \"positive\", \"negative\"]]\n",
    "print(merged_df.shape)\n",
    "merged_df.tail(5)"
   ]
  },
  {
   "cell_type": "markdown",
   "metadata": {},
   "source": [
    "## Dataset split\n"
   ]
  },
  {
   "cell_type": "code",
   "execution_count": 10,
   "metadata": {},
   "outputs": [
    {
     "data": {
      "text/plain": [
       "((17592, 3), (2444, 3), (4398, 3))"
      ]
     },
     "execution_count": 10,
     "metadata": {},
     "output_type": "execute_result"
    }
   ],
   "source": [
    "train_df, val_df = train_test_split(\n",
    "    merged_df, test_size=0.10, random_state=42, shuffle=True\n",
    ")\n",
    "train_df, test_df = train_test_split(\n",
    "    train_df, test_size=0.20, random_state=42, shuffle=True\n",
    ")\n",
    "\n",
    "train_df.reset_index(inplace=True, drop=True)\n",
    "test_df.reset_index(inplace=True, drop=True)\n",
    "val_df.reset_index(inplace=True, drop=True)\n",
    "\n",
    "train_df.shape, val_df.shape, test_df.shape"
   ]
  },
  {
   "cell_type": "code",
   "execution_count": 11,
   "metadata": {},
   "outputs": [],
   "source": [
    "train_df.to_csv(\"./datasets/train.csv\", index=False)\n",
    "test_df.to_csv(\"./datasets/test.csv\", index=False)\n",
    "val_df.to_csv(\"./datasets/val.csv\", index=False)"
   ]
  }
 ],
 "metadata": {
  "kernelspec": {
   "display_name": "venv",
   "language": "python",
   "name": "python3"
  },
  "language_info": {
   "codemirror_mode": {
    "name": "ipython",
    "version": 3
   },
   "file_extension": ".py",
   "mimetype": "text/x-python",
   "name": "python",
   "nbconvert_exporter": "python",
   "pygments_lexer": "ipython3",
   "version": "3.12.3"
  }
 },
 "nbformat": 4,
 "nbformat_minor": 2
}

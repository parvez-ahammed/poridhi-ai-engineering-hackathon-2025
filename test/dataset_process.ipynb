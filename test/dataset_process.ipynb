{
 "cells": [
  {
   "cell_type": "code",
   "execution_count": 2,
   "metadata": {},
   "outputs": [],
   "source": [
    "import pandas as pd\n",
    "import re\n",
    "from sklearn.model_selection import train_test_split\n",
    "from glob import glob"
   ]
  },
  {
   "cell_type": "code",
   "execution_count": 5,
   "metadata": {},
   "outputs": [
    {
     "data": {
      "text/html": [
       "<div>\n",
       "<style scoped>\n",
       "    .dataframe tbody tr th:only-of-type {\n",
       "        vertical-align: middle;\n",
       "    }\n",
       "\n",
       "    .dataframe tbody tr th {\n",
       "        vertical-align: top;\n",
       "    }\n",
       "\n",
       "    .dataframe thead th {\n",
       "        text-align: right;\n",
       "    }\n",
       "</style>\n",
       "<table border=\"1\" class=\"dataframe\">\n",
       "  <thead>\n",
       "    <tr style=\"text-align: right;\">\n",
       "      <th></th>\n",
       "      <th>product_name</th>\n",
       "      <th>price</th>\n",
       "      <th>product_brand</th>\n",
       "      <th>product_key_features</th>\n",
       "      <th>product_specifications</th>\n",
       "      <th>product_description</th>\n",
       "    </tr>\n",
       "  </thead>\n",
       "  <tbody>\n",
       "    <tr>\n",
       "      <th>0</th>\n",
       "      <td>Apple MacBook Pro 16 inch M4 Pro Chip Liquid R...</td>\n",
       "      <td>379500</td>\n",
       "      <td>Apple</td>\n",
       "      <td>MPN: MX2Y3LL/A,Model: MacBook Pro M4 Pro,Proce...</td>\n",
       "      <td>Processor Brand: Apple\\nProcessor Model: M4 Pr...</td>\n",
       "      <td>Apple MacBook Pro 16 inch M4 Pro Chip Liquid R...</td>\n",
       "    </tr>\n",
       "    <tr>\n",
       "      <th>1</th>\n",
       "      <td>Lenovo Legion Slim 5 16AHP9 Ryzen 7 8845HS AI ...</td>\n",
       "      <td>200000</td>\n",
       "      <td>Lenovo</td>\n",
       "      <td>MPN: 83DH003DLK,Model: Legion Slim 5 16AHP9,Pr...</td>\n",
       "      <td>Processor Brand: AMD\\nProcessor Model: Ryzen 7...</td>\n",
       "      <td>Lenovo Legion Slim 5 16AHP9 Ryzen 7 8845HS AI ...</td>\n",
       "    </tr>\n",
       "    <tr>\n",
       "      <th>2</th>\n",
       "      <td>Lenovo LOQ 15AHP9 Ryzen 7 8845HS AI Integrated...</td>\n",
       "      <td>175000</td>\n",
       "      <td>Lenovo</td>\n",
       "      <td>MPN: 83DX00A6LK,Model: LOQ 15AHP9,Processor: A...</td>\n",
       "      <td>Processor Brand: AMD\\nProcessor Model: Ryzen 7...</td>\n",
       "      <td>Lenovo LOQ 15AHP9 Ryzen 7 8845HS RTX 4060 8GB ...</td>\n",
       "    </tr>\n",
       "    <tr>\n",
       "      <th>3</th>\n",
       "      <td>Lenovo LOQ 15AHP9 Ryzen 7 8845HS AI Integrated...</td>\n",
       "      <td>165000</td>\n",
       "      <td>Lenovo</td>\n",
       "      <td>MPN: 83DX00A4LK,Model: LOQ 15AHP9,Processor: A...</td>\n",
       "      <td>Processor Brand: AMD\\nProcessor Model: Ryzen 7...</td>\n",
       "      <td>Lenovo LOQ 15AHP9 Ryzen 7 8845HS RTX 4050 6GB ...</td>\n",
       "    </tr>\n",
       "    <tr>\n",
       "      <th>4</th>\n",
       "      <td>Lenovo IdeaPad Pro 5 14AHP9 Ryzen 7 8845HS AI ...</td>\n",
       "      <td>175000</td>\n",
       "      <td>Lenovo</td>\n",
       "      <td>MPN: 83D30031LK,Model: IdeaPad Pro 5 14AHP9,Pr...</td>\n",
       "      <td>Processor Brand: AMD\\nProcessor Model: Ryzen 7...</td>\n",
       "      <td>Lenovo IdeaPad Pro 5 14AHP9 Ryzen 7 8845HS RTX...</td>\n",
       "    </tr>\n",
       "  </tbody>\n",
       "</table>\n",
       "</div>"
      ],
      "text/plain": [
       "                                        product_name   price product_brand  \\\n",
       "0  Apple MacBook Pro 16 inch M4 Pro Chip Liquid R...  379500         Apple   \n",
       "1  Lenovo Legion Slim 5 16AHP9 Ryzen 7 8845HS AI ...  200000        Lenovo   \n",
       "2  Lenovo LOQ 15AHP9 Ryzen 7 8845HS AI Integrated...  175000        Lenovo   \n",
       "3  Lenovo LOQ 15AHP9 Ryzen 7 8845HS AI Integrated...  165000        Lenovo   \n",
       "4  Lenovo IdeaPad Pro 5 14AHP9 Ryzen 7 8845HS AI ...  175000        Lenovo   \n",
       "\n",
       "                                product_key_features  \\\n",
       "0  MPN: MX2Y3LL/A,Model: MacBook Pro M4 Pro,Proce...   \n",
       "1  MPN: 83DH003DLK,Model: Legion Slim 5 16AHP9,Pr...   \n",
       "2  MPN: 83DX00A6LK,Model: LOQ 15AHP9,Processor: A...   \n",
       "3  MPN: 83DX00A4LK,Model: LOQ 15AHP9,Processor: A...   \n",
       "4  MPN: 83D30031LK,Model: IdeaPad Pro 5 14AHP9,Pr...   \n",
       "\n",
       "                              product_specifications  \\\n",
       "0  Processor Brand: Apple\\nProcessor Model: M4 Pr...   \n",
       "1  Processor Brand: AMD\\nProcessor Model: Ryzen 7...   \n",
       "2  Processor Brand: AMD\\nProcessor Model: Ryzen 7...   \n",
       "3  Processor Brand: AMD\\nProcessor Model: Ryzen 7...   \n",
       "4  Processor Brand: AMD\\nProcessor Model: Ryzen 7...   \n",
       "\n",
       "                                 product_description  \n",
       "0  Apple MacBook Pro 16 inch M4 Pro Chip Liquid R...  \n",
       "1  Lenovo Legion Slim 5 16AHP9 Ryzen 7 8845HS AI ...  \n",
       "2  Lenovo LOQ 15AHP9 Ryzen 7 8845HS RTX 4060 8GB ...  \n",
       "3  Lenovo LOQ 15AHP9 Ryzen 7 8845HS RTX 4050 6GB ...  \n",
       "4  Lenovo IdeaPad Pro 5 14AHP9 Ryzen 7 8845HS RTX...  "
      ]
     },
     "execution_count": 5,
     "metadata": {},
     "output_type": "execute_result"
    }
   ],
   "source": [
    "startech_df = pd.read_csv(\"./datasets/startech.csv\")\n",
    "# daraz_df = pd.read_csv(\"./datasets/daraz.csv\")\n",
    "\n",
    "# print(daraz_df.columns, startech_df.columns)\n",
    "startech_df.head(5)"
   ]
  },
  {
   "cell_type": "code",
   "execution_count": null,
   "metadata": {},
   "outputs": [],
   "source": [
    "startech_df = startech_df.dropna(subset=[\"price\"]).reset_index(drop=True)\n",
    "startech_df = startech_df[startech_df[\"price\"] != \"To be announce\"].copy()\n",
    "startech_df = startech_df\n",
    "startech_df = startech_df[[\"product_name\", \"price\", \"product_specifications\"]].copy()"
   ]
  },
  {
   "cell_type": "code",
   "execution_count": null,
   "metadata": {},
   "outputs": [],
   "source": [
    "startech_df[\"price\"] = startech_df[\"price\"].replace(\",\", \"\", regex=True)\n",
    "startech_df = startech_df.rename(\n",
    "    columns={\"product_name\": \"title\", \"product_specifications\": \"description\"}\n",
    ")\n",
    "print(startech_df.shape)\n",
    "startech_df.head(5)"
   ]
  },
  {
   "cell_type": "code",
   "execution_count": null,
   "metadata": {},
   "outputs": [],
   "source": [
    "final_5000_products = startech_df.sample(n=5000, random_state=42).reset_index(drop=True)\n",
    "final_5000_products.to_csv(\"./final_5000_products.csv\", index=False)"
   ]
  },
  {
   "cell_type": "code",
   "execution_count": null,
   "metadata": {},
   "outputs": [],
   "source": [
    "bengali_alphabets = \"অআইঈউঊঋএঐওঔকখগঘঙচছজঝঞটঠডঢণতথদধনপফবভমযরলশষসহয়ড়ঢ়ংঃঁ\"\n",
    "bengali_pattern = re.compile(f\"[{bengali_alphabets}]\")\n",
    "\n",
    "bengali_daraz_df = daraz_df[\n",
    "    daraz_df[\"title\"].apply(lambda x: bool(bengali_pattern.search(x)))\n",
    "    & daraz_df[\"description\"].apply(lambda x: bool(bengali_pattern.search(x)))\n",
    "].reset_index(drop=True)"
   ]
  },
  {
   "cell_type": "code",
   "execution_count": null,
   "metadata": {},
   "outputs": [],
   "source": [
    "len_bengali_df = bengali_daraz_df.shape[0]\n",
    "need = 5000 - len_bengali_df"
   ]
  },
  {
   "cell_type": "code",
   "execution_count": null,
   "metadata": {},
   "outputs": [],
   "source": [
    "sampled_startech_df = startech_df.sample(\n",
    "    n=need, random_state=42, replace=False\n",
    ").reset_index(drop=True)"
   ]
  },
  {
   "cell_type": "code",
   "execution_count": null,
   "metadata": {},
   "outputs": [],
   "source": [
    "final_product_df = pd.concat([sampled_startech_df, bengali_daraz_df], axis=0)\n",
    "print(final_product_df.shape)\n",
    "final_product_df.head(5)"
   ]
  },
  {
   "cell_type": "code",
   "execution_count": null,
   "metadata": {},
   "outputs": [],
   "source": [
    "final_product_df.to_csv(\"./final_5000_products.csv\", index=False)"
   ]
  },
  {
   "cell_type": "markdown",
   "metadata": {},
   "source": [
    "## Join generated queries dataframe with main dataset\n"
   ]
  },
  {
   "cell_type": "code",
   "execution_count": 5,
   "metadata": {},
   "outputs": [],
   "source": [
    "def format_product_details(name, price, description):\n",
    "    product_details = \"\"\n",
    "    if description is not None:\n",
    "        product_details = f\"Name: {name}\\nPrice: {price} taka\\n{description}\"\n",
    "    else:\n",
    "        product_details = f\"Name: {name}\\nPrice: {price} taka\"\n",
    "\n",
    "    return product_details"
   ]
  },
  {
   "cell_type": "code",
   "execution_count": 2,
   "metadata": {},
   "outputs": [
    {
     "name": "stdout",
     "output_type": "stream",
     "text": [
      "(24761, 3)\n"
     ]
    },
    {
     "data": {
      "text/html": [
       "<div>\n",
       "<style scoped>\n",
       "    .dataframe tbody tr th:only-of-type {\n",
       "        vertical-align: middle;\n",
       "    }\n",
       "\n",
       "    .dataframe tbody tr th {\n",
       "        vertical-align: top;\n",
       "    }\n",
       "\n",
       "    .dataframe thead th {\n",
       "        text-align: right;\n",
       "    }\n",
       "</style>\n",
       "<table border=\"1\" class=\"dataframe\">\n",
       "  <thead>\n",
       "    <tr style=\"text-align: right;\">\n",
       "      <th></th>\n",
       "      <th>product_id</th>\n",
       "      <th>relevant_query</th>\n",
       "      <th>irrelevant_query</th>\n",
       "    </tr>\n",
       "  </thead>\n",
       "  <tbody>\n",
       "    <tr>\n",
       "      <th>0</th>\n",
       "      <td>009b7e66-ef69-49fc-87c8-9d40d53e0e33</td>\n",
       "      <td>Basic calculator</td>\n",
       "      <td>Best gift for a teacher</td>\n",
       "    </tr>\n",
       "    <tr>\n",
       "      <th>1</th>\n",
       "      <td>009b7e66-ef69-49fc-87c8-9d40d53e0e33</td>\n",
       "      <td>check and recheck function</td>\n",
       "      <td>Calculator reviews 2023</td>\n",
       "    </tr>\n",
       "    <tr>\n",
       "      <th>2</th>\n",
       "      <td>009b7e66-ef69-49fc-87c8-9d40d53e0e33</td>\n",
       "      <td>digital display calculator</td>\n",
       "      <td>How to use a calculator</td>\n",
       "    </tr>\n",
       "    <tr>\n",
       "      <th>3</th>\n",
       "      <td>009b7e66-ef69-49fc-87c8-9d40d53e0e33</td>\n",
       "      <td>handheld calculator</td>\n",
       "      <td>Calculator prices in Bangladesh</td>\n",
       "    </tr>\n",
       "    <tr>\n",
       "      <th>4</th>\n",
       "      <td>009b7e66-ef69-49fc-87c8-9d40d53e0e33</td>\n",
       "      <td>simple math calculator</td>\n",
       "      <td>Digital watch</td>\n",
       "    </tr>\n",
       "  </tbody>\n",
       "</table>\n",
       "</div>"
      ],
      "text/plain": [
       "                             product_id              relevant_query  \\\n",
       "0  009b7e66-ef69-49fc-87c8-9d40d53e0e33            Basic calculator   \n",
       "1  009b7e66-ef69-49fc-87c8-9d40d53e0e33  check and recheck function   \n",
       "2  009b7e66-ef69-49fc-87c8-9d40d53e0e33  digital display calculator   \n",
       "3  009b7e66-ef69-49fc-87c8-9d40d53e0e33         handheld calculator   \n",
       "4  009b7e66-ef69-49fc-87c8-9d40d53e0e33      simple math calculator   \n",
       "\n",
       "                  irrelevant_query  \n",
       "0          Best gift for a teacher  \n",
       "1          Calculator reviews 2023  \n",
       "2          How to use a calculator  \n",
       "3  Calculator prices in Bangladesh  \n",
       "4                    Digital watch  "
      ]
     },
     "execution_count": 2,
     "metadata": {},
     "output_type": "execute_result"
    }
   ],
   "source": [
    "query_df = [pd.read_csv(path)for path in glob(\"./datasets/generated_data/*.csv\")]\n",
    "query_df = pd.concat(query_df)\n",
    "print(query_df.shape)\n",
    "query_df.head(5)"
   ]
  },
  {
   "cell_type": "code",
   "execution_count": 3,
   "metadata": {},
   "outputs": [
    {
     "data": {
      "text/html": [
       "<div>\n",
       "<style scoped>\n",
       "    .dataframe tbody tr th:only-of-type {\n",
       "        vertical-align: middle;\n",
       "    }\n",
       "\n",
       "    .dataframe tbody tr th {\n",
       "        vertical-align: top;\n",
       "    }\n",
       "\n",
       "    .dataframe thead th {\n",
       "        text-align: right;\n",
       "    }\n",
       "</style>\n",
       "<table border=\"1\" class=\"dataframe\">\n",
       "  <thead>\n",
       "    <tr style=\"text-align: right;\">\n",
       "      <th></th>\n",
       "      <th>title</th>\n",
       "      <th>price</th>\n",
       "      <th>description</th>\n",
       "      <th>id</th>\n",
       "    </tr>\n",
       "  </thead>\n",
       "  <tbody>\n",
       "    <tr>\n",
       "      <th>0</th>\n",
       "      <td>Casio DJ-120D Plus Check &amp; Recheck Basic Calcu...</td>\n",
       "      <td>1305</td>\n",
       "      <td>NaN</td>\n",
       "      <td>009b7e66-ef69-49fc-87c8-9d40d53e0e33</td>\n",
       "    </tr>\n",
       "    <tr>\n",
       "      <th>1</th>\n",
       "      <td>Colorful CN600 PRO 1TB M.2 NVMe SSD</td>\n",
       "      <td>7300</td>\n",
       "      <td>Capacity: 1TB\\nFlash Type: 3D NAND\\nInterface:...</td>\n",
       "      <td>7bd5da56-89e9-4b68-92e2-cd31f0578bcb</td>\n",
       "    </tr>\n",
       "    <tr>\n",
       "      <th>2</th>\n",
       "      <td>Anker Soundcore Space One Foldable Over-Ear Bl...</td>\n",
       "      <td>7990</td>\n",
       "      <td>Frequency Range: 20Hz-20KHz\\nInput Jack: AUX C...</td>\n",
       "      <td>3c7d8f65-a7b7-47cd-b808-d6e8c445ca69</td>\n",
       "    </tr>\n",
       "    <tr>\n",
       "      <th>3</th>\n",
       "      <td>Smart SEL-50V24K 50\" 4K Voice Control Android ...</td>\n",
       "      <td>51900</td>\n",
       "      <td>Display Type: LED\\nScreen Size: 50 Inch\\nResol...</td>\n",
       "      <td>212bc014-cec5-4bc6-ad82-2591098ab808</td>\n",
       "    </tr>\n",
       "    <tr>\n",
       "      <th>4</th>\n",
       "      <td>EZVIZ H3c 3MP Wi-Fi Smart Home Outdoor Securit...</td>\n",
       "      <td>4324</td>\n",
       "      <td>Image Sensor: 1/2.7”Progressive Scan CMOS\\nEff...</td>\n",
       "      <td>617e0e00-cfd2-4465-b46f-9537476327a4</td>\n",
       "    </tr>\n",
       "  </tbody>\n",
       "</table>\n",
       "</div>"
      ],
      "text/plain": [
       "                                               title  price  \\\n",
       "0  Casio DJ-120D Plus Check & Recheck Basic Calcu...   1305   \n",
       "1                Colorful CN600 PRO 1TB M.2 NVMe SSD   7300   \n",
       "2  Anker Soundcore Space One Foldable Over-Ear Bl...   7990   \n",
       "3  Smart SEL-50V24K 50\" 4K Voice Control Android ...  51900   \n",
       "4  EZVIZ H3c 3MP Wi-Fi Smart Home Outdoor Securit...   4324   \n",
       "\n",
       "                                         description  \\\n",
       "0                                                NaN   \n",
       "1  Capacity: 1TB\\nFlash Type: 3D NAND\\nInterface:...   \n",
       "2  Frequency Range: 20Hz-20KHz\\nInput Jack: AUX C...   \n",
       "3  Display Type: LED\\nScreen Size: 50 Inch\\nResol...   \n",
       "4  Image Sensor: 1/2.7”Progressive Scan CMOS\\nEff...   \n",
       "\n",
       "                                     id  \n",
       "0  009b7e66-ef69-49fc-87c8-9d40d53e0e33  \n",
       "1  7bd5da56-89e9-4b68-92e2-cd31f0578bcb  \n",
       "2  3c7d8f65-a7b7-47cd-b808-d6e8c445ca69  \n",
       "3  212bc014-cec5-4bc6-ad82-2591098ab808  \n",
       "4  617e0e00-cfd2-4465-b46f-9537476327a4  "
      ]
     },
     "execution_count": 3,
     "metadata": {},
     "output_type": "execute_result"
    }
   ],
   "source": [
    "product_df = pd.read_csv(\"./datasets/final_5000_products.csv\")\n",
    "product_df.head(5)"
   ]
  },
  {
   "cell_type": "code",
   "execution_count": 6,
   "metadata": {},
   "outputs": [
    {
     "name": "stdout",
     "output_type": "stream",
     "text": [
      "(24761, 3)\n"
     ]
    },
    {
     "data": {
      "text/html": [
       "<div>\n",
       "<style scoped>\n",
       "    .dataframe tbody tr th:only-of-type {\n",
       "        vertical-align: middle;\n",
       "    }\n",
       "\n",
       "    .dataframe tbody tr th {\n",
       "        vertical-align: top;\n",
       "    }\n",
       "\n",
       "    .dataframe thead th {\n",
       "        text-align: right;\n",
       "    }\n",
       "</style>\n",
       "<table border=\"1\" class=\"dataframe\">\n",
       "  <thead>\n",
       "    <tr style=\"text-align: right;\">\n",
       "      <th></th>\n",
       "      <th>anchor</th>\n",
       "      <th>positive</th>\n",
       "      <th>negative</th>\n",
       "    </tr>\n",
       "  </thead>\n",
       "  <tbody>\n",
       "    <tr>\n",
       "      <th>24756</th>\n",
       "      <td>Name: Redragon Storm Pro M808-KS RGB USB 2.4G ...</td>\n",
       "      <td>wireless gaming mouse</td>\n",
       "      <td>best gaming keyboard for Fortnite</td>\n",
       "    </tr>\n",
       "    <tr>\n",
       "      <th>24757</th>\n",
       "      <td>Name: Redragon Storm Pro M808-KS RGB USB 2.4G ...</td>\n",
       "      <td>lightweight gaming mouse</td>\n",
       "      <td>wireless earbuds for music</td>\n",
       "    </tr>\n",
       "    <tr>\n",
       "      <th>24758</th>\n",
       "      <td>Name: Redragon Storm Pro M808-KS RGB USB 2.4G ...</td>\n",
       "      <td>high polling rate gaming mouse</td>\n",
       "      <td>portable power bank for phone</td>\n",
       "    </tr>\n",
       "    <tr>\n",
       "      <th>24759</th>\n",
       "      <td>Name: Redragon Storm Pro M808-KS RGB USB 2.4G ...</td>\n",
       "      <td>programmable buttons gaming mouse</td>\n",
       "      <td>black gaming chair for sale</td>\n",
       "    </tr>\n",
       "    <tr>\n",
       "      <th>24760</th>\n",
       "      <td>Name: Redragon Storm Pro M808-KS RGB USB 2.4G ...</td>\n",
       "      <td>gaming mouse with high DPI indicator</td>\n",
       "      <td>gaming headset with microphone</td>\n",
       "    </tr>\n",
       "  </tbody>\n",
       "</table>\n",
       "</div>"
      ],
      "text/plain": [
       "                                                  anchor  \\\n",
       "24756  Name: Redragon Storm Pro M808-KS RGB USB 2.4G ...   \n",
       "24757  Name: Redragon Storm Pro M808-KS RGB USB 2.4G ...   \n",
       "24758  Name: Redragon Storm Pro M808-KS RGB USB 2.4G ...   \n",
       "24759  Name: Redragon Storm Pro M808-KS RGB USB 2.4G ...   \n",
       "24760  Name: Redragon Storm Pro M808-KS RGB USB 2.4G ...   \n",
       "\n",
       "                                   positive                           negative  \n",
       "24756                 wireless gaming mouse  best gaming keyboard for Fortnite  \n",
       "24757              lightweight gaming mouse         wireless earbuds for music  \n",
       "24758        high polling rate gaming mouse      portable power bank for phone  \n",
       "24759     programmable buttons gaming mouse        black gaming chair for sale  \n",
       "24760  gaming mouse with high DPI indicator     gaming headset with microphone  "
      ]
     },
     "execution_count": 6,
     "metadata": {},
     "output_type": "execute_result"
    }
   ],
   "source": [
    "merged_df = (\n",
    "    pd.merge(product_df, query_df, left_on=\"id\", right_on=\"product_id\")\n",
    "    .drop(columns=[\"id\", \"product_id\"])\n",
    "    .reset_index(drop=True)\n",
    ")\n",
    "merged_df[\"anchor\"] = merged_df.apply(\n",
    "    lambda row: format_product_details(\n",
    "        name=row[\"title\"], description=row[\"description\"], price=row[\"price\"]\n",
    "    ),\n",
    "    axis=1,\n",
    ")\n",
    "merged_df = merged_df.drop(columns=[\"title\", \"price\", \"description\"]).rename(columns={\"relevant_query\": \"positive\", \"irrelevant_query\": \"negative\"})\n",
    "merged_df = merged_df[[\"anchor\", \"positive\", \"negative\"]]\n",
    "print(merged_df.shape)\n",
    "merged_df.tail(5)"
   ]
  },
  {
   "cell_type": "markdown",
   "metadata": {},
   "source": [
    "## Dataset split\n"
   ]
  },
  {
   "cell_type": "code",
   "execution_count": 7,
   "metadata": {},
   "outputs": [
    {
     "data": {
      "text/plain": [
       "((17827, 3), (2477, 3), (4457, 3))"
      ]
     },
     "execution_count": 7,
     "metadata": {},
     "output_type": "execute_result"
    }
   ],
   "source": [
    "train_df, val_df = train_test_split(\n",
    "    merged_df, test_size=0.10, random_state=42, shuffle=True\n",
    ")\n",
    "train_df, test_df = train_test_split(\n",
    "    train_df, test_size=0.20, random_state=42, shuffle=True\n",
    ")\n",
    "\n",
    "train_df.reset_index(inplace=True, drop=True)\n",
    "test_df.reset_index(inplace=True, drop=True)\n",
    "val_df.reset_index(inplace=True, drop=True)\n",
    "\n",
    "train_df.shape, val_df.shape, test_df.shape"
   ]
  },
  {
   "cell_type": "code",
   "execution_count": 8,
   "metadata": {},
   "outputs": [],
   "source": [
    "train_df.to_csv(\"./datasets/train.csv\", index=False)\n",
    "test_df.to_csv(\"./datasets/test.csv\", index=False)\n",
    "val_df.to_csv(\"./datasets/val.csv\", index=False)"
   ]
  }
 ],
 "metadata": {
  "kernelspec": {
   "display_name": "venv",
   "language": "python",
   "name": "python3"
  },
  "language_info": {
   "codemirror_mode": {
    "name": "ipython",
    "version": 3
   },
   "file_extension": ".py",
   "mimetype": "text/x-python",
   "name": "python",
   "nbconvert_exporter": "python",
   "pygments_lexer": "ipython3",
   "version": "3.12.3"
  }
 },
 "nbformat": 4,
 "nbformat_minor": 2
}

{
 "cells": [
  {
   "cell_type": "code",
   "execution_count": 6,
   "metadata": {},
   "outputs": [],
   "source": [
    "import os\n",
    "\n",
    "PATH = os.getcwd() + \"/.cache/huggingface\"\n",
    "os.environ[\"HF_HOME\"] = PATH\n",
    "os.environ[\"HF_DATASETS_CACHE\"] = PATH\n",
    "os.environ[\"TORCH_HOME\"] = PATH\n",
    "\n",
    "from BM25 import BM25"
   ]
  },
  {
   "cell_type": "code",
   "execution_count": 7,
   "metadata": {},
   "outputs": [],
   "source": [
    "bm25 = BM25(\n",
    "    stopwords_dir=os.path.abspath(\"./stopwords\"),\n",
    "    languages=[\"english\", \"bengali\"],\n",
    ")"
   ]
  },
  {
   "cell_type": "code",
   "execution_count": 34,
   "metadata": {},
   "outputs": [
    {
     "name": "stdout",
     "output_type": "stream",
     "text": [
      "[{'values': [1.6832038254632398, 1.6832038254632398], 'indices': [39267, 77800]}, {'values': [1.6786885245901642, 1.6786885245901642, 1.6786885245901642], 'indices': [39267, 46674, 63778]}]\n",
      "CPU times: user 689 μs, sys: 1e+03 ns, total: 690 μs\n",
      "Wall time: 475 μs\n"
     ]
    }
   ],
   "source": [
    "%%time\n",
    "texts = [\"I eat rice\", \"I eat fish and milk\"]\n",
    "embedding = bm25.raw_embed(texts)\n",
    "print(embedding)"
   ]
  }
 ],
 "metadata": {
  "kernelspec": {
   "display_name": "venv",
   "language": "python",
   "name": "python3"
  },
  "language_info": {
   "codemirror_mode": {
    "name": "ipython",
    "version": 3
   },
   "file_extension": ".py",
   "mimetype": "text/x-python",
   "name": "python",
   "nbconvert_exporter": "python",
   "pygments_lexer": "ipython3",
   "version": "3.12.3"
  }
 },
 "nbformat": 4,
 "nbformat_minor": 2
}

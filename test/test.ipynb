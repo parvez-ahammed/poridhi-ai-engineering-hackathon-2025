{
 "cells": [
  {
   "cell_type": "code",
   "execution_count": 6,
   "metadata": {},
   "outputs": [],
   "source": [
    "import os\n",
    "\n",
    "PATH = os.getcwd() + \"/.cache/huggingface\"\n",
    "os.environ[\"HF_HOME\"] = PATH\n",
    "os.environ[\"HF_DATASETS_CACHE\"] = PATH\n",
    "os.environ[\"TORCH_HOME\"] = PATH\n",
    "\n",
    "from BM25 import BM25\n",
    "from fastembed import SparseTextEmbedding\n",
    "from pprint import pprint"
   ]
  },
  {
   "cell_type": "code",
   "execution_count": 3,
   "metadata": {},
   "outputs": [],
   "source": [
    "bm25 = BM25(\n",
    "    stopwords_dir=os.path.abspath(\"./stopwords\"),\n",
    "    languages=[\"english\", \"bengali\"],\n",
    ")"
   ]
  },
  {
   "cell_type": "code",
   "execution_count": 8,
   "metadata": {},
   "outputs": [
    {
     "name": "stdout",
     "output_type": "stream",
     "text": [
      "[{'indices': [39267, 77800],\n",
      "  'values': [1.6832038254632398, 1.6832038254632398]},\n",
      " {'indices': [39267, 46674, 63778],\n",
      "  'values': [1.6786885245901642, 1.6786885245901642, 1.6786885245901642]},\n",
      " {'indices': [249626, 206038],\n",
      "  'values': [1.6832038254632398, 1.6832038254632398]}]\n"
     ]
    }
   ],
   "source": [
    "texts = [\"I eat rice\", \"I eat fish and milk\", \"আমি ভাত খাই\"]\n",
    "embedding = bm25.raw_embed(texts)\n",
    "pprint(embedding)"
   ]
  }
 ],
 "metadata": {
  "kernelspec": {
   "display_name": "venv",
   "language": "python",
   "name": "python3"
  },
  "language_info": {
   "codemirror_mode": {
    "name": "ipython",
    "version": 3
   },
   "file_extension": ".py",
   "mimetype": "text/x-python",
   "name": "python",
   "nbconvert_exporter": "python",
   "pygments_lexer": "ipython3",
   "version": "3.12.3"
  }
 },
 "nbformat": 4,
 "nbformat_minor": 2
}

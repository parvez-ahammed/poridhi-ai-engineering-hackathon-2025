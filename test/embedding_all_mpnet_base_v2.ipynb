{
 "cells": [
  {
   "cell_type": "code",
   "execution_count": 1,
   "metadata": {},
   "outputs": [],
   "source": [
    "import os\n",
    "\n",
    "PATH = os.getcwd() + \"/.cache/huggingface\"\n",
    "os.environ[\"HF_HOME\"] = PATH\n",
    "os.environ[\"HF_DATASETS_CACHE\"] = PATH\n",
    "os.environ[\"TORCH_HOME\"] = PATH\n",
    "\n",
    "import torch\n",
    "from sentence_transformers import SentenceTransformer\n",
    "from tqdm.notebook import tqdm\n",
    "from qdrant_client import QdrantClient\n",
    "from qdrant_client.models import (\n",
    "    PointStruct,\n",
    "    Distance,\n",
    "    VectorParams,\n",
    "    SparseVectorParams,\n",
    "    Modifier,\n",
    "    Prefetch,\n",
    "    SparseVector,\n",
    "    FusionQuery,\n",
    "    Fusion,\n",
    ")\n",
    "import pandas as pd\n",
    "import math\n",
    "from tqdm.notebook import tqdm\n",
    "from BM25 import BM25\n",
    "from pprint import pprint\n",
    "import numpy as np"
   ]
  },
  {
   "cell_type": "code",
   "execution_count": 2,
   "metadata": {},
   "outputs": [],
   "source": [
    "DEVICE = torch.device(\"cuda\" if torch.cuda.is_available() else \"cpu\")\n",
    "model = SentenceTransformer(\"./trained_models/all_mpnet_base_v2\", device=DEVICE)\n",
    "\n",
    "bm25 = BM25(\n",
    "    stopwords_dir=os.path.abspath(\"./stopwords\"), languages=[\"english\", \"bengali\"]\n",
    ")"
   ]
  },
  {
   "cell_type": "code",
   "execution_count": 3,
   "metadata": {},
   "outputs": [],
   "source": [
    "COLLECTION_NAME = \"product_collection_all_mpnet_base_v2\"\n",
    "client = QdrantClient(url=\"http://localhost:6333\", timeout=600)"
   ]
  },
  {
   "cell_type": "code",
   "execution_count": 4,
   "metadata": {},
   "outputs": [
    {
     "data": {
      "text/plain": [
       "True"
      ]
     },
     "execution_count": 4,
     "metadata": {},
     "output_type": "execute_result"
    }
   ],
   "source": [
    "client.delete_collection(collection_name=COLLECTION_NAME)\n",
    "client.create_collection(\n",
    "    collection_name=COLLECTION_NAME,\n",
    "    vectors_config={\"dense_vector\": VectorParams(size=768, distance=Distance.COSINE)},\n",
    "    sparse_vectors_config={\"sparse_vector\": SparseVectorParams(modifier=Modifier.IDF)},\n",
    ")"
   ]
  },
  {
   "cell_type": "code",
   "execution_count": 5,
   "metadata": {},
   "outputs": [
    {
     "data": {
      "text/html": [
       "<div>\n",
       "<style scoped>\n",
       "    .dataframe tbody tr th:only-of-type {\n",
       "        vertical-align: middle;\n",
       "    }\n",
       "\n",
       "    .dataframe tbody tr th {\n",
       "        vertical-align: top;\n",
       "    }\n",
       "\n",
       "    .dataframe thead th {\n",
       "        text-align: right;\n",
       "    }\n",
       "</style>\n",
       "<table border=\"1\" class=\"dataframe\">\n",
       "  <thead>\n",
       "    <tr style=\"text-align: right;\">\n",
       "      <th></th>\n",
       "      <th>id</th>\n",
       "      <th>name</th>\n",
       "      <th>price</th>\n",
       "      <th>category</th>\n",
       "      <th>specification</th>\n",
       "    </tr>\n",
       "  </thead>\n",
       "  <tbody>\n",
       "    <tr>\n",
       "      <th>0</th>\n",
       "      <td>ff9f4b9c-64f8-4b20-8cbb-698db1302f05</td>\n",
       "      <td>AMD Ryzen 5 5600G Budget Desktop PC</td>\n",
       "      <td>26699</td>\n",
       "      <td>Star PC</td>\n",
       "      <td>Processor: AMD Ryzen 5 5600G Processor with Ra...</td>\n",
       "    </tr>\n",
       "    <tr>\n",
       "      <th>1</th>\n",
       "      <td>34c772a6-ef7d-4f3c-ae95-3c8acff1a1b4</td>\n",
       "      <td>AMD Ryzen 5 5600G Desktop PC</td>\n",
       "      <td>29500</td>\n",
       "      <td>Star PC</td>\n",
       "      <td>Processor: AMD Ryzen 5 5600G Processor with Ra...</td>\n",
       "    </tr>\n",
       "    <tr>\n",
       "      <th>2</th>\n",
       "      <td>e3c3d67a-5138-481b-930c-dcb64ea67b93</td>\n",
       "      <td>Intel 12th Gen Core i5-12400 Desktop PC</td>\n",
       "      <td>31200</td>\n",
       "      <td>Star PC</td>\n",
       "      <td>Processor: Intel 12th Gen Core i5-12400 Alder ...</td>\n",
       "    </tr>\n",
       "    <tr>\n",
       "      <th>3</th>\n",
       "      <td>797a3b0a-8c2b-4cf6-8a90-2f36a82bd722</td>\n",
       "      <td>AMD Ryzen 7 5700G Custom Desktop PC</td>\n",
       "      <td>32400</td>\n",
       "      <td>Star PC</td>\n",
       "      <td>Processor: AMD Ryzen 7 5700G Processor with Ra...</td>\n",
       "    </tr>\n",
       "    <tr>\n",
       "      <th>4</th>\n",
       "      <td>71be6c35-b744-4b69-8f1b-ee665c29a76a</td>\n",
       "      <td>AMD Ryzen 5 8500G Desktop PC</td>\n",
       "      <td>37499</td>\n",
       "      <td>Star PC</td>\n",
       "      <td>Processor: AMD Ryzen 5 8500G Processor with Ra...</td>\n",
       "    </tr>\n",
       "  </tbody>\n",
       "</table>\n",
       "</div>"
      ],
      "text/plain": [
       "                                     id  \\\n",
       "0  ff9f4b9c-64f8-4b20-8cbb-698db1302f05   \n",
       "1  34c772a6-ef7d-4f3c-ae95-3c8acff1a1b4   \n",
       "2  e3c3d67a-5138-481b-930c-dcb64ea67b93   \n",
       "3  797a3b0a-8c2b-4cf6-8a90-2f36a82bd722   \n",
       "4  71be6c35-b744-4b69-8f1b-ee665c29a76a   \n",
       "\n",
       "                                      name  price category  \\\n",
       "0      AMD Ryzen 5 5600G Budget Desktop PC  26699  Star PC   \n",
       "1             AMD Ryzen 5 5600G Desktop PC  29500  Star PC   \n",
       "2  Intel 12th Gen Core i5-12400 Desktop PC  31200  Star PC   \n",
       "3      AMD Ryzen 7 5700G Custom Desktop PC  32400  Star PC   \n",
       "4             AMD Ryzen 5 8500G Desktop PC  37499  Star PC   \n",
       "\n",
       "                                       specification  \n",
       "0  Processor: AMD Ryzen 5 5600G Processor with Ra...  \n",
       "1  Processor: AMD Ryzen 5 5600G Processor with Ra...  \n",
       "2  Processor: Intel 12th Gen Core i5-12400 Alder ...  \n",
       "3  Processor: AMD Ryzen 7 5700G Processor with Ra...  \n",
       "4  Processor: AMD Ryzen 5 8500G Processor with Ra...  "
      ]
     },
     "execution_count": 5,
     "metadata": {},
     "output_type": "execute_result"
    }
   ],
   "source": [
    "product_info_df = pd.read_excel(\"./datasets/startech.xlsx\")\n",
    "product_info_df = product_info_df.replace(np.nan, None)\n",
    "product_info_df.head(5)"
   ]
  },
  {
   "cell_type": "code",
   "execution_count": 6,
   "metadata": {},
   "outputs": [],
   "source": [
    "def format_product_details(name, price, specification):\n",
    "    product_details = \"\"\n",
    "    if specification is not None:\n",
    "        product_details = f\"Name: {name}\\nPrice: {price} taka\\n{specification.strip()}\"\n",
    "    else:\n",
    "        product_details = f\"Name: {name}\\nPrice: {price} taka\"\n",
    "\n",
    "    return product_details"
   ]
  },
  {
   "cell_type": "code",
   "execution_count": 7,
   "metadata": {},
   "outputs": [],
   "source": [
    "total_row = product_info_df.shape[0]\n",
    "batch_size = 10\n",
    "total_batch = math.ceil(total_row / batch_size)"
   ]
  },
  {
   "cell_type": "code",
   "execution_count": 8,
   "metadata": {},
   "outputs": [],
   "source": [
    "documents = []\n",
    "\n",
    "for idx, row in product_info_df.iterrows():\n",
    "    name = row[\"name\"]\n",
    "    specification = row[\"specification\"]\n",
    "    price = row[\"price\"]\n",
    "    formatted_document = format_product_details(name, price, specification)\n",
    "    documents.append(formatted_document)"
   ]
  },
  {
   "cell_type": "code",
   "execution_count": 9,
   "metadata": {},
   "outputs": [
    {
     "name": "stderr",
     "output_type": "stream",
     "text": [
      "Token indices sequence length is longer than the specified maximum sequence length for this model (527 > 512). Running this sequence through the model will result in indexing errors\n"
     ]
    },
    {
     "name": "stdout",
     "output_type": "stream",
     "text": [
      "145.60198926428797\n"
     ]
    }
   ],
   "source": [
    "bm25.calculate_avg_doc_len(documents)\n",
    "print(bm25.avg_len)"
   ]
  },
  {
   "cell_type": "code",
   "execution_count": 10,
   "metadata": {},
   "outputs": [
    {
     "data": {
      "application/vnd.jupyter.widget-view+json": {
       "model_id": "791d1a06303c4022b73b35a68dd871cf",
       "version_major": 2,
       "version_minor": 0
      },
      "text/plain": [
       "  0%|          | 0/634 [00:00<?, ?it/s]"
      ]
     },
     "metadata": {},
     "output_type": "display_data"
    },
    {
     "name": "stderr",
     "output_type": "stream",
     "text": [
      "/home/atiqur-rahman/venv/lib/python3.12/site-packages/torch/nn/modules/linear.py:125: UserWarning: Attempting to use hipBLASLt on an unsupported architecture! Overriding blas backend to hipblas (Triggered internally at /pytorch/aten/src/ATen/Context.cpp:310.)\n",
      "  return F.linear(input, self.weight, self.bias)\n"
     ]
    },
    {
     "name": "stdout",
     "output_type": "stream",
     "text": [
      "operation_id=633 status=<UpdateStatus.COMPLETED: 'completed'>\r"
     ]
    }
   ],
   "source": [
    "for start in tqdm(range(0, total_row, batch_size)):\n",
    "    batch = product_info_df.iloc[start : start + batch_size]\n",
    "    \n",
    "    names = batch[\"name\"]\n",
    "    specifications = batch[\"specification\"]\n",
    "    prices = batch[\"price\"]\n",
    "\n",
    "    texts_for_embedding = [\n",
    "        format_product_details(name, price, specification)\n",
    "        for name, specification, price in zip(names, specifications, prices)\n",
    "    ]\n",
    "    dense_vectors = model.encode(texts_for_embedding)\n",
    "    sparse_vectors = bm25.raw_embed(texts_for_embedding)\n",
    "\n",
    "    points = []\n",
    "    for idx, (batch_idx, row) in enumerate(batch.iterrows()):\n",
    "        name = row[\"name\"]\n",
    "        specification = row[\"specification\"]\n",
    "        price = row[\"price\"]\n",
    "\n",
    "        points.append(\n",
    "            PointStruct(\n",
    "                id=batch_idx,\n",
    "                vector={\n",
    "                    \"dense_vector\": dense_vectors[idx],\n",
    "                    \"sparse_vector\": sparse_vectors[idx],\n",
    "                },\n",
    "                payload={\n",
    "                    \"name\": name,\n",
    "                    \"specification\": specification,\n",
    "                    \"price\": price,\n",
    "                },\n",
    "            )\n",
    "        )\n",
    "\n",
    "    operation_info = client.upsert(\n",
    "        collection_name=COLLECTION_NAME, wait=True, points=points\n",
    "    )\n",
    "    print(operation_info, end=\"\\r\")"
   ]
  },
  {
   "cell_type": "code",
   "execution_count": 11,
   "metadata": {},
   "outputs": [],
   "source": [
    "def query(query_text: str, query_type: str = \"hybrid\"):\n",
    "    \n",
    "    dense_vector = model.encode([query_text])[0]\n",
    "    sparse_vector = bm25.raw_embed([query_text])[0]\n",
    "\n",
    "    prefetch = [\n",
    "        Prefetch(query=dense_vector, using=\"dense_vector\", limit=10),\n",
    "        Prefetch(query=SparseVector(**sparse_vector), using=\"sparse_vector\", limit=10),\n",
    "    ]\n",
    "\n",
    "    if query_type == \"hybrid\":\n",
    "        results = client.query_points(\n",
    "            collection_name=COLLECTION_NAME,\n",
    "            prefetch=prefetch,\n",
    "            query=FusionQuery(fusion=Fusion.RRF),\n",
    "            with_payload=True,\n",
    "            limit=5,\n",
    "        )\n",
    "\n",
    "    elif query_type == \"sparse\":\n",
    "        results = client.query_points(\n",
    "            collection_name=COLLECTION_NAME,\n",
    "            query=SparseVector(**sparse_vector),\n",
    "            using=\"sparse_vector\",\n",
    "            with_payload=True,\n",
    "            limit=5\n",
    "        )\n",
    "        \n",
    "    elif query_type == \"dense\":\n",
    "        results = client.query_points(\n",
    "            collection_name=COLLECTION_NAME,\n",
    "            query=dense_vector,\n",
    "            using=\"dense_vector\",\n",
    "            with_payload=True,\n",
    "            limit=5\n",
    "        )\n",
    "\n",
    "        \n",
    "    return [{\"score\": point.score, \"payload\": point.payload} for point in results.points]"
   ]
  },
  {
   "cell_type": "code",
   "execution_count": 16,
   "metadata": {},
   "outputs": [
    {
     "name": "stdout",
     "output_type": "stream",
     "text": [
      "[{'payload': {'name': 'Acer AC-750 750W 80 Plus Bronze Full Modular Power '\n",
      "                      'Supply',\n",
      "              'price': 7100,\n",
      "              'specification': 'Certification: 80 Plus Bronze\\n'\n",
      "                               'Fan Size: 120mm\\n'\n",
      "                               'Voltage: 230V\\n'\n",
      "                               'Modular Type: Full Modular\\n'\n",
      "                               'Total Power: 750W\\n'\n",
      "                               'Main Power: 24 (20+4)Pin x1\\n'\n",
      "                               'PCI-E: PCI-E (6+2)Pin x2\\n'\n",
      "                               'SATA: 350mm+150mm x1\\n'\n",
      "                               'Manufacturing Warranty: 5 Years\\n'},\n",
      "  'score': 0.67186385},\n",
      " {'payload': {'name': 'Acer AC-650 650W 80 Plus Bronze Full Modular Power '\n",
      "                      'Supply',\n",
      "              'price': 6100,\n",
      "              'specification': 'Certification: 80 Plus Bronze\\n'\n",
      "                               'Fan Size: 120mm\\n'\n",
      "                               'Voltage: 230V\\n'\n",
      "                               'Modular Type: Full Modular\\n'\n",
      "                               'Total Power: 650W\\n'\n",
      "                               'Main Power: 24 (20+4)Pin x1\\n'\n",
      "                               'PCI-E: PCI-E (6+2)Pin x2\\n'\n",
      "                               'SATA: 350mm+150mm x1\\n'\n",
      "                               'Manufacturing Warranty: 5 Years\\n'},\n",
      "  'score': 0.65210503},\n",
      " {'payload': {'name': 'Acer AC-1000 1000W 80 Plus GOLD Full Modular Power '\n",
      "                      'Supply',\n",
      "              'price': 13000,\n",
      "              'specification': 'Certification: 80 Plus GOLD\\n'\n",
      "                               'Fan Size: 120mm\\n'\n",
      "                               'Voltage: 90V-260V\\n'\n",
      "                               'Frequency Range: 60/50Hz\\n'\n",
      "                               'Current: 11A\\n'\n",
      "                               'Modular Type: Full Modular\\n'\n",
      "                               'Total Power: 1000W\\n'\n",
      "                               'Main Power: 1x 24pin: 55cm\\n'\n",
      "                               'CPU: 2x 4+4pin ATX12V: 60cm + 15cm\\n'\n",
      "                               'PCI-E: 3x 6+2pin PCIe: 55cm\\n'\n",
      "                               'SATA: 5x SATA: 50cm + 15cm + 15cm\\n'\n",
      "                               'Manufacturing Warranty: 10 Years\\n'},\n",
      "  'score': 0.6408924},\n",
      " {'payload': {'name': 'PC Power PC-PC350W PLUS 350W Power Supply',\n",
      "              'price': 2400,\n",
      "              'specification': 'Fan Size: 120mm\\n'\n",
      "                               'Voltage: 100VAC - 240VAC\\n'\n",
      "                               'Frequency Range: 50Hz\\n'\n",
      "                               'Current: 5A\\n'\n",
      "                               'Total Power: 350W\\n'\n",
      "                               'AC Input: 100VAC - 240VAC\\n'\n",
      "                               'Main Power: 4-Pin\\n'\n",
      "                               'Manufacturing Warranty: 2 Years\\n'},\n",
      "  'score': 0.63542235},\n",
      " {'payload': {'name': 'Acer AC-550 550W 80 Plus Bronze Full Modular Power '\n",
      "                      'Supply',\n",
      "              'price': 5100,\n",
      "              'specification': 'Certification: 80 Plus Bronze\\n'\n",
      "                               'Fan Size: 120mm\\n'\n",
      "                               'Voltage: 230V\\n'\n",
      "                               'Modular Type: Full Modular\\n'\n",
      "                               'Total Power: 550W\\n'\n",
      "                               'Main Power: 24 (20+4)Pin x1\\n'\n",
      "                               'PCI-E: PCI-E (6+2)Pin x2\\n'\n",
      "                               'SATA: 350mm+150mm x1\\n'\n",
      "                               'Manufacturing Warranty: 5 Years\\n'},\n",
      "  'score': 0.62894607}]\n"
     ]
    }
   ],
   "source": [
    "query_result = query(\"পাওয়ার সাপ্লাই\", \"dense\")\n",
    "pprint(query_result)"
   ]
  }
 ],
 "metadata": {
  "kernelspec": {
   "display_name": "venv",
   "language": "python",
   "name": "python3"
  },
  "language_info": {
   "codemirror_mode": {
    "name": "ipython",
    "version": 3
   },
   "file_extension": ".py",
   "mimetype": "text/x-python",
   "name": "python",
   "nbconvert_exporter": "python",
   "pygments_lexer": "ipython3",
   "version": "3.12.3"
  }
 },
 "nbformat": 4,
 "nbformat_minor": 2
}

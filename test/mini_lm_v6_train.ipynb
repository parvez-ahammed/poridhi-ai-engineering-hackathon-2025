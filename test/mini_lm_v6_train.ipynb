{
 "cells": [
  {
   "cell_type": "code",
   "execution_count": 1,
   "metadata": {
    "_cell_guid": "b1076dfc-b9ad-4769-8c92-a6c4dae69d19",
    "_uuid": "8f2839f25d086af736a60e9eeb907d3b93b6e0e5",
    "execution": {
     "iopub.execute_input": "2025-04-03T15:27:32.713695Z",
     "iopub.status.busy": "2025-04-03T15:27:32.713388Z",
     "iopub.status.idle": "2025-04-03T15:27:56.775739Z",
     "shell.execute_reply": "2025-04-03T15:27:56.774668Z",
     "shell.execute_reply.started": "2025-04-03T15:27:32.713669Z"
    },
    "trusted": true
   },
   "outputs": [],
   "source": [
    "from datasets import Dataset\n",
    "from sentence_transformers import (\n",
    "    SentenceTransformer,\n",
    "    SentenceTransformerTrainer,\n",
    "    SentenceTransformerTrainingArguments,\n",
    ")\n",
    "from sentence_transformers.losses import MultipleNegativesRankingLoss\n",
    "from sentence_transformers.training_args import BatchSamplers\n",
    "from sentence_transformers.evaluation import TripletEvaluator\n",
    "import torch\n",
    "import os\n",
    "\n",
    "os.environ[\"WANDB_API_KEY\"] = \"3b43fe4333c7cce0371f54dbf0875c8862787619\"\n",
    "os.environ[\"SENTENCE_TRANSFORMERS_HOME\"] = \"./\""
   ]
  },
  {
   "cell_type": "code",
   "execution_count": 2,
   "metadata": {
    "execution": {
     "iopub.execute_input": "2025-04-03T15:27:56.778296Z",
     "iopub.status.busy": "2025-04-03T15:27:56.777393Z",
     "iopub.status.idle": "2025-04-03T15:27:56.851396Z",
     "shell.execute_reply": "2025-04-03T15:27:56.850312Z",
     "shell.execute_reply.started": "2025-04-03T15:27:56.778252Z"
    },
    "trusted": true
   },
   "outputs": [],
   "source": [
    "DEVICE = torch.device(\"cuda\" if torch.cuda.is_available() else \"cpu\")"
   ]
  },
  {
   "cell_type": "code",
   "execution_count": 3,
   "metadata": {
    "execution": {
     "iopub.execute_input": "2025-04-03T15:27:56.853933Z",
     "iopub.status.busy": "2025-04-03T15:27:56.853455Z",
     "iopub.status.idle": "2025-04-03T15:27:57.588680Z",
     "shell.execute_reply": "2025-04-03T15:27:57.587771Z",
     "shell.execute_reply.started": "2025-04-03T15:27:56.853872Z"
    },
    "trusted": true
   },
   "outputs": [
    {
     "data": {
      "application/vnd.jupyter.widget-view+json": {
       "model_id": "aa2127a125c3453bbaa0d6509bb5bbec",
       "version_major": 2,
       "version_minor": 0
      },
      "text/plain": [
       "Generating train split: 0 examples [00:00, ? examples/s]"
      ]
     },
     "metadata": {},
     "output_type": "display_data"
    },
    {
     "data": {
      "application/vnd.jupyter.widget-view+json": {
       "model_id": "b3b475d5ec3640df83b23b90e96fffca",
       "version_major": 2,
       "version_minor": 0
      },
      "text/plain": [
       "Generating train split: 0 examples [00:00, ? examples/s]"
      ]
     },
     "metadata": {},
     "output_type": "display_data"
    },
    {
     "data": {
      "application/vnd.jupyter.widget-view+json": {
       "model_id": "2146e7f8142b4581a2079735805ca1fd",
       "version_major": 2,
       "version_minor": 0
      },
      "text/plain": [
       "Generating train split: 0 examples [00:00, ? examples/s]"
      ]
     },
     "metadata": {},
     "output_type": "display_data"
    },
    {
     "data": {
      "text/plain": [
       "(Dataset({\n",
       "     features: ['anchor', 'positive', 'negative'],\n",
       "     num_rows: 17592\n",
       " }),\n",
       " Dataset({\n",
       "     features: ['anchor', 'positive', 'negative'],\n",
       "     num_rows: 4398\n",
       " }),\n",
       " Dataset({\n",
       "     features: ['anchor', 'positive', 'negative'],\n",
       "     num_rows: 2444\n",
       " }))"
      ]
     },
     "execution_count": 3,
     "metadata": {},
     "output_type": "execute_result"
    }
   ],
   "source": [
    "train_csv_dir = \"/kaggle/input/startech-product-train-dataset/train.csv\"\n",
    "test_csv_dir = \"/kaggle/input/startech-product-train-dataset/test.csv\"\n",
    "val_csv_dir = \"/kaggle/input/startech-product-train-dataset/val.csv\"\n",
    "\n",
    "train_dataset = Dataset.from_csv(train_csv_dir)\n",
    "test_dataset = Dataset.from_csv(test_csv_dir)\n",
    "eval_dataset = Dataset.from_csv(val_csv_dir)\n",
    "train_dataset, test_dataset, eval_dataset"
   ]
  },
  {
   "cell_type": "code",
   "execution_count": 4,
   "metadata": {
    "execution": {
     "iopub.execute_input": "2025-04-03T15:28:08.389191Z",
     "iopub.status.busy": "2025-04-03T15:28:08.388834Z",
     "iopub.status.idle": "2025-04-03T15:28:13.190635Z",
     "shell.execute_reply": "2025-04-03T15:28:13.189857Z",
     "shell.execute_reply.started": "2025-04-03T15:28:08.389162Z"
    },
    "trusted": true
   },
   "outputs": [
    {
     "data": {
      "application/vnd.jupyter.widget-view+json": {
       "model_id": "0d88d70f80844a08bf5569591c3514b3",
       "version_major": 2,
       "version_minor": 0
      },
      "text/plain": [
       "modules.json:   0%|          | 0.00/349 [00:00<?, ?B/s]"
      ]
     },
     "metadata": {},
     "output_type": "display_data"
    },
    {
     "data": {
      "application/vnd.jupyter.widget-view+json": {
       "model_id": "547707690a514669ac4a811c7940442d",
       "version_major": 2,
       "version_minor": 0
      },
      "text/plain": [
       "config_sentence_transformers.json:   0%|          | 0.00/116 [00:00<?, ?B/s]"
      ]
     },
     "metadata": {},
     "output_type": "display_data"
    },
    {
     "data": {
      "application/vnd.jupyter.widget-view+json": {
       "model_id": "6031f0c0de774b6b888396a00fc4ab41",
       "version_major": 2,
       "version_minor": 0
      },
      "text/plain": [
       "README.md:   0%|          | 0.00/10.5k [00:00<?, ?B/s]"
      ]
     },
     "metadata": {},
     "output_type": "display_data"
    },
    {
     "data": {
      "application/vnd.jupyter.widget-view+json": {
       "model_id": "f55132eb1def4a088063ce43e2efcd92",
       "version_major": 2,
       "version_minor": 0
      },
      "text/plain": [
       "sentence_bert_config.json:   0%|          | 0.00/53.0 [00:00<?, ?B/s]"
      ]
     },
     "metadata": {},
     "output_type": "display_data"
    },
    {
     "data": {
      "application/vnd.jupyter.widget-view+json": {
       "model_id": "e45ca0f4652a44a881976253f3fa042c",
       "version_major": 2,
       "version_minor": 0
      },
      "text/plain": [
       "config.json:   0%|          | 0.00/612 [00:00<?, ?B/s]"
      ]
     },
     "metadata": {},
     "output_type": "display_data"
    },
    {
     "data": {
      "application/vnd.jupyter.widget-view+json": {
       "model_id": "774224b60eac4b6685c14fe0c0fa531e",
       "version_major": 2,
       "version_minor": 0
      },
      "text/plain": [
       "model.safetensors:   0%|          | 0.00/90.9M [00:00<?, ?B/s]"
      ]
     },
     "metadata": {},
     "output_type": "display_data"
    },
    {
     "data": {
      "application/vnd.jupyter.widget-view+json": {
       "model_id": "e8ae22ee4c37459cbd2c8779abccbf20",
       "version_major": 2,
       "version_minor": 0
      },
      "text/plain": [
       "tokenizer_config.json:   0%|          | 0.00/350 [00:00<?, ?B/s]"
      ]
     },
     "metadata": {},
     "output_type": "display_data"
    },
    {
     "data": {
      "application/vnd.jupyter.widget-view+json": {
       "model_id": "679aee75c31947e983150f582cdd825c",
       "version_major": 2,
       "version_minor": 0
      },
      "text/plain": [
       "vocab.txt:   0%|          | 0.00/232k [00:00<?, ?B/s]"
      ]
     },
     "metadata": {},
     "output_type": "display_data"
    },
    {
     "data": {
      "application/vnd.jupyter.widget-view+json": {
       "model_id": "31c0f909f4114e07806ad24b4460e337",
       "version_major": 2,
       "version_minor": 0
      },
      "text/plain": [
       "tokenizer.json:   0%|          | 0.00/466k [00:00<?, ?B/s]"
      ]
     },
     "metadata": {},
     "output_type": "display_data"
    },
    {
     "data": {
      "application/vnd.jupyter.widget-view+json": {
       "model_id": "eef6698d5b154ee0917bddc30a95e4db",
       "version_major": 2,
       "version_minor": 0
      },
      "text/plain": [
       "special_tokens_map.json:   0%|          | 0.00/112 [00:00<?, ?B/s]"
      ]
     },
     "metadata": {},
     "output_type": "display_data"
    },
    {
     "data": {
      "application/vnd.jupyter.widget-view+json": {
       "model_id": "f595d00fd82e418d931ba9829de6b2b0",
       "version_major": 2,
       "version_minor": 0
      },
      "text/plain": [
       "config.json:   0%|          | 0.00/190 [00:00<?, ?B/s]"
      ]
     },
     "metadata": {},
     "output_type": "display_data"
    }
   ],
   "source": [
    "model_name = \"all-MiniLM-L6-v2\"\n",
    "model = SentenceTransformer(f\"sentence-transformers/{model_name}\", device=DEVICE)\n",
    "loss = MultipleNegativesRankingLoss(model)"
   ]
  },
  {
   "cell_type": "code",
   "execution_count": 5,
   "metadata": {
    "execution": {
     "iopub.execute_input": "2025-04-03T15:28:13.191935Z",
     "iopub.status.busy": "2025-04-03T15:28:13.191636Z",
     "iopub.status.idle": "2025-04-03T15:28:13.223763Z",
     "shell.execute_reply": "2025-04-03T15:28:13.223039Z",
     "shell.execute_reply.started": "2025-04-03T15:28:13.191912Z"
    },
    "trusted": true
   },
   "outputs": [],
   "source": [
    "args = SentenceTransformerTrainingArguments(\n",
    "    # Required parameter:\n",
    "    output_dir=f\"./trained_models/{model_name}\",\n",
    "    # Optional training parameters:\n",
    "    num_train_epochs=25,\n",
    "    per_device_train_batch_size=32,\n",
    "    per_device_eval_batch_size=32,\n",
    "    warmup_ratio=0.1,\n",
    "    fp16=True,  # Set to False if GPU can't handle FP16\n",
    "    bf16=False,  # Set to True if GPU supports BF16\n",
    "    batch_sampler=BatchSamplers.NO_DUPLICATES,  # MultipleNegativesRankingLoss benefits from no duplicates\n",
    "    dataloader_num_workers=os.cpu_count(),\n",
    "    dataloader_pin_memory=True,\n",
    "    # Optional tracking/debugging parameters:\n",
    "    eval_strategy=\"epoch\",\n",
    "    save_total_limit = 2,\n",
    "    save_strategy = \"epoch\",\n",
    "    load_best_model_at_end=True,\n",
    "    metric_for_best_model=\"eval_loss\",\n",
    "    greater_is_better=False,\n",
    "    logging_steps=100,\n",
    "    run_name=f\"{model_name}-train\"\n",
    ")"
   ]
  },
  {
   "cell_type": "code",
   "execution_count": 6,
   "metadata": {
    "execution": {
     "iopub.execute_input": "2025-04-03T15:28:14.071483Z",
     "iopub.status.busy": "2025-04-03T15:28:14.071144Z",
     "iopub.status.idle": "2025-04-03T15:28:23.245397Z",
     "shell.execute_reply": "2025-04-03T15:28:23.244418Z",
     "shell.execute_reply.started": "2025-04-03T15:28:14.071455Z"
    },
    "trusted": true
   },
   "outputs": [
    {
     "data": {
      "text/plain": [
       "{'all-MiniLM-L6-v2-test_cosine_accuracy': 0.9374715779899955}"
      ]
     },
     "execution_count": 6,
     "metadata": {},
     "output_type": "execute_result"
    }
   ],
   "source": [
    "test_evaluator = TripletEvaluator(\n",
    "    anchors=test_dataset[\"anchor\"],\n",
    "    positives=test_dataset[\"positive\"],\n",
    "    negatives=test_dataset[\"negative\"],\n",
    "    name=f\"{model_name}-test\",\n",
    ")\n",
    "test_evaluator(model)"
   ]
  },
  {
   "cell_type": "code",
   "execution_count": 7,
   "metadata": {
    "execution": {
     "iopub.execute_input": "2025-04-03T15:28:23.246914Z",
     "iopub.status.busy": "2025-04-03T15:28:23.246538Z",
     "iopub.status.idle": "2025-04-03T15:28:23.259210Z",
     "shell.execute_reply": "2025-04-03T15:28:23.258445Z",
     "shell.execute_reply.started": "2025-04-03T15:28:23.246888Z"
    },
    "trusted": true
   },
   "outputs": [],
   "source": [
    "dev_evaluator = TripletEvaluator(\n",
    "    anchors=eval_dataset[\"anchor\"],\n",
    "    positives=eval_dataset[\"positive\"],\n",
    "    negatives=eval_dataset[\"negative\"],\n",
    "    name=f\"{model_name}-dev\",\n",
    ")"
   ]
  },
  {
   "cell_type": "code",
   "execution_count": 8,
   "metadata": {
    "execution": {
     "iopub.execute_input": "2025-04-03T15:28:23.261384Z",
     "iopub.status.busy": "2025-04-03T15:28:23.261064Z",
     "iopub.status.idle": "2025-04-03T15:29:52.196340Z",
     "shell.execute_reply": "2025-04-03T15:29:52.195429Z",
     "shell.execute_reply.started": "2025-04-03T15:28:23.261347Z"
    },
    "trusted": true
   },
   "outputs": [
    {
     "name": "stderr",
     "output_type": "stream",
     "text": [
      "\u001b[34m\u001b[1mwandb\u001b[0m: Using wandb-core as the SDK backend.  Please refer to https://wandb.me/wandb-core for more information.\n",
      "\u001b[34m\u001b[1mwandb\u001b[0m: Currently logged in as: \u001b[33mani-atikur99\u001b[0m. Use \u001b[1m`wandb login --relogin`\u001b[0m to force relogin\n"
     ]
    },
    {
     "data": {
      "text/html": [
       "Tracking run with wandb version 0.19.1"
      ],
      "text/plain": [
       "<IPython.core.display.HTML object>"
      ]
     },
     "metadata": {},
     "output_type": "display_data"
    },
    {
     "data": {
      "text/html": [
       "Run data is saved locally in <code>/kaggle/working/wandb/run-20250403_152832-mnb3mjkx</code>"
      ],
      "text/plain": [
       "<IPython.core.display.HTML object>"
      ]
     },
     "metadata": {},
     "output_type": "display_data"
    },
    {
     "data": {
      "text/html": [
       "Syncing run <strong><a href='https://wandb.ai/ani-atikur99/sentence-transformers/runs/mnb3mjkx' target=\"_blank\">all-MiniLM-L6-v2-train</a></strong> to <a href='https://wandb.ai/ani-atikur99/sentence-transformers' target=\"_blank\">Weights & Biases</a> (<a href='https://wandb.me/developer-guide' target=\"_blank\">docs</a>)<br>"
      ],
      "text/plain": [
       "<IPython.core.display.HTML object>"
      ]
     },
     "metadata": {},
     "output_type": "display_data"
    },
    {
     "data": {
      "text/html": [
       " View project at <a href='https://wandb.ai/ani-atikur99/sentence-transformers' target=\"_blank\">https://wandb.ai/ani-atikur99/sentence-transformers</a>"
      ],
      "text/plain": [
       "<IPython.core.display.HTML object>"
      ]
     },
     "metadata": {},
     "output_type": "display_data"
    },
    {
     "data": {
      "text/html": [
       " View run at <a href='https://wandb.ai/ani-atikur99/sentence-transformers/runs/mnb3mjkx' target=\"_blank\">https://wandb.ai/ani-atikur99/sentence-transformers/runs/mnb3mjkx</a>"
      ],
      "text/plain": [
       "<IPython.core.display.HTML object>"
      ]
     },
     "metadata": {},
     "output_type": "display_data"
    },
    {
     "data": {
      "text/html": [
       "\n",
       "    <div>\n",
       "      \n",
       "      <progress value='231' max='231' style='width:300px; height:20px; vertical-align: middle;'></progress>\n",
       "      [231/231 01:11, Epoch 3/3]\n",
       "    </div>\n",
       "    <table border=\"1\" class=\"dataframe\">\n",
       "  <thead>\n",
       " <tr style=\"text-align: left;\">\n",
       "      <th>Epoch</th>\n",
       "      <th>Training Loss</th>\n",
       "      <th>Validation Loss</th>\n",
       "      <th>All-minilm-l6-v2-dev Cosine Accuracy</th>\n",
       "    </tr>\n",
       "  </thead>\n",
       "  <tbody>\n",
       "    <tr>\n",
       "      <td>1</td>\n",
       "      <td>No log</td>\n",
       "      <td>0.117185</td>\n",
       "      <td>0.990180</td>\n",
       "    </tr>\n",
       "    <tr>\n",
       "      <td>2</td>\n",
       "      <td>0.350400</td>\n",
       "      <td>0.048168</td>\n",
       "      <td>0.997136</td>\n",
       "    </tr>\n",
       "    <tr>\n",
       "      <td>3</td>\n",
       "      <td>0.098600</td>\n",
       "      <td>0.033434</td>\n",
       "      <td>0.999182</td>\n",
       "    </tr>\n",
       "  </tbody>\n",
       "</table><p>"
      ],
      "text/plain": [
       "<IPython.core.display.HTML object>"
      ]
     },
     "metadata": {},
     "output_type": "display_data"
    },
    {
     "data": {
      "application/vnd.jupyter.widget-view+json": {
       "model_id": "",
       "version_major": 2,
       "version_minor": 0
      },
      "text/plain": [
       "Computing widget examples:   0%|          | 0/1 [00:00<?, ?example/s]"
      ]
     },
     "metadata": {},
     "output_type": "display_data"
    },
    {
     "data": {
      "text/plain": [
       "TrainOutput(global_step=231, training_loss=0.20494226975874466, metrics={'train_runtime': 85.7009, 'train_samples_per_second': 85.553, 'train_steps_per_second': 2.695, 'total_flos': 0.0, 'train_loss': 0.20494226975874466, 'epoch': 3.0})"
      ]
     },
     "execution_count": 8,
     "metadata": {},
     "output_type": "execute_result"
    }
   ],
   "source": [
    "trainer = SentenceTransformerTrainer(\n",
    "    model=model,\n",
    "    args=args,\n",
    "    train_dataset=train_dataset,\n",
    "    eval_dataset=eval_dataset,\n",
    "    loss=loss,\n",
    "    evaluator=dev_evaluator,\n",
    ")\n",
    "\n",
    "trainer.train()"
   ]
  },
  {
   "cell_type": "code",
   "execution_count": 11,
   "metadata": {
    "execution": {
     "iopub.execute_input": "2025-04-03T15:31:52.988008Z",
     "iopub.status.busy": "2025-04-03T15:31:52.987605Z",
     "iopub.status.idle": "2025-04-03T15:32:03.427505Z",
     "shell.execute_reply": "2025-04-03T15:32:03.426467Z",
     "shell.execute_reply.started": "2025-04-03T15:31:52.987952Z"
    },
    "trusted": true
   },
   "outputs": [
    {
     "data": {
      "text/plain": [
       "{'all-MiniLM-L6-v2-test_cosine_accuracy': 0.9799909049567985}"
      ]
     },
     "execution_count": 11,
     "metadata": {},
     "output_type": "execute_result"
    }
   ],
   "source": [
    "test_evaluator(model)"
   ]
  },
  {
   "cell_type": "code",
   "execution_count": 10,
   "metadata": {
    "execution": {
     "iopub.execute_input": "2025-04-03T15:30:27.048014Z",
     "iopub.status.busy": "2025-04-03T15:30:27.047598Z",
     "iopub.status.idle": "2025-04-03T15:30:27.436061Z",
     "shell.execute_reply": "2025-04-03T15:30:27.435034Z",
     "shell.execute_reply.started": "2025-04-03T15:30:27.047967Z"
    },
    "trusted": true
   },
   "outputs": [
    {
     "name": "stderr",
     "output_type": "stream",
     "text": [
      "\u001b[34m\u001b[1mwandb\u001b[0m: \u001b[33mWARNING\u001b[0m Fatal error while uploading data. Some run data will not be synced, but it will still be written to disk. Use `wandb sync` at the end of the run to try uploading.\n"
     ]
    }
   ],
   "source": [
    "trainer.save_model(\"./best_model\")"
   ]
  }
 ],
 "metadata": {
  "kaggle": {
   "accelerator": "gpu",
   "dataSources": [
    {
     "datasetId": 7041217,
     "sourceId": 11264883,
     "sourceType": "datasetVersion"
    }
   ],
   "dockerImageVersionId": 30919,
   "isGpuEnabled": true,
   "isInternetEnabled": true,
   "language": "python",
   "sourceType": "notebook"
  },
  "kernelspec": {
   "display_name": "venv",
   "language": "python",
   "name": "python3"
  },
  "language_info": {
   "codemirror_mode": {
    "name": "ipython",
    "version": 3
   },
   "file_extension": ".py",
   "mimetype": "text/x-python",
   "name": "python",
   "nbconvert_exporter": "python",
   "pygments_lexer": "ipython3",
   "version": "3.12.3"
  }
 },
 "nbformat": 4,
 "nbformat_minor": 4
}

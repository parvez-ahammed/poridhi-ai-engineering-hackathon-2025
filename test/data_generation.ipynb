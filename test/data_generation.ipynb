{
 "cells": [
  {
   "cell_type": "code",
   "execution_count": null,
   "metadata": {},
   "outputs": [],
   "source": [
    "import ollama\n",
    "from pprint import pprint\n",
    "from pydantic import BaseModel\n",
    "import pandas as pd\n",
    "from random import randint\n",
    "import numpy as np\n",
    "from tqdm.notebook import tqdm"
   ]
  },
  {
   "cell_type": "code",
   "execution_count": null,
   "metadata": {},
   "outputs": [],
   "source": [
    "product_df = pd.read_csv(\"./final_5000_products.csv\")\n",
    "product_df = product_df.replace(np.nan, None)\n",
    "product_df.head(5)"
   ]
  },
  {
   "cell_type": "code",
   "execution_count": null,
   "metadata": {},
   "outputs": [],
   "source": [
    "class Query(BaseModel):\n",
    "    relevant_query: list[str]\n",
    "    irrelevant_query: list[str]"
   ]
  },
  {
   "cell_type": "code",
   "execution_count": null,
   "metadata": {},
   "outputs": [],
   "source": [
    "def format_product_details(name, price, description):\n",
    "    product_details = \"\"\n",
    "    if description is not None:\n",
    "        product_details = f\"Name: {name}\\nPrice: {price} taka\\n{description}\"\n",
    "    else:\n",
    "        product_details = f\"Name: {name}\\nPrice: {price} taka\"\n",
    "\n",
    "    return product_details"
   ]
  },
  {
   "cell_type": "code",
   "execution_count": null,
   "metadata": {},
   "outputs": [],
   "source": [
    "model = \"llama3.2\"\n",
    "system_prompt = \"Based on the product description, give five exact product-relevant and five irrelevant queries without specifying any country that a user might search on an e-commerce platform.\"\n",
    "# Include product attributes and in relevant queries"
   ]
  },
  {
   "cell_type": "code",
   "execution_count": null,
   "metadata": {},
   "outputs": [],
   "source": [
    "idx = randint(0, product_df.shape[0])\n",
    "name = product_df[\"title\"][idx]\n",
    "price = product_df[\"price\"][idx]\n",
    "description = product_df[\"description\"][idx]\n",
    "product_details = format_product_details(name, price, description)\n",
    "\n",
    "response = ollama.generate(\n",
    "    model=model,\n",
    "    system=system_prompt,\n",
    "    prompt=product_details,\n",
    "    format=Query.model_json_schema(),\n",
    "    options={\"temperature\": 0.25, \"top_k\": 5, \"top_p\": 0.65, \"num_predict\": 2048},\n",
    ")\n",
    "\n",
    "query = Query.model_validate_json(response.response)\n",
    "\n",
    "print(f\"Product details: {product_details}\\n\")\n",
    "print(f\"Relevent query: {query.relevant_query}\")\n",
    "print(f\"Irrelevant query: {query.irrelevant_query}\")"
   ]
  },
  {
   "cell_type": "code",
   "execution_count": null,
   "metadata": {},
   "outputs": [],
   "source": [
    "queries = {\n",
    "    \"product_id\": [],\n",
    "    \"relevant_query\": [],\n",
    "    \"irrelevant_query\": [],\n",
    "}\n",
    "\n",
    "start = 0\n",
    "end = 500\n",
    "\n",
    "for idx in tqdm(range(start, end)):\n",
    "    id = product_df[\"id\"][idx]\n",
    "    name = product_df[\"title\"][idx]\n",
    "    price = product_df[\"price\"][idx]\n",
    "    description = product_df[\"description\"][idx]\n",
    "\n",
    "    product_details = format_product_details(name, price, description)\n",
    "\n",
    "    response = ollama.generate(\n",
    "        model=model,\n",
    "        system=system_prompt,\n",
    "        prompt=product_details,\n",
    "        format=Query.model_json_schema(),\n",
    "        options={\"temperature\": 0.25, \"top_k\": 5, \"top_p\": 0.65, \"num_predict\": 2048},\n",
    "    )\n",
    "\n",
    "    query = Query.model_validate_json(response.response)\n",
    "    min_len = min(5, min(len(query.relevant_query), len(query.irrelevant_query)))\n",
    "    relevant_query = query.relevant_query[:min_len]\n",
    "    irrelevant_query = query.irrelevant_query[:min_len]\n",
    "\n",
    "    # print(f\"Relevent query: {relevant_query}\")\n",
    "    # print(f\"Irrelevant query: {irrelevant_query}\")\n",
    "\n",
    "    queries[\"product_id\"].extend([id] * min_len)\n",
    "    queries[\"relevant_query\"].extend(relevant_query)\n",
    "    queries[\"irrelevant_query\"].extend(irrelevant_query)"
   ]
  },
  {
   "cell_type": "code",
   "execution_count": null,
   "metadata": {},
   "outputs": [],
   "source": [
    "query_df = pd.DataFrame.from_dict(queries)\n",
    "query_df.to_csv(f\"./generated_queries/queries_{start}_{end}.csv\", index=False)"
   ]
  }
 ],
 "metadata": {
  "kernelspec": {
   "display_name": "venv",
   "language": "python",
   "name": "python3"
  },
  "language_info": {
   "codemirror_mode": {
    "name": "ipython",
    "version": 3
   },
   "file_extension": ".py",
   "mimetype": "text/x-python",
   "name": "python",
   "nbconvert_exporter": "python",
   "pygments_lexer": "ipython3",
   "version": "3.12.3"
  }
 },
 "nbformat": 4,
 "nbformat_minor": 2
}

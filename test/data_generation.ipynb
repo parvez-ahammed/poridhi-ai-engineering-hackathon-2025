{
 "cells": [
  {
   "cell_type": "code",
   "execution_count": 1,
   "metadata": {},
   "outputs": [],
   "source": [
    "import ollama\n",
    "from pprint import pprint\n",
    "from pydantic import BaseModel\n",
    "import pandas as pd\n",
    "from random import randint\n",
    "import numpy as np\n",
    "from tqdm.notebook import tqdm"
   ]
  },
  {
   "cell_type": "code",
   "execution_count": 3,
   "metadata": {},
   "outputs": [
    {
     "data": {
      "text/html": [
       "<div>\n",
       "<style scoped>\n",
       "    .dataframe tbody tr th:only-of-type {\n",
       "        vertical-align: middle;\n",
       "    }\n",
       "\n",
       "    .dataframe tbody tr th {\n",
       "        vertical-align: top;\n",
       "    }\n",
       "\n",
       "    .dataframe thead th {\n",
       "        text-align: right;\n",
       "    }\n",
       "</style>\n",
       "<table border=\"1\" class=\"dataframe\">\n",
       "  <thead>\n",
       "    <tr style=\"text-align: right;\">\n",
       "      <th></th>\n",
       "      <th>id</th>\n",
       "      <th>name</th>\n",
       "      <th>price</th>\n",
       "      <th>category</th>\n",
       "      <th>specification</th>\n",
       "    </tr>\n",
       "  </thead>\n",
       "  <tbody>\n",
       "    <tr>\n",
       "      <th>0</th>\n",
       "      <td>6195dfc6-1544-450f-adb0-a7c31c47ddd6</td>\n",
       "      <td>AMD Ryzen 5 5600G Budget Desktop PC</td>\n",
       "      <td>26699</td>\n",
       "      <td>Star PC</td>\n",
       "      <td>Processor: AMD Ryzen 5 5600G Processor with Ra...</td>\n",
       "    </tr>\n",
       "    <tr>\n",
       "      <th>1</th>\n",
       "      <td>0ea7d2cb-9d73-4abb-9986-f9c0d44c5c5f</td>\n",
       "      <td>AMD Ryzen 5 5600G Desktop PC</td>\n",
       "      <td>29500</td>\n",
       "      <td>Star PC</td>\n",
       "      <td>Processor: AMD Ryzen 5 5600G Processor with Ra...</td>\n",
       "    </tr>\n",
       "    <tr>\n",
       "      <th>2</th>\n",
       "      <td>5aaf0d1a-8304-4849-8c96-ecb9d3bf840b</td>\n",
       "      <td>Intel 12th Gen Core i5-12400 Desktop PC</td>\n",
       "      <td>31200</td>\n",
       "      <td>Star PC</td>\n",
       "      <td>Processor: Intel 12th Gen Core i5-12400 Alder ...</td>\n",
       "    </tr>\n",
       "    <tr>\n",
       "      <th>3</th>\n",
       "      <td>9f7f0b17-1422-4288-9dd2-86298d4ba38b</td>\n",
       "      <td>AMD Ryzen 7 5700G Custom Desktop PC</td>\n",
       "      <td>32400</td>\n",
       "      <td>Star PC</td>\n",
       "      <td>Processor: AMD Ryzen 7 5700G Processor with Ra...</td>\n",
       "    </tr>\n",
       "    <tr>\n",
       "      <th>4</th>\n",
       "      <td>41c74a5c-5afd-4a30-88b1-412f5609622a</td>\n",
       "      <td>AMD Ryzen 5 8500G Desktop PC</td>\n",
       "      <td>37499</td>\n",
       "      <td>Star PC</td>\n",
       "      <td>Processor: AMD Ryzen 5 8500G Processor with Ra...</td>\n",
       "    </tr>\n",
       "  </tbody>\n",
       "</table>\n",
       "</div>"
      ],
      "text/plain": [
       "                                     id  \\\n",
       "0  6195dfc6-1544-450f-adb0-a7c31c47ddd6   \n",
       "1  0ea7d2cb-9d73-4abb-9986-f9c0d44c5c5f   \n",
       "2  5aaf0d1a-8304-4849-8c96-ecb9d3bf840b   \n",
       "3  9f7f0b17-1422-4288-9dd2-86298d4ba38b   \n",
       "4  41c74a5c-5afd-4a30-88b1-412f5609622a   \n",
       "\n",
       "                                      name  price category  \\\n",
       "0      AMD Ryzen 5 5600G Budget Desktop PC  26699  Star PC   \n",
       "1             AMD Ryzen 5 5600G Desktop PC  29500  Star PC   \n",
       "2  Intel 12th Gen Core i5-12400 Desktop PC  31200  Star PC   \n",
       "3      AMD Ryzen 7 5700G Custom Desktop PC  32400  Star PC   \n",
       "4             AMD Ryzen 5 8500G Desktop PC  37499  Star PC   \n",
       "\n",
       "                                       specification  \n",
       "0  Processor: AMD Ryzen 5 5600G Processor with Ra...  \n",
       "1  Processor: AMD Ryzen 5 5600G Processor with Ra...  \n",
       "2  Processor: Intel 12th Gen Core i5-12400 Alder ...  \n",
       "3  Processor: AMD Ryzen 7 5700G Processor with Ra...  \n",
       "4  Processor: AMD Ryzen 5 8500G Processor with Ra...  "
      ]
     },
     "execution_count": 3,
     "metadata": {},
     "output_type": "execute_result"
    }
   ],
   "source": [
    "product_df = pd.read_excel(\"./datasets/startech_first_half.xlsx\")\n",
    "product_df = product_df.replace(np.nan, None)\n",
    "product_df.head(5)"
   ]
  },
  {
   "cell_type": "code",
   "execution_count": 4,
   "metadata": {},
   "outputs": [],
   "source": [
    "class Query(BaseModel):\n",
    "    relevant_query: list[str]"
   ]
  },
  {
   "cell_type": "code",
   "execution_count": 36,
   "metadata": {},
   "outputs": [],
   "source": [
    "def format_product_details(name, price, specification):\n",
    "    product_details = \"\"\n",
    "    if specification is not None:\n",
    "        product_details = f\"Name: {name}\\nPrice: {price} taka\\n{specification.strip()}\"\n",
    "    else:\n",
    "        product_details = f\"Name: {name}\\nPrice: {price} taka\"\n",
    "\n",
    "    return product_details\n",
    "\n",
    "\n",
    "def generate_response(model, system_prompt, prompt):\n",
    "    response = ollama.generate(\n",
    "        model=model,\n",
    "        system=system_prompt,\n",
    "        prompt=prompt,\n",
    "        format=Query.model_json_schema(),\n",
    "        options={\"temperature\": 0.6, \"top_k\": 5, \"top_p\": 0.7, \"num_predict\": 2048},\n",
    "    )\n",
    "\n",
    "    try:\n",
    "        query = Query.model_validate_json(response.response)\n",
    "        return query\n",
    "    except Exception as e:\n",
    "        print(f\"Error: {e}\")\n",
    "    return None"
   ]
  },
  {
   "cell_type": "code",
   "execution_count": 37,
   "metadata": {},
   "outputs": [],
   "source": [
    "model = \"gemma3\"\n",
    "\n",
    "system_prompt = \"Based on the given product description which is basically the technical specifications of a tech product, generate exactly 7 relevant product search queries that a user might enter on an e-commerce platform search bar. Out of these 7   relevant queries, 5 of them must not include directly the product, or specific product names, model numbers, brands or detailed technical attributes. Instead, use generic adjectives, context and phrases that describe the product type , specifications and its key features. Try understanding the intent of the product description given. Try to find relevant queries that a user might search to reach to this product. Use product related synonyms occasionally in relevant queries. And the rest two relevant queries must include the exact brand name, model number and/or name. Do not include any country-specific or regional terms.\""
   ]
  },
  {
   "cell_type": "code",
   "execution_count": 38,
   "metadata": {},
   "outputs": [
    {
     "name": "stdout",
     "output_type": "stream",
     "text": [
      "Product details: Name: Dahua 4 unit CC camera package\n",
      "Price: 17300 taka\n",
      "Camera: Dahua 4 unit 1080P night vision security cc camera\n",
      "NVR/XVR: Dahua 4 Channel 720p Recording XVR\n",
      "Storage: 1000GB Hard Disk Drive\n",
      "Monitor: No\n",
      "Adapter: 4 unit power adapter good quality\n",
      "Connector: 4 unit video balun Good quality\n",
      "Cable: 100m. Cat6 & Power cable.\n",
      "Relevent query: ['4 channel security camera system', '1080p night vision surveillance kit', 'high resolution outdoor security camera', 'small business security camera package', 'network video recorder 4 channel', 'Dahua 4 Channel XVR 720p', 'Dahua DVR 4 unit CC camera']\n"
     ]
    }
   ],
   "source": [
    "idx = randint(0, product_df.shape[0])\n",
    "\n",
    "name = product_df[\"name\"][idx]\n",
    "price = product_df[\"price\"][idx]\n",
    "specification = product_df[\"specification\"][idx]\n",
    "product_details = format_product_details(name, price, specification)\n",
    "\n",
    "response = generate_response(model, system_prompt, product_details)\n",
    "if response is not None:\n",
    "    print(f\"Product details: {product_details}\")\n",
    "    print(f\"Relevent query: {response.relevant_query}\")"
   ]
  },
  {
   "cell_type": "code",
   "execution_count": 39,
   "metadata": {},
   "outputs": [
    {
     "data": {
      "application/vnd.jupyter.widget-view+json": {
       "model_id": "86a99397140d4a8099f8578f38703cd2",
       "version_major": 2,
       "version_minor": 0
      },
      "text/plain": [
       "  0%|          | 0/5 [00:00<?, ?it/s]"
      ]
     },
     "metadata": {},
     "output_type": "display_data"
    }
   ],
   "source": [
    "queries = {\n",
    "    \"id\": [],\n",
    "    \"relevant_query\": [],\n",
    "}\n",
    "\n",
    "start = 0\n",
    "end = 5\n",
    "\n",
    "for idx in tqdm(range(start, end)):\n",
    "    \n",
    "    id = product_df[\"id\"][idx]\n",
    "    name = product_df[\"name\"][idx]\n",
    "    price = product_df[\"price\"][idx]\n",
    "    specification = product_df[\"specification\"][idx]\n",
    "    product_details = format_product_details(name, price, specification)\n",
    "\n",
    "    response = generate_response(model, system_prompt, product_details)\n",
    "\n",
    "    if response is not None:\n",
    "        relevant_query = response.relevant_query\n",
    "        queries[\"id\"].extend([id] * len(relevant_query))\n",
    "        queries[\"relevant_query\"].extend(relevant_query)\n",
    "\n",
    "    if (idx + 1) % 100 == 0: \n",
    "        print(f\"Done: {idx + 1}\")"
   ]
  },
  {
   "cell_type": "code",
   "execution_count": 44,
   "metadata": {},
   "outputs": [
    {
     "data": {
      "text/html": [
       "<div>\n",
       "<style scoped>\n",
       "    .dataframe tbody tr th:only-of-type {\n",
       "        vertical-align: middle;\n",
       "    }\n",
       "\n",
       "    .dataframe tbody tr th {\n",
       "        vertical-align: top;\n",
       "    }\n",
       "\n",
       "    .dataframe thead th {\n",
       "        text-align: right;\n",
       "    }\n",
       "</style>\n",
       "<table border=\"1\" class=\"dataframe\">\n",
       "  <thead>\n",
       "    <tr style=\"text-align: right;\">\n",
       "      <th></th>\n",
       "      <th>id</th>\n",
       "      <th>relevant_query</th>\n",
       "    </tr>\n",
       "  </thead>\n",
       "  <tbody>\n",
       "    <tr>\n",
       "      <th>0</th>\n",
       "      <td>6195dfc6-1544-450f-adb0-a7c31c47ddd6</td>\n",
       "      <td>budget desktop pc for gaming</td>\n",
       "    </tr>\n",
       "    <tr>\n",
       "      <th>1</th>\n",
       "      <td>6195dfc6-1544-450f-adb0-a7c31c47ddd6</td>\n",
       "      <td>entry level gaming computer</td>\n",
       "    </tr>\n",
       "    <tr>\n",
       "      <th>2</th>\n",
       "      <td>6195dfc6-1544-450f-adb0-a7c31c47ddd6</td>\n",
       "      <td>small form factor pc build</td>\n",
       "    </tr>\n",
       "    <tr>\n",
       "      <th>3</th>\n",
       "      <td>6195dfc6-1544-450f-adb0-a7c31c47ddd6</td>\n",
       "      <td>gaming pc with integrated graphics</td>\n",
       "    </tr>\n",
       "    <tr>\n",
       "      <th>4</th>\n",
       "      <td>6195dfc6-1544-450f-adb0-a7c31c47ddd6</td>\n",
       "      <td>AMD Ryzen 5 desktop processor</td>\n",
       "    </tr>\n",
       "    <tr>\n",
       "      <th>5</th>\n",
       "      <td>6195dfc6-1544-450f-adb0-a7c31c47ddd6</td>\n",
       "      <td>MSI A520M motherboard specs</td>\n",
       "    </tr>\n",
       "    <tr>\n",
       "      <th>6</th>\n",
       "      <td>6195dfc6-1544-450f-adb0-a7c31c47ddd6</td>\n",
       "      <td>Ryzen 5 5600G gaming setup</td>\n",
       "    </tr>\n",
       "    <tr>\n",
       "      <th>7</th>\n",
       "      <td>0ea7d2cb-9d73-4abb-9986-f9c0d44c5c5f</td>\n",
       "      <td>gaming desktop pc build</td>\n",
       "    </tr>\n",
       "    <tr>\n",
       "      <th>8</th>\n",
       "      <td>0ea7d2cb-9d73-4abb-9986-f9c0d44c5c5f</td>\n",
       "      <td>powerful desktop processor for gaming</td>\n",
       "    </tr>\n",
       "    <tr>\n",
       "      <th>9</th>\n",
       "      <td>0ea7d2cb-9d73-4abb-9986-f9c0d44c5c5f</td>\n",
       "      <td>compact gaming computer setup</td>\n",
       "    </tr>\n",
       "  </tbody>\n",
       "</table>\n",
       "</div>"
      ],
      "text/plain": [
       "                                     id                         relevant_query\n",
       "0  6195dfc6-1544-450f-adb0-a7c31c47ddd6           budget desktop pc for gaming\n",
       "1  6195dfc6-1544-450f-adb0-a7c31c47ddd6            entry level gaming computer\n",
       "2  6195dfc6-1544-450f-adb0-a7c31c47ddd6             small form factor pc build\n",
       "3  6195dfc6-1544-450f-adb0-a7c31c47ddd6     gaming pc with integrated graphics\n",
       "4  6195dfc6-1544-450f-adb0-a7c31c47ddd6          AMD Ryzen 5 desktop processor\n",
       "5  6195dfc6-1544-450f-adb0-a7c31c47ddd6            MSI A520M motherboard specs\n",
       "6  6195dfc6-1544-450f-adb0-a7c31c47ddd6             Ryzen 5 5600G gaming setup\n",
       "7  0ea7d2cb-9d73-4abb-9986-f9c0d44c5c5f                gaming desktop pc build\n",
       "8  0ea7d2cb-9d73-4abb-9986-f9c0d44c5c5f  powerful desktop processor for gaming\n",
       "9  0ea7d2cb-9d73-4abb-9986-f9c0d44c5c5f          compact gaming computer setup"
      ]
     },
     "execution_count": 44,
     "metadata": {},
     "output_type": "execute_result"
    }
   ],
   "source": [
    "query_df = pd.DataFrame.from_dict(queries)\n",
    "query_df.head(10)"
   ]
  },
  {
   "cell_type": "code",
   "execution_count": 43,
   "metadata": {},
   "outputs": [],
   "source": [
    "query_df.to_excel(f\"queries_{start}_{end}.xlsx\", index=False, engine='xlsxwriter')"
   ]
  }
 ],
 "metadata": {
  "kernelspec": {
   "display_name": "venv",
   "language": "python",
   "name": "python3"
  },
  "language_info": {
   "codemirror_mode": {
    "name": "ipython",
    "version": 3
   },
   "file_extension": ".py",
   "mimetype": "text/x-python",
   "name": "python",
   "nbconvert_exporter": "python",
   "pygments_lexer": "ipython3",
   "version": "3.12.3"
  }
 },
 "nbformat": 4,
 "nbformat_minor": 2
}

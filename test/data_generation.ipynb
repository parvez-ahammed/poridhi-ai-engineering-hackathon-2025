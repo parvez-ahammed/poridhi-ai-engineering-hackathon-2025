{
 "cells": [
  {
   "cell_type": "code",
   "execution_count": 5,
   "metadata": {},
   "outputs": [],
   "source": [
    "import ollama\n",
    "from pprint import pprint\n",
    "from pydantic import BaseModel\n",
    "import pandas as pd\n",
    "from random import randint\n",
    "import numpy as np\n",
    "from tqdm.notebook import tqdm"
   ]
  },
  {
   "cell_type": "code",
   "execution_count": 6,
   "metadata": {},
   "outputs": [
    {
     "data": {
      "text/html": [
       "<div>\n",
       "<style scoped>\n",
       "    .dataframe tbody tr th:only-of-type {\n",
       "        vertical-align: middle;\n",
       "    }\n",
       "\n",
       "    .dataframe tbody tr th {\n",
       "        vertical-align: top;\n",
       "    }\n",
       "\n",
       "    .dataframe thead th {\n",
       "        text-align: right;\n",
       "    }\n",
       "</style>\n",
       "<table border=\"1\" class=\"dataframe\">\n",
       "  <thead>\n",
       "    <tr style=\"text-align: right;\">\n",
       "      <th></th>\n",
       "      <th>title</th>\n",
       "      <th>price</th>\n",
       "      <th>description</th>\n",
       "      <th>id</th>\n",
       "    </tr>\n",
       "  </thead>\n",
       "  <tbody>\n",
       "    <tr>\n",
       "      <th>0</th>\n",
       "      <td>Casio DJ-120D Plus Check &amp; Recheck Basic Calcu...</td>\n",
       "      <td>1305</td>\n",
       "      <td>None</td>\n",
       "      <td>009b7e66-ef69-49fc-87c8-9d40d53e0e33</td>\n",
       "    </tr>\n",
       "    <tr>\n",
       "      <th>1</th>\n",
       "      <td>Colorful CN600 PRO 1TB M.2 NVMe SSD</td>\n",
       "      <td>7300</td>\n",
       "      <td>Capacity: 1TB\\nFlash Type: 3D NAND\\nInterface:...</td>\n",
       "      <td>7bd5da56-89e9-4b68-92e2-cd31f0578bcb</td>\n",
       "    </tr>\n",
       "    <tr>\n",
       "      <th>2</th>\n",
       "      <td>Anker Soundcore Space One Foldable Over-Ear Bl...</td>\n",
       "      <td>7990</td>\n",
       "      <td>Frequency Range: 20Hz-20KHz\\nInput Jack: AUX C...</td>\n",
       "      <td>3c7d8f65-a7b7-47cd-b808-d6e8c445ca69</td>\n",
       "    </tr>\n",
       "    <tr>\n",
       "      <th>3</th>\n",
       "      <td>Smart SEL-50V24K 50\" 4K Voice Control Android ...</td>\n",
       "      <td>51900</td>\n",
       "      <td>Display Type: LED\\nScreen Size: 50 Inch\\nResol...</td>\n",
       "      <td>212bc014-cec5-4bc6-ad82-2591098ab808</td>\n",
       "    </tr>\n",
       "    <tr>\n",
       "      <th>4</th>\n",
       "      <td>EZVIZ H3c 3MP Wi-Fi Smart Home Outdoor Securit...</td>\n",
       "      <td>4324</td>\n",
       "      <td>Image Sensor: 1/2.7”Progressive Scan CMOS\\nEff...</td>\n",
       "      <td>617e0e00-cfd2-4465-b46f-9537476327a4</td>\n",
       "    </tr>\n",
       "  </tbody>\n",
       "</table>\n",
       "</div>"
      ],
      "text/plain": [
       "                                               title  price  \\\n",
       "0  Casio DJ-120D Plus Check & Recheck Basic Calcu...   1305   \n",
       "1                Colorful CN600 PRO 1TB M.2 NVMe SSD   7300   \n",
       "2  Anker Soundcore Space One Foldable Over-Ear Bl...   7990   \n",
       "3  Smart SEL-50V24K 50\" 4K Voice Control Android ...  51900   \n",
       "4  EZVIZ H3c 3MP Wi-Fi Smart Home Outdoor Securit...   4324   \n",
       "\n",
       "                                         description  \\\n",
       "0                                               None   \n",
       "1  Capacity: 1TB\\nFlash Type: 3D NAND\\nInterface:...   \n",
       "2  Frequency Range: 20Hz-20KHz\\nInput Jack: AUX C...   \n",
       "3  Display Type: LED\\nScreen Size: 50 Inch\\nResol...   \n",
       "4  Image Sensor: 1/2.7”Progressive Scan CMOS\\nEff...   \n",
       "\n",
       "                                     id  \n",
       "0  009b7e66-ef69-49fc-87c8-9d40d53e0e33  \n",
       "1  7bd5da56-89e9-4b68-92e2-cd31f0578bcb  \n",
       "2  3c7d8f65-a7b7-47cd-b808-d6e8c445ca69  \n",
       "3  212bc014-cec5-4bc6-ad82-2591098ab808  \n",
       "4  617e0e00-cfd2-4465-b46f-9537476327a4  "
      ]
     },
     "execution_count": 6,
     "metadata": {},
     "output_type": "execute_result"
    }
   ],
   "source": [
    "product_df = pd.read_csv(\"./datasets/final_5000_products.csv\")\n",
    "product_df = product_df.replace(np.nan, None)\n",
    "product_df.head(5)"
   ]
  },
  {
   "cell_type": "code",
   "execution_count": 7,
   "metadata": {},
   "outputs": [],
   "source": [
    "class Query(BaseModel):\n",
    "    relevant_query: list[str]\n",
    "    irrelevant_query: list[str]"
   ]
  },
  {
   "cell_type": "code",
   "execution_count": 8,
   "metadata": {},
   "outputs": [],
   "source": [
    "def format_product_details(name, price, description):\n",
    "    product_details = \"\"\n",
    "    if description is not None:\n",
    "        product_details = f\"Name: {name}\\nPrice: {price} taka\\n{description}\"\n",
    "    else:\n",
    "        product_details = f\"Name: {name}\\nPrice: {price} taka\"\n",
    "\n",
    "    return product_details"
   ]
  },
  {
   "cell_type": "code",
   "execution_count": 38,
   "metadata": {},
   "outputs": [],
   "source": [
    "model = \"llama3.2\"\n",
    "# system_prompt = \"Based on the product description, give five exact product-relevant and five irrelevant queries without specifying any country that a user might search on an e-commerce platform.\"\n",
    "\n",
    "# system_prompt = \"Given the following product description, generate five natural user search queries that a potential customer might use on an e-commerce platform. The queries should reflect real-world search behavior, including specific product attributes, pricing, features, and user intent. Focus on how customers typically search for similar products online.\"\n",
    "\n",
    "# system_prompt = \"\"\"Generate two sets of search queries for the following product description:\n",
    "# Five (5) RELEVANT search queries that accurately reflect user intent when searching for this specific product or products with similar key features\n",
    "# Five (5) IRRELEVANT search queries that would not lead to this product or would represent misaligned user intent\"\"\"\n",
    "\n",
    "# system_prompt = \"Based on the product description below, generate exactly 5 product-relevant and 5 product-irrelevant search queries that a user might enter on an e-commerce platform. For the product-relevant queries, avoid using specific product names, model numbers, or detailed technical attributes. Instead, use generic adjectives and phrases that describe the product type and its key features. For the product-irrelevant queries, ensure they pertain to entirely different product categories that do not overlap with the product's category and more like relavent queries but for other product categories. Also these irrelevent queries should follow the structure of the relevent quries but for other category of products.  Do not include any country-specific or regional terms\"\n",
    "\n",
    "system_prompt =\"Based on the product description below, generate exactly 5 product-relevant search queries and exactly 5 product-irrelevant search queries that a user might enter on an e-commerce platform. For the product-relevant queries, do not include specific product names, model numbers, or detailed technical attributes. Instead, use generic adjectives and phrases that describe the product type and its key features. The irrelevant queries should follow the structure of the relevent quries but for other category of products. Use product related synonyms occationally in relevant queries. Do not include any country-specific or regional terms.\""
   ]
  },
  {
   "cell_type": "code",
   "execution_count": 45,
   "metadata": {},
   "outputs": [
    {
     "name": "stdout",
     "output_type": "stream",
     "text": [
      "Product details: Name: ASUS TUF Gaming GeForce RTX 4070 Ti SUPER BTF White OC Edition 16GB GDDR6X Graphics Card\n",
      "Price: 161000 taka\n",
      "Type: GDDR6X\n",
      "Size: 16GB\n",
      "Resolution: 7680 x 4320\n",
      "Core Clock: OC mode: 2670 MHz\n",
      "Memory Clock: 21 Gbps\n",
      "BUS Type: PCI Express 4.0\n",
      "Memory Interface: 256-bit\n",
      "CUDA Cores: 8448\n",
      "Display Port: 3x Native DisplayPort 1.4a\n",
      "HDMI: 2x Native HDMI 2.1\n",
      "HDCP: HDCP  2.3\n",
      "Recommended PSU: 750W\n",
      "Multi Display: 4\n",
      "OpenGL: 4.6\n",
      "Dimensions: 12 x 5.43 x 2.55 inch\n",
      "Others: 3.25 Slot\n",
      "Manufacturing Warranty: 3 years\n",
      "\n",
      "Relevent query: ['gaming graphics card with high resolution support', 'high-end graphics card for gaming', 'powerful graphics card for 4K display', 'fast memory clock speed graphics card', 'PCIe 4.0 graphics card']\n",
      "Irrelevant query: ['best laptop for college students', 'top rated smartwatches for men', 'gaming keyboard with mechanical switches', 'high-end headphones for music streaming', 'powerful laptops for video editing']\n"
     ]
    }
   ],
   "source": [
    "idx = randint(0, product_df.shape[0])\n",
    "name = product_df[\"title\"][idx]\n",
    "price = product_df[\"price\"][idx]\n",
    "description = product_df[\"description\"][idx]\n",
    "product_details = format_product_details(name, price, description)\n",
    "\n",
    "response = ollama.generate(\n",
    "    model=model,\n",
    "    system=system_prompt,\n",
    "    prompt=product_details,\n",
    "    format=Query.model_json_schema(),\n",
    "    options={\"temperature\": 0.6, \"top_k\": 5, \"top_p\": 0.7, \"num_predict\": 2048},\n",
    ")\n",
    "\n",
    "query = Query.model_validate_json(response.response)\n",
    "\n",
    "print(f\"Product details: {product_details}\\n\")\n",
    "print(f\"Relevent query: {query.relevant_query}\")\n",
    "print(f\"Irrelevant query: {query.irrelevant_query}\")"
   ]
  },
  {
   "cell_type": "code",
   "execution_count": 7,
   "metadata": {},
   "outputs": [
    {
     "data": {
      "application/vnd.jupyter.widget-view+json": {
       "model_id": "fe09058361964ca2b5110c2ad8f5f067",
       "version_major": 2,
       "version_minor": 0
      },
      "text/plain": [
       "  0%|          | 0/500 [00:00<?, ?it/s]"
      ]
     },
     "metadata": {},
     "output_type": "display_data"
    },
    {
     "name": "stdout",
     "output_type": "stream",
     "text": [
      "Done: 500 out of 500\r"
     ]
    }
   ],
   "source": [
    "queries = {\n",
    "    \"product_id\": [],\n",
    "    \"relevant_query\": [],\n",
    "    \"irrelevant_query\": [],\n",
    "}\n",
    "\n",
    "start = 0\n",
    "end = 500\n",
    "\n",
    "for idx in tqdm(range(start, end)):\n",
    "    id = product_df[\"id\"][idx]\n",
    "    name = product_df[\"title\"][idx]\n",
    "    price = product_df[\"price\"][idx]\n",
    "    description = product_df[\"description\"][idx]\n",
    "\n",
    "    product_details = format_product_details(name, price, description)\n",
    "\n",
    "    response = ollama.generate(\n",
    "        model=model,\n",
    "        system=system_prompt,\n",
    "        prompt=product_details,\n",
    "        format=Query.model_json_schema(),\n",
    "        options={\"temperature\": 0.25, \"top_k\": 5, \"top_p\": 0.65, \"num_predict\": 2048},\n",
    "    )\n",
    "\n",
    "    try:\n",
    "        query = Query.model_validate_json(response.response)\n",
    "        min_len = min(5, min(len(query.relevant_query), len(query.irrelevant_query)))\n",
    "        relevant_query = query.relevant_query[:min_len]\n",
    "        irrelevant_query = query.irrelevant_query[:min_len]\n",
    "\n",
    "        # print(f\"Relevent query: {relevant_query}\")\n",
    "        # print(f\"Irrelevant query: {irrelevant_query}\")\n",
    "\n",
    "        queries[\"product_id\"].extend([id] * min_len)\n",
    "        queries[\"relevant_query\"].extend(relevant_query)\n",
    "        queries[\"irrelevant_query\"].extend(irrelevant_query)\n",
    "    except Exception as e:\n",
    "        print(f\"Error: {e}\")\n",
    "\n",
    "    print(f\"Done: {idx + 1} out of {end - start}\", end=\"\\r\")"
   ]
  },
  {
   "cell_type": "code",
   "execution_count": 8,
   "metadata": {},
   "outputs": [],
   "source": [
    "query_df = pd.DataFrame.from_dict(queries)\n",
    "query_df.to_csv(f\"./generated_queries/queries_{start}_{end}.csv\", index=False)"
   ]
  }
 ],
 "metadata": {
  "kernelspec": {
   "display_name": "venv",
   "language": "python",
   "name": "python3"
  },
  "language_info": {
   "codemirror_mode": {
    "name": "ipython",
    "version": 3
   },
   "file_extension": ".py",
   "mimetype": "text/x-python",
   "name": "python",
   "nbconvert_exporter": "python",
   "pygments_lexer": "ipython3",
   "version": "3.12.3"
  }
 },
 "nbformat": 4,
 "nbformat_minor": 2
}

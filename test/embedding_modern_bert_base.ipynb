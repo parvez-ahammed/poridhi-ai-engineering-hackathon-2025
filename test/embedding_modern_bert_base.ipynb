{
 "cells": [
  {
   "cell_type": "code",
   "execution_count": 1,
   "metadata": {},
   "outputs": [],
   "source": [
    "import os\n",
    "\n",
    "PATH = os.getcwd() + \"/.cache/huggingface\"\n",
    "os.environ[\"HF_HOME\"] = PATH\n",
    "os.environ[\"HF_DATASETS_CACHE\"] = PATH\n",
    "os.environ[\"TORCH_HOME\"] = PATH\n",
    "\n",
    "import torch\n",
    "import torch.nn.functional as F\n",
    "from transformers import AutoTokenizer, AutoModel\n",
    "from tqdm.notebook import tqdm\n",
    "from qdrant_client import QdrantClient\n",
    "from qdrant_client.models import (\n",
    "    PointStruct,\n",
    "    Distance,\n",
    "    VectorParams,\n",
    "    SparseVectorParams,\n",
    "    Modifier,\n",
    "    Prefetch,\n",
    "    SparseVector,\n",
    "    FusionQuery,\n",
    "    Fusion,\n",
    ")\n",
    "import pandas as pd\n",
    "import math\n",
    "from tqdm.notebook import tqdm\n",
    "from BM25 import BM25\n",
    "from pprint import pprint"
   ]
  },
  {
   "cell_type": "code",
   "execution_count": 2,
   "metadata": {},
   "outputs": [],
   "source": [
    "DEVICE = torch.device(\"cuda\" if torch.cuda.is_available() else \"cpu\")\n",
    "tokenizer = AutoTokenizer.from_pretrained(\"../models/modernbert-embed-base-tokenizer\")\n",
    "model = AutoModel.from_pretrained(\"../models/modernbert-embed-base-model\")\n",
    "model = model.to(DEVICE)\n",
    "\n",
    "bm25 = BM25(\n",
    "    stopwords_dir=os.path.abspath(\"./stopwords\"), languages=[\"english\", \"bengali\"]\n",
    ")"
   ]
  },
  {
   "cell_type": "code",
   "execution_count": 3,
   "metadata": {},
   "outputs": [],
   "source": [
    "def mean_pooling(model_output, attention_mask):\n",
    "    token_embeddings = model_output[0]\n",
    "    input_mask_expanded = (\n",
    "        attention_mask.unsqueeze(-1).expand(token_embeddings.size()).float()\n",
    "    )\n",
    "    return torch.sum(token_embeddings * input_mask_expanded, 1) / torch.clamp(\n",
    "        input_mask_expanded.sum(1), min=1e-9\n",
    "    )\n",
    "\n",
    "\n",
    "def dense_embedding(texts: list[str]):\n",
    "    encoded_queries = tokenizer(\n",
    "        texts, padding=True, truncation=True, return_tensors=\"pt\"\n",
    "    )\n",
    "\n",
    "    with torch.no_grad():\n",
    "        queries_outputs = model(**encoded_queries.to(DEVICE))\n",
    "\n",
    "    embeddings = mean_pooling(queries_outputs, encoded_queries[\"attention_mask\"])\n",
    "    embeddings = F.normalize(embeddings, p=2, dim=1)\n",
    "    return embeddings.cpu().numpy()"
   ]
  },
  {
   "cell_type": "code",
   "execution_count": 4,
   "metadata": {},
   "outputs": [],
   "source": [
    "COLLECTION_NAME = \"product_collection_modern_bert_base\"\n",
    "client = QdrantClient(url=\"http://localhost:6333\", timeout=600)"
   ]
  },
  {
   "cell_type": "code",
   "execution_count": 5,
   "metadata": {},
   "outputs": [
    {
     "data": {
      "text/plain": [
       "True"
      ]
     },
     "execution_count": 5,
     "metadata": {},
     "output_type": "execute_result"
    }
   ],
   "source": [
    "client.delete_collection(collection_name=COLLECTION_NAME)\n",
    "client.create_collection(\n",
    "    collection_name=COLLECTION_NAME,\n",
    "    vectors_config={\n",
    "        \"dense_vector\": VectorParams(size=768, distance=Distance.COSINE)\n",
    "    },\n",
    "    sparse_vectors_config={\"sparse_vector\": SparseVectorParams(modifier=Modifier.IDF)},\n",
    ")"
   ]
  },
  {
   "cell_type": "code",
   "execution_count": 6,
   "metadata": {},
   "outputs": [
    {
     "data": {
      "text/html": [
       "<div>\n",
       "<style scoped>\n",
       "    .dataframe tbody tr th:only-of-type {\n",
       "        vertical-align: middle;\n",
       "    }\n",
       "\n",
       "    .dataframe tbody tr th {\n",
       "        vertical-align: top;\n",
       "    }\n",
       "\n",
       "    .dataframe thead th {\n",
       "        text-align: right;\n",
       "    }\n",
       "</style>\n",
       "<table border=\"1\" class=\"dataframe\">\n",
       "  <thead>\n",
       "    <tr style=\"text-align: right;\">\n",
       "      <th></th>\n",
       "      <th>title</th>\n",
       "      <th>price</th>\n",
       "      <th>description</th>\n",
       "    </tr>\n",
       "  </thead>\n",
       "  <tbody>\n",
       "    <tr>\n",
       "      <th>0</th>\n",
       "      <td>Casio DJ-120D Plus Check &amp; Recheck Basic Calcu...</td>\n",
       "      <td>1305</td>\n",
       "      <td>NaN</td>\n",
       "    </tr>\n",
       "    <tr>\n",
       "      <th>1</th>\n",
       "      <td>Colorful CN600 PRO 1TB M.2 NVMe SSD</td>\n",
       "      <td>7300</td>\n",
       "      <td>Capacity: 1TB\\nFlash Type: 3D NAND\\nInterface:...</td>\n",
       "    </tr>\n",
       "    <tr>\n",
       "      <th>2</th>\n",
       "      <td>Anker Soundcore Space One Foldable Over-Ear Bl...</td>\n",
       "      <td>7990</td>\n",
       "      <td>Frequency Range: 20Hz-20KHz\\nInput Jack: AUX C...</td>\n",
       "    </tr>\n",
       "    <tr>\n",
       "      <th>3</th>\n",
       "      <td>Smart SEL-50V24K 50\" 4K Voice Control Android ...</td>\n",
       "      <td>51900</td>\n",
       "      <td>Display Type: LED\\nScreen Size: 50 Inch\\nResol...</td>\n",
       "    </tr>\n",
       "    <tr>\n",
       "      <th>4</th>\n",
       "      <td>EZVIZ H3c 3MP Wi-Fi Smart Home Outdoor Securit...</td>\n",
       "      <td>4324</td>\n",
       "      <td>Image Sensor: 1/2.7”Progressive Scan CMOS\\nEff...</td>\n",
       "    </tr>\n",
       "  </tbody>\n",
       "</table>\n",
       "</div>"
      ],
      "text/plain": [
       "                                               title  price  \\\n",
       "0  Casio DJ-120D Plus Check & Recheck Basic Calcu...   1305   \n",
       "1                Colorful CN600 PRO 1TB M.2 NVMe SSD   7300   \n",
       "2  Anker Soundcore Space One Foldable Over-Ear Bl...   7990   \n",
       "3  Smart SEL-50V24K 50\" 4K Voice Control Android ...  51900   \n",
       "4  EZVIZ H3c 3MP Wi-Fi Smart Home Outdoor Securit...   4324   \n",
       "\n",
       "                                         description  \n",
       "0                                                NaN  \n",
       "1  Capacity: 1TB\\nFlash Type: 3D NAND\\nInterface:...  \n",
       "2  Frequency Range: 20Hz-20KHz\\nInput Jack: AUX C...  \n",
       "3  Display Type: LED\\nScreen Size: 50 Inch\\nResol...  \n",
       "4  Image Sensor: 1/2.7”Progressive Scan CMOS\\nEff...  "
      ]
     },
     "execution_count": 6,
     "metadata": {},
     "output_type": "execute_result"
    }
   ],
   "source": [
    "product_info_df = pd.read_csv(\"./final_5000_products.csv\")\n",
    "product_info_df.head(5)"
   ]
  },
  {
   "cell_type": "code",
   "execution_count": 7,
   "metadata": {},
   "outputs": [],
   "source": [
    "text_for_embedding_format = \"Name: {}\\n{}\\nPrice: {}\"\n",
    "documents = []\n",
    "\n",
    "for idx, row in product_info_df.iterrows():\n",
    "    title = row[\"title\"]\n",
    "    description = row[\"description\"]\n",
    "    price = row[\"price\"]\n",
    "    formatted_document = text_for_embedding_format.format(title, description, price)\n",
    "    documents.append(formatted_document)"
   ]
  },
  {
   "cell_type": "code",
   "execution_count": 8,
   "metadata": {},
   "outputs": [
    {
     "name": "stderr",
     "output_type": "stream",
     "text": [
      "Token indices sequence length is longer than the specified maximum sequence length for this model (515 > 512). Running this sequence through the model will result in indexing errors\n"
     ]
    },
    {
     "name": "stdout",
     "output_type": "stream",
     "text": [
      "95.3308\n"
     ]
    }
   ],
   "source": [
    "bm25.calculate_avg_doc_len(documents)\n",
    "print(bm25.avg_len)"
   ]
  },
  {
   "cell_type": "code",
   "execution_count": 9,
   "metadata": {},
   "outputs": [],
   "source": [
    "total_row = product_info_df.shape[0]\n",
    "batch_size = 1\n",
    "total_batch = math.ceil(total_row / batch_size)"
   ]
  },
  {
   "cell_type": "code",
   "execution_count": 10,
   "metadata": {},
   "outputs": [
    {
     "data": {
      "application/vnd.jupyter.widget-view+json": {
       "model_id": "d9051f9a374f4e73a5e83ab882ae1a62",
       "version_major": 2,
       "version_minor": 0
      },
      "text/plain": [
       "  0%|          | 0/5000 [00:00<?, ?it/s]"
      ]
     },
     "metadata": {},
     "output_type": "display_data"
    },
    {
     "name": "stderr",
     "output_type": "stream",
     "text": [
      "/home/atiqur-rahman/venv/lib/python3.12/site-packages/torch/nn/modules/linear.py:125: UserWarning: Attempting to use hipBLASLt on an unsupported architecture! Overriding blas backend to hipblas (Triggered internally at /pytorch/aten/src/ATen/Context.cpp:310.)\n",
      "  return F.linear(input, self.weight, self.bias)\n"
     ]
    },
    {
     "name": "stdout",
     "output_type": "stream",
     "text": [
      "operation_id=4999 status=<UpdateStatus.COMPLETED: 'completed'>\r"
     ]
    }
   ],
   "source": [
    "for start in tqdm(range(0, total_row, batch_size)):\n",
    "    batch = product_info_df.iloc[start : start + batch_size]\n",
    "\n",
    "    titles = batch[\"title\"].tolist()\n",
    "    descriptions = batch[\"description\"].tolist()\n",
    "    prices = batch[\"price\"].tolist()\n",
    "\n",
    "    texts_for_embedding = [\n",
    "        text_for_embedding_format.format(title, description, price)\n",
    "        for title, description, price in zip(titles, descriptions, prices)\n",
    "    ]\n",
    "    dense_vectors = dense_embedding(texts_for_embedding)\n",
    "    sparse_vectors = bm25.raw_embed(texts_for_embedding)\n",
    "\n",
    "    points = []\n",
    "    for idx, (batch_idx, row) in enumerate(batch.iterrows()):\n",
    "        title = row[\"title\"]\n",
    "        description = row[\"description\"]\n",
    "        price = row[\"price\"]\n",
    "\n",
    "        points.append(\n",
    "            PointStruct(\n",
    "                id=batch_idx,\n",
    "                vector={\n",
    "                    \"dense_vector\": dense_vectors[idx],\n",
    "                    \"sparse_vector\": sparse_vectors[idx],\n",
    "                },\n",
    "                payload={\n",
    "                    \"title\": title,\n",
    "                    \"description\": description,\n",
    "                    \"price\": price,\n",
    "                },\n",
    "            )\n",
    "        )\n",
    "\n",
    "    operation_info = client.upsert(\n",
    "        collection_name=COLLECTION_NAME, wait=True, points=points\n",
    "    )\n",
    "    print(operation_info, end=\"\\r\")"
   ]
  },
  {
   "cell_type": "code",
   "execution_count": 11,
   "metadata": {},
   "outputs": [],
   "source": [
    "def query(query_text: str):\n",
    "    dense_vector = dense_embedding([query_text])[0]\n",
    "    sparse_vector = bm25.raw_embed([query_text])[0]\n",
    "\n",
    "    prefetch = [\n",
    "        Prefetch(query=dense_vector, using=\"dense_vector\", limit=10),\n",
    "        Prefetch(query=SparseVector(**sparse_vector), using=\"sparse_vector\", limit=10),\n",
    "    ]\n",
    "\n",
    "    results = client.query_points(\n",
    "        collection_name=COLLECTION_NAME,\n",
    "        prefetch=prefetch,\n",
    "        query=FusionQuery(fusion=Fusion.RRF),\n",
    "        with_payload=True,\n",
    "        limit=5,\n",
    "    )\n",
    "\n",
    "    # results = client.query_points(\n",
    "    #     collection_name=COLLECTION_NAME,\n",
    "    #     query=dense_vector,\n",
    "    #     using=\"dense_vector\",\n",
    "    #     with_payload=True,\n",
    "    #     limit=5\n",
    "    # )\n",
    "\n",
    "    return [{\"score\": point.score, \"payload\": point.payload} for point in results.points]"
   ]
  },
  {
   "cell_type": "code",
   "execution_count": 15,
   "metadata": {},
   "outputs": [
    {
     "name": "stdout",
     "output_type": "stream",
     "text": [
      "[{'payload': {'description': 'Display Size: 34 inch\\n'\n",
      "                             'Display Type: LED\\n'\n",
      "                             'Panel Type: VA\\n'\n",
      "                             'Resolution: UWQHD (3440 x 1440)\\n'\n",
      "                             'Pixel pitch(MM): 0.232 mm (H) x 0.232 mm (V)\\n'\n",
      "                             'Display Surface: Anti-Glare, Hard Coating (3H)\\n'\n",
      "                             'Aspect Ratio: 21:9\\n'\n",
      "                             'Viewing Angle: 178º horizontal, 178º vertical\\n'\n",
      "                             'Brightness: 400 cd/m² (typ)\\n'\n",
      "                             'Contrast Ratio: Static Contrast Ratio: 3,000:1 '\n",
      "                             '(typ)\\n'\n",
      "                             'Refresh Rate: 100Hz\\n'\n",
      "                             'Color Support: Colors: 16.7M\\n'\n",
      "                             'Color Gamut: Color Gamut: Adobe RGB: 89% size / '\n",
      "                             '83% coverage (Typ)\\n'\n",
      "                             'Response Time: 5ms\\n'\n",
      "                             'HDR: HDR10\\n'\n",
      "                             'Curvature: 1800R\\n'\n",
      "                             'Others Features: Viewable Area (in.): 34\\n'\n",
      "                             'Color Temperature Selection: 32°F to 104°F (0°C '\n",
      "                             'to 40°C)\\n'\n",
      "                             'Flicker Free: Yes\\n'\n",
      "                             'Low Blue Light: Yes\\n'\n",
      "                             'Free Sync Support: Yes\\n'\n",
      "                             'Others: Digital Sync: PCI-E - DisplayPort '\n",
      "                             '(v1.4), TMDS - HDMI (v2.0), Micro-Packet - Type '\n",
      "                             'C\\n'\n",
      "                             'Speaker (Built In): Yes\\n'\n",
      "                             'Speaker Details: 5Watts x2\\n'\n",
      "                             'Display Port: 1 x DisplayPort\\n'\n",
      "                             'HDMI: 2 x HDMI 2.0 (with HDCP 2.2)\\n'\n",
      "                             'USB Port(s): 2x USB 3.2 Type A Down Stream\\n'\n",
      "                             'USB Type-C: 1x USB 3.2 Type B Up Stream\\n'\n",
      "                             'Others: Power in: 3-pin Socket (IEC C14 / '\n",
      "                             'CEE22)\\n'\n",
      "                             'Tilt: -6º / 21º\\n'\n",
      "                             'Swivel: 120º\\n'\n",
      "                             'Height Adjustment: 130\\n'\n",
      "                             'Vesa Wall Mount: 100mm x 100mm VESA mount\\n'\n",
      "                             'Security Locker: Kensington Lock Slot\\n'\n",
      "                             'Color: Black\\n'\n",
      "                             'Dimension: 31.9 x 18.9 x 11.8\" / 809 x 480 x 299 '\n",
      "                             'mm (with Stand)\\n'\n",
      "                             'Weight: 26.7 lb / 12.1 kg (with Stand)\\n'\n",
      "                             'Type: Internal Power Supply\\n'\n",
      "                             'Power Consumption: Consumption (typical): 33.6W\\n'\n",
      "                             'Voltage: AC 100-240V\\n'\n",
      "                             'Others: Eco Mode (Conserve): 24.8W\\n'\n",
      "                             'Warranty: 3 Years Warranty.',\n",
      "              'price': '110000',\n",
      "              'title': 'ViewSonic VP3481a ColorPro 34\" UltraWide QHD Curved '\n",
      "                       'Monitor'},\n",
      "  'score': 0.5},\n",
      " {'payload': {'description': 'Functions: Print Only\\n'\n",
      "                             'Printer Type: Single Function Large Format '\n",
      "                             'Printer\\n'\n",
      "                             'Output Color: Color\\n'\n",
      "                             'Technology: Single Function Large Format '\n",
      "                             'Printer\\n'\n",
      "                             'Print Speed: Plain Paper\\n'\n",
      "                             'Print Resolution: 2400 x 1200 dpi\\n'\n",
      "                             'Memory: 1GB RAM\\n'\n",
      "                             'Connectivity: Inputs/Outputs\\n'\n",
      "                             'Power Consumption: Power Supply: AC 100 - 240 V, '\n",
      "                             '50 - 60 Hz\\n'\n",
      "                             'Color: White\\n'\n",
      "                             'Dimension: Main Unit:\\n'\n",
      "                             'Weight: Main Unit: 43 kg\\n'\n",
      "                             'Toner/ Cartridge/ Refill: Black / Cyan / Magenta '\n",
      "                             '/ Yellow: PFI-050 (70 ml)\\n'\n",
      "                             'Warranty: 1 Year warranty (Without Head & '\n",
      "                             'Adapter, Box Mandatory While Claiming).',\n",
      "              'price': '98000',\n",
      "              'title': 'Canon imagePROGRAF TC-20 Single Function Large Format '\n",
      "                       'Printer'},\n",
      "  'score': 0.5},\n",
      " {'payload': {'description': 'Display Size: 19.5\" / 49.4cm\\n'\n",
      "                             'Display Type: LED\\n'\n",
      "                             'Resolution: 1366 X 768\\n'\n",
      "                             'Aspect Ratio: 16:9\\n'\n",
      "                             'Viewing Angle: 90/65 (CR≥10)\\n'\n",
      "                             'Brightness: 200cd/m2(Typ.)\\n'\n",
      "                             'Contrast Ratio: 600:1 (Typ.)\\n'\n",
      "                             'Refresh Rate: 60Hz\\n'\n",
      "                             'Color Support: Multi (Color Gamut (CIE1931)): '\n",
      "                             '72%\\n'\n",
      "                             'Response Time: 5ms\\n'\n",
      "                             'Flicker Free: Yes\\n'\n",
      "                             'Others: Dynamic Action Sync\\n'\n",
      "                             'Audio Jack: Yes\\n'\n",
      "                             'D-Sub: 1x D-Sub\\n'\n",
      "                             'Dimension: 463.8X366.5X181.9mm (with Stand)\\n'\n",
      "                             'Weight: 2.3kg (with Stand)\\n'\n",
      "                             'Type: External Power Adapter (100-240Vac, '\n",
      "                             '50/60Hz)\\n'\n",
      "                             'Power Consumption: Consumption - NOrmal On(EPA): '\n",
      "                             '13W\\n'\n",
      "                             'Warranty: 3 Years',\n",
      "              'price': '8990',\n",
      "              'title': 'LG 20MK400A-B 19.5\" FHD Monitor'},\n",
      "  'score': 0.33333334},\n",
      " {'payload': {'description': None,\n",
      "              'price': '550',\n",
      "              'title': 'Xtrike Me MP-206 Large Mouse Pad'},\n",
      "  'score': 0.33333334},\n",
      " {'payload': {'description': None,\n",
      "              'price': '2600',\n",
      "              'title': 'SteelSeries QcK Large Low Profile Gaming Mouse Pad'},\n",
      "  'score': 0.25}]\n",
      "CPU times: user 25.5 ms, sys: 5 μs, total: 25.5 ms\n",
      "Wall time: 26.7 ms\n"
     ]
    }
   ],
   "source": [
    "%%time\n",
    "query_result = query(\"large monitor\")\n",
    "pprint(query_result)"
   ]
  }
 ],
 "metadata": {
  "kernelspec": {
   "display_name": "venv",
   "language": "python",
   "name": "python3"
  },
  "language_info": {
   "codemirror_mode": {
    "name": "ipython",
    "version": 3
   },
   "file_extension": ".py",
   "mimetype": "text/x-python",
   "name": "python",
   "nbconvert_exporter": "python",
   "pygments_lexer": "ipython3",
   "version": "3.12.3"
  }
 },
 "nbformat": 4,
 "nbformat_minor": 2
}

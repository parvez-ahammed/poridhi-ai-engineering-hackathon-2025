{
 "cells": [
  {
   "cell_type": "code",
   "execution_count": 4,
   "id": "23dca73a",
   "metadata": {},
   "outputs": [],
   "source": [
    "import ollama\n",
    "from pprint import pprint\n",
    "from pydantic import BaseModel\n",
    "import pandas as pd\n",
    "from random import randint\n",
    "import numpy as np\n",
    "from tqdm.notebook import tqdm"
   ]
  },
  {
   "cell_type": "code",
   "execution_count": 10,
   "id": "b4887065",
   "metadata": {},
   "outputs": [
    {
     "data": {
      "text/html": [
       "<div>\n",
       "<style scoped>\n",
       "    .dataframe tbody tr th:only-of-type {\n",
       "        vertical-align: middle;\n",
       "    }\n",
       "\n",
       "    .dataframe tbody tr th {\n",
       "        vertical-align: top;\n",
       "    }\n",
       "\n",
       "    .dataframe thead th {\n",
       "        text-align: right;\n",
       "    }\n",
       "</style>\n",
       "<table border=\"1\" class=\"dataframe\">\n",
       "  <thead>\n",
       "    <tr style=\"text-align: right;\">\n",
       "      <th></th>\n",
       "      <th>id</th>\n",
       "      <th>relevant_query</th>\n",
       "    </tr>\n",
       "  </thead>\n",
       "  <tbody>\n",
       "    <tr>\n",
       "      <th>0</th>\n",
       "      <td>ff9f4b9c-64f8-4b20-8cbb-698db1302f05</td>\n",
       "      <td>budget gaming desktop pc</td>\n",
       "    </tr>\n",
       "    <tr>\n",
       "      <th>1</th>\n",
       "      <td>ff9f4b9c-64f8-4b20-8cbb-698db1302f05</td>\n",
       "      <td>entry level desktop computer</td>\n",
       "    </tr>\n",
       "    <tr>\n",
       "      <th>2</th>\n",
       "      <td>ff9f4b9c-64f8-4b20-8cbb-698db1302f05</td>\n",
       "      <td>small form factor pc build</td>\n",
       "    </tr>\n",
       "    <tr>\n",
       "      <th>3</th>\n",
       "      <td>ff9f4b9c-64f8-4b20-8cbb-698db1302f05</td>\n",
       "      <td>gaming pc with integrated graphics</td>\n",
       "    </tr>\n",
       "    <tr>\n",
       "      <th>4</th>\n",
       "      <td>ff9f4b9c-64f8-4b20-8cbb-698db1302f05</td>\n",
       "      <td>AMD Ryzen 5 desktop processor</td>\n",
       "    </tr>\n",
       "  </tbody>\n",
       "</table>\n",
       "</div>"
      ],
      "text/plain": [
       "                                     id                      relevant_query\n",
       "0  ff9f4b9c-64f8-4b20-8cbb-698db1302f05            budget gaming desktop pc\n",
       "1  ff9f4b9c-64f8-4b20-8cbb-698db1302f05        entry level desktop computer\n",
       "2  ff9f4b9c-64f8-4b20-8cbb-698db1302f05          small form factor pc build\n",
       "3  ff9f4b9c-64f8-4b20-8cbb-698db1302f05  gaming pc with integrated graphics\n",
       "4  ff9f4b9c-64f8-4b20-8cbb-698db1302f05       AMD Ryzen 5 desktop processor"
      ]
     },
     "execution_count": 10,
     "metadata": {},
     "output_type": "execute_result"
    }
   ],
   "source": [
    "query_df = pd.read_excel(\"./datasets/generated_data/queries_0_500.xlsx\")\n",
    "query_df = query_df.replace(np.nan, None)\n",
    "query_df.head(5)"
   ]
  },
  {
   "cell_type": "code",
   "execution_count": 6,
   "id": "6e201512",
   "metadata": {},
   "outputs": [],
   "source": [
    "class Translation(BaseModel):\n",
    "    translation: str"
   ]
  },
  {
   "cell_type": "code",
   "execution_count": 88,
   "id": "2a9964ef",
   "metadata": {},
   "outputs": [],
   "source": [
    "model = \"llama3.2\"\n",
    "\n",
    "system_prompt = \"\"\"You are an English to Bengali tanslator.\n",
    "Translate the given product related english text into bengali. Just keep the key terms\"\"\""
   ]
  },
  {
   "cell_type": "code",
   "execution_count": 89,
   "id": "6b2356e1",
   "metadata": {},
   "outputs": [],
   "source": [
    "def generate_response(model, system_prompt, prompt):\n",
    "    response = ollama.generate(\n",
    "        model=model,\n",
    "        system=system_prompt,\n",
    "        prompt=prompt,\n",
    "        format=Translation.model_json_schema(),\n",
    "        options={\"temperature\": 0.35, \"top_k\": 5, \"top_p\": 0.7, \"num_predict\": 2048},\n",
    "    )\n",
    "\n",
    "    try:\n",
    "        query = Translation.model_validate_json(response.response)\n",
    "        return query\n",
    "    except Exception as e:\n",
    "        print(f\"Error: {e}\")\n",
    "    return None"
   ]
  },
  {
   "cell_type": "code",
   "execution_count": 93,
   "id": "6e7efb40",
   "metadata": {},
   "outputs": [
    {
     "name": "stdout",
     "output_type": "stream",
     "text": [
      "English query: gaming laptop 2.5K display\n",
      "Benglai query: গেমিং ল্যাপটপ ২.৫কে ডিসপ্লে\n"
     ]
    }
   ],
   "source": [
    "idx = randint(0, query_df.shape[0])\n",
    "\n",
    "query = query_df[\"relevant_query\"][idx]\n",
    "response = generate_response(model, system_prompt, query)\n",
    "if response is not None:\n",
    "    print(f\"English query: {query}\")\n",
    "    print(f\"Benglai query: {response.translation}\")"
   ]
  },
  {
   "cell_type": "code",
   "execution_count": 91,
   "id": "373131e3",
   "metadata": {},
   "outputs": [
    {
     "data": {
      "application/vnd.jupyter.widget-view+json": {
       "model_id": "e1177ef4bf8f4801bc06b1bc68074054",
       "version_major": 2,
       "version_minor": 0
      },
      "text/plain": [
       "  0%|          | 0/5 [00:00<?, ?it/s]"
      ]
     },
     "metadata": {},
     "output_type": "display_data"
    },
    {
     "ename": "AttributeError",
     "evalue": "'Translation' object has no attribute 'relevant_query'",
     "output_type": "error",
     "traceback": [
      "\u001b[31m---------------------------------------------------------------------------\u001b[39m",
      "\u001b[31mAttributeError\u001b[39m                            Traceback (most recent call last)",
      "\u001b[36mCell\u001b[39m\u001b[36m \u001b[39m\u001b[32mIn[91]\u001b[39m\u001b[32m, line 16\u001b[39m\n\u001b[32m     13\u001b[39m response = generate_response(model, system_prompt, query)\n\u001b[32m     15\u001b[39m \u001b[38;5;28;01mif\u001b[39;00m response \u001b[38;5;129;01mis\u001b[39;00m \u001b[38;5;129;01mnot\u001b[39;00m \u001b[38;5;28;01mNone\u001b[39;00m:\n\u001b[32m---> \u001b[39m\u001b[32m16\u001b[39m     relevant_query = \u001b[43mresponse\u001b[49m\u001b[43m.\u001b[49m\u001b[43mrelevant_query\u001b[49m\n\u001b[32m     17\u001b[39m     bengali_queries[\u001b[33m\"\u001b[39m\u001b[33mid\u001b[39m\u001b[33m\"\u001b[39m].extend([\u001b[38;5;28mid\u001b[39m] * \u001b[38;5;28mlen\u001b[39m(relevant_query))\n\u001b[32m     18\u001b[39m     bengali_queries[\u001b[33m\"\u001b[39m\u001b[33mrelevant_query\u001b[39m\u001b[33m\"\u001b[39m].extend(relevant_query)\n",
      "\u001b[36mFile \u001b[39m\u001b[32m~/venv/lib/python3.12/site-packages/pydantic/main.py:984\u001b[39m, in \u001b[36mBaseModel.__getattr__\u001b[39m\u001b[34m(self, item)\u001b[39m\n\u001b[32m    981\u001b[39m     \u001b[38;5;28;01mreturn\u001b[39;00m \u001b[38;5;28msuper\u001b[39m().\u001b[34m__getattribute__\u001b[39m(item)  \u001b[38;5;66;03m# Raises AttributeError if appropriate\u001b[39;00m\n\u001b[32m    982\u001b[39m \u001b[38;5;28;01melse\u001b[39;00m:\n\u001b[32m    983\u001b[39m     \u001b[38;5;66;03m# this is the current error\u001b[39;00m\n\u001b[32m--> \u001b[39m\u001b[32m984\u001b[39m     \u001b[38;5;28;01mraise\u001b[39;00m \u001b[38;5;167;01mAttributeError\u001b[39;00m(\u001b[33mf\u001b[39m\u001b[33m'\u001b[39m\u001b[38;5;132;01m{\u001b[39;00m\u001b[38;5;28mtype\u001b[39m(\u001b[38;5;28mself\u001b[39m).\u001b[34m__name__\u001b[39m\u001b[38;5;132;01m!r}\u001b[39;00m\u001b[33m object has no attribute \u001b[39m\u001b[38;5;132;01m{\u001b[39;00mitem\u001b[38;5;132;01m!r}\u001b[39;00m\u001b[33m'\u001b[39m)\n",
      "\u001b[31mAttributeError\u001b[39m: 'Translation' object has no attribute 'relevant_query'"
     ]
    }
   ],
   "source": [
    "bengali_queries = {\n",
    "    \"id\": [],\n",
    "    \"relevant_query\": [],\n",
    "}\n",
    "\n",
    "start = 0\n",
    "end = 5\n",
    "\n",
    "for idx in tqdm(range(start, end)):\n",
    "    \n",
    "    id = query_df[\"id\"][idx]\n",
    "    query = query_df[\"relevant_query\"][idx]\n",
    "    response = generate_response(model, system_prompt, query)\n",
    "\n",
    "    if response is not None:\n",
    "        relevant_query = response.relevant_query\n",
    "        bengali_queries[\"id\"].extend([id] * len(relevant_query))\n",
    "        bengali_queries[\"relevant_query\"].extend(relevant_query)\n",
    "\n",
    "    if (idx + 1) % 100 == 0: \n",
    "        print(f\"Done: {idx + 1}\")"
   ]
  }
 ],
 "metadata": {
  "kernelspec": {
   "display_name": "venv",
   "language": "python",
   "name": "python3"
  },
  "language_info": {
   "codemirror_mode": {
    "name": "ipython",
    "version": 3
   },
   "file_extension": ".py",
   "mimetype": "text/x-python",
   "name": "python",
   "nbconvert_exporter": "python",
   "pygments_lexer": "ipython3",
   "version": "3.12.3"
  }
 },
 "nbformat": 4,
 "nbformat_minor": 5
}

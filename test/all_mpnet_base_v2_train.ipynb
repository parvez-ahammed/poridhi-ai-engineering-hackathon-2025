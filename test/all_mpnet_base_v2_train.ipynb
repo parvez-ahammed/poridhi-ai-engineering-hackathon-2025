{
 "cells": [
  {
   "cell_type": "code",
   "execution_count": null,
   "metadata": {
    "_cell_guid": "b1076dfc-b9ad-4769-8c92-a6c4dae69d19",
    "_uuid": "8f2839f25d086af736a60e9eeb907d3b93b6e0e5",
    "execution": {
     "iopub.execute_input": "2025-04-03T15:43:20.623609Z",
     "iopub.status.busy": "2025-04-03T15:43:20.623315Z",
     "iopub.status.idle": "2025-04-03T15:43:45.181186Z",
     "shell.execute_reply": "2025-04-03T15:43:45.180272Z",
     "shell.execute_reply.started": "2025-04-03T15:43:20.623586Z"
    },
    "trusted": true
   },
   "outputs": [],
   "source": [
    "from datasets import Dataset\n",
    "from sentence_transformers import (\n",
    "    SentenceTransformer,\n",
    "    SentenceTransformerTrainer,\n",
    "    SentenceTransformerTrainingArguments,\n",
    ")\n",
    "from sentence_transformers.losses import MultipleNegativesRankingLoss\n",
    "from sentence_transformers.training_args import BatchSamplers\n",
    "from sentence_transformers.evaluation import TripletEvaluator\n",
    "from transformers import pipeline\n",
    "import torch\n",
    "import mlflow\n",
    "import os\n",
    "import warnings\n",
    "\n",
    "os.environ[\"WANDB_API_KEY\"] = \"3b43fe4333c7cce0371f54dbf0875c8862787619\"\n",
    "os.environ[\"TOKENIZERS_PARALLELISM\"]=\"false\"\n",
    "os.environ[\"SENTENCE_TRANSFORMERS_HOME\"] = \"./\"\n",
    "\n",
    "warnings.filterwarnings(\"ignore\", category=UserWarning)"
   ]
  },
  {
   "cell_type": "code",
   "execution_count": 2,
   "metadata": {
    "execution": {
     "iopub.execute_input": "2025-04-03T15:43:45.182816Z",
     "iopub.status.busy": "2025-04-03T15:43:45.182147Z",
     "iopub.status.idle": "2025-04-03T15:43:45.243319Z",
     "shell.execute_reply": "2025-04-03T15:43:45.242231Z",
     "shell.execute_reply.started": "2025-04-03T15:43:45.182788Z"
    },
    "trusted": true
   },
   "outputs": [],
   "source": [
    "DEVICE = torch.device(\"cuda\" if torch.cuda.is_available() else \"cpu\")"
   ]
  },
  {
   "cell_type": "code",
   "execution_count": 3,
   "metadata": {
    "execution": {
     "iopub.execute_input": "2025-04-03T15:43:45.244554Z",
     "iopub.status.busy": "2025-04-03T15:43:45.244176Z",
     "iopub.status.idle": "2025-04-03T15:43:46.047677Z",
     "shell.execute_reply": "2025-04-03T15:43:46.046647Z",
     "shell.execute_reply.started": "2025-04-03T15:43:45.244519Z"
    },
    "trusted": true
   },
   "outputs": [
    {
     "data": {
      "text/plain": [
       "(Dataset({\n",
       "     features: ['anchor', 'positive', 'negative'],\n",
       "     num_rows: 1374\n",
       " }),\n",
       " Dataset({\n",
       "     features: ['anchor', 'positive', 'negative'],\n",
       "     num_rows: 1718\n",
       " }),\n",
       " Dataset({\n",
       "     features: ['anchor', 'positive', 'negative'],\n",
       "     num_rows: 955\n",
       " }))"
      ]
     },
     "execution_count": 3,
     "metadata": {},
     "output_type": "execute_result"
    }
   ],
   "source": [
    "train_csv_dir = \"./datasets/train.csv\"\n",
    "test_csv_dir = \"./datasets/test.csv\"\n",
    "val_csv_dir = \"./datasets/val.csv\"\n",
    "\n",
    "train_dataset = Dataset.from_csv(train_csv_dir).train_test_split(test_size=0.01)[\"test\"]\n",
    "test_dataset = Dataset.from_csv(test_csv_dir).train_test_split(test_size=0.05)[\"test\"]\n",
    "eval_dataset = Dataset.from_csv(val_csv_dir).train_test_split(test_size=0.05)[\"test\"]\n",
    "\n",
    "train_dataset = train_dataset.remove_columns(\"category\")\n",
    "test_dataset = test_dataset.remove_columns(\"category\")\n",
    "eval_dataset = eval_dataset.remove_columns(\"category\")\n",
    "\n",
    "train_dataset, test_dataset, eval_dataset"
   ]
  },
  {
   "cell_type": "code",
   "execution_count": 4,
   "metadata": {
    "execution": {
     "iopub.execute_input": "2025-04-03T15:43:57.751682Z",
     "iopub.status.busy": "2025-04-03T15:43:57.751336Z",
     "iopub.status.idle": "2025-04-03T15:44:03.389350Z",
     "shell.execute_reply": "2025-04-03T15:44:03.388589Z",
     "shell.execute_reply.started": "2025-04-03T15:43:57.751657Z"
    },
    "trusted": true
   },
   "outputs": [],
   "source": [
    "model_name = \"all-mpnet-base-v2\"\n",
    "model = SentenceTransformer(f\"./trained_models/all_mpnet_base_v2\", device=DEVICE)\n",
    "loss = MultipleNegativesRankingLoss(model)"
   ]
  },
  {
   "cell_type": "code",
   "execution_count": 5,
   "metadata": {
    "execution": {
     "iopub.execute_input": "2025-04-03T15:44:03.390715Z",
     "iopub.status.busy": "2025-04-03T15:44:03.390480Z",
     "iopub.status.idle": "2025-04-03T15:44:03.422263Z",
     "shell.execute_reply": "2025-04-03T15:44:03.421582Z",
     "shell.execute_reply.started": "2025-04-03T15:44:03.390695Z"
    },
    "trusted": true
   },
   "outputs": [],
   "source": [
    "args = SentenceTransformerTrainingArguments(\n",
    "    # Required parameter:\n",
    "    output_dir=f\"./trained_models/{model_name}_local\",\n",
    "    # Optional training parameters:\n",
    "    num_train_epochs=5,\n",
    "    per_device_train_batch_size=8,\n",
    "    per_device_eval_batch_size=8,\n",
    "    warmup_ratio=0.1,\n",
    "    fp16=True,  # Set to False if GPU can't handle FP16\n",
    "    bf16=False,  # Set to True if GPU supports BF16\n",
    "    batch_sampler=BatchSamplers.NO_DUPLICATES,  # MultipleNegativesRankingLoss benefits from no duplicates\n",
    "    dataloader_num_workers=os.cpu_count(),\n",
    "    dataloader_pin_memory=True,\n",
    "    # Optional tracking/debugging parameters:\n",
    "    eval_strategy=\"epoch\",\n",
    "    save_total_limit = 2,\n",
    "    save_strategy = \"epoch\",\n",
    "    load_best_model_at_end=True,\n",
    "    metric_for_best_model=\"eval_loss\",\n",
    "    greater_is_better=False,\n",
    "    logging_steps=100,\n",
    "    run_name=f\"{model_name}-train\"\n",
    ")"
   ]
  },
  {
   "cell_type": "code",
   "execution_count": 6,
   "metadata": {
    "execution": {
     "iopub.execute_input": "2025-04-03T15:44:07.117874Z",
     "iopub.status.busy": "2025-04-03T15:44:07.117552Z",
     "iopub.status.idle": "2025-04-03T15:44:40.403893Z",
     "shell.execute_reply": "2025-04-03T15:44:40.402976Z",
     "shell.execute_reply.started": "2025-04-03T15:44:07.117849Z"
    },
    "trusted": true
   },
   "outputs": [],
   "source": [
    "test_evaluator = TripletEvaluator(\n",
    "    anchors=test_dataset[\"anchor\"],\n",
    "    positives=test_dataset[\"positive\"],\n",
    "    negatives=test_dataset[\"negative\"],\n",
    "    name=f\"{model_name}-test\",\n",
    ")\n",
    "\n",
    "score = test_evaluator(model)\n",
    "score = list(score.values())[0]\n",
    "with mlflow.start_run(run_name=f\"{model_name}-test-eval-before-train\"):\n",
    "    mlflow.log_metric(\"triplet_evaluation_score\", score)\n",
    "    mlflow.log_param(\"model_name\", model_name)"
   ]
  },
  {
   "cell_type": "code",
   "execution_count": 7,
   "metadata": {
    "execution": {
     "iopub.execute_input": "2025-04-03T15:44:40.405628Z",
     "iopub.status.busy": "2025-04-03T15:44:40.405252Z",
     "iopub.status.idle": "2025-04-03T15:44:40.419221Z",
     "shell.execute_reply": "2025-04-03T15:44:40.418300Z",
     "shell.execute_reply.started": "2025-04-03T15:44:40.405594Z"
    },
    "trusted": true
   },
   "outputs": [],
   "source": [
    "dev_evaluator = TripletEvaluator(\n",
    "    anchors=eval_dataset[\"anchor\"],\n",
    "    positives=eval_dataset[\"positive\"],\n",
    "    negatives=eval_dataset[\"negative\"],\n",
    "    name=f\"{model_name}-dev\",\n",
    ")"
   ]
  },
  {
   "cell_type": "code",
   "execution_count": 8,
   "metadata": {
    "execution": {
     "execution_failed": "2025-04-03T15:45:50.130Z",
     "iopub.execute_input": "2025-04-03T15:44:40.420795Z",
     "iopub.status.busy": "2025-04-03T15:44:40.420573Z"
    },
    "trusted": true
   },
   "outputs": [
    {
     "data": {
      "application/vnd.jupyter.widget-view+json": {
       "model_id": "783cc96a686144fbab83555196263e3c",
       "version_major": 2,
       "version_minor": 0
      },
      "text/plain": [
       "Computing widget examples:   0%|          | 0/1 [00:00<?, ?example/s]"
      ]
     },
     "metadata": {},
     "output_type": "display_data"
    }
   ],
   "source": [
    "trainer = SentenceTransformerTrainer(\n",
    "    model=model,\n",
    "    args=args,\n",
    "    train_dataset=train_dataset,\n",
    "    eval_dataset=eval_dataset,\n",
    "    loss=loss,\n",
    "    evaluator=dev_evaluator,\n",
    ")"
   ]
  },
  {
   "cell_type": "code",
   "execution_count": 9,
   "metadata": {},
   "outputs": [
    {
     "data": {
      "text/plain": [
       "<Experiment: artifact_location='mlflow-artifacts:/394427933678411736', creation_time=1745252608808, experiment_id='394427933678411736', last_update_time=1745252608808, lifecycle_stage='active', name='Embedding model train', tags={}>"
      ]
     },
     "execution_count": 9,
     "metadata": {},
     "output_type": "execute_result"
    }
   ],
   "source": [
    "mlflow.set_tracking_uri(\"http://127.0.0.1:5000/\")\n",
    "mlflow.set_experiment(\"Embedding model train\")"
   ]
  },
  {
   "cell_type": "code",
   "execution_count": 10,
   "metadata": {},
   "outputs": [
    {
     "data": {
      "text/html": [
       "\n",
       "    <div>\n",
       "      \n",
       "      <progress value='860' max='860' style='width:300px; height:20px; vertical-align: middle;'></progress>\n",
       "      [860/860 08:50, Epoch 5/5]\n",
       "    </div>\n",
       "    <table border=\"1\" class=\"dataframe\">\n",
       "  <thead>\n",
       " <tr style=\"text-align: left;\">\n",
       "      <th>Epoch</th>\n",
       "      <th>Training Loss</th>\n",
       "      <th>Validation Loss</th>\n",
       "      <th>All-mpnet-base-v2-dev Cosine Accuracy</th>\n",
       "    </tr>\n",
       "  </thead>\n",
       "  <tbody>\n",
       "    <tr>\n",
       "      <td>1</td>\n",
       "      <td>0.139000</td>\n",
       "      <td>0.180979</td>\n",
       "      <td>0.993717</td>\n",
       "    </tr>\n",
       "    <tr>\n",
       "      <td>2</td>\n",
       "      <td>0.122900</td>\n",
       "      <td>0.194858</td>\n",
       "      <td>0.993717</td>\n",
       "    </tr>\n",
       "    <tr>\n",
       "      <td>3</td>\n",
       "      <td>0.096300</td>\n",
       "      <td>0.174957</td>\n",
       "      <td>0.995812</td>\n",
       "    </tr>\n",
       "    <tr>\n",
       "      <td>4</td>\n",
       "      <td>0.064500</td>\n",
       "      <td>0.188421</td>\n",
       "      <td>0.993717</td>\n",
       "    </tr>\n",
       "    <tr>\n",
       "      <td>5</td>\n",
       "      <td>0.063600</td>\n",
       "      <td>0.182382</td>\n",
       "      <td>0.993717</td>\n",
       "    </tr>\n",
       "  </tbody>\n",
       "</table><p>"
      ],
      "text/plain": [
       "<IPython.core.display.HTML object>"
      ]
     },
     "metadata": {},
     "output_type": "display_data"
    },
    {
     "name": "stdout",
     "output_type": "stream",
     "text": [
      "🏃 View run all-mpnet-base-v2-training at: http://127.0.0.1:5000/#/experiments/394427933678411736/runs/a67fab04b4a5413793c6a10da104524d\n",
      "🧪 View experiment at: http://127.0.0.1:5000/#/experiments/394427933678411736\n"
     ]
    }
   ],
   "source": [
    "with mlflow.start_run(run_name=f\"{model_name}-training\") as run:\n",
    "    trainer.train()"
   ]
  },
  {
   "cell_type": "code",
   "execution_count": 11,
   "metadata": {
    "trusted": true
   },
   "outputs": [
    {
     "name": "stdout",
     "output_type": "stream",
     "text": [
      "🏃 View run all-mpnet-base-v2-test-eval-after-train at: http://127.0.0.1:5000/#/experiments/394427933678411736/runs/81ebcb1b946641529508521cb6fadc96\n",
      "🧪 View experiment at: http://127.0.0.1:5000/#/experiments/394427933678411736\n"
     ]
    }
   ],
   "source": [
    "score = test_evaluator(model)\n",
    "score = list(score.values())[0]\n",
    "with mlflow.start_run(run_name=f\"{model_name}-test-eval-after-train\"):\n",
    "    mlflow.log_metric(\"triplet_evaluation_score\", score)\n",
    "    mlflow.log_param(\"model_name\", model_name)"
   ]
  },
  {
   "cell_type": "code",
   "execution_count": null,
   "metadata": {
    "trusted": true
   },
   "outputs": [],
   "source": [
    "# trainer.save_model(\"./best_model\")"
   ]
  }
 ],
 "metadata": {
  "kaggle": {
   "accelerator": "gpu",
   "dataSources": [
    {
     "datasetId": 7041217,
     "sourceId": 11264883,
     "sourceType": "datasetVersion"
    }
   ],
   "dockerImageVersionId": 30919,
   "isGpuEnabled": true,
   "isInternetEnabled": true,
   "language": "python",
   "sourceType": "notebook"
  },
  "kernelspec": {
   "display_name": "venv",
   "language": "python",
   "name": "python3"
  },
  "language_info": {
   "codemirror_mode": {
    "name": "ipython",
    "version": 3
   },
   "file_extension": ".py",
   "mimetype": "text/x-python",
   "name": "python",
   "nbconvert_exporter": "python",
   "pygments_lexer": "ipython3",
   "version": "3.12.3"
  }
 },
 "nbformat": 4,
 "nbformat_minor": 4
}

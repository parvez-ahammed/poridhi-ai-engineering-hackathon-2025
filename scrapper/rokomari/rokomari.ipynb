{
 "cells": [
  {
   "cell_type": "code",
   "execution_count": null,
   "metadata": {},
   "outputs": [],
   "source": [
    "import requests\n",
    "from random import randint\n",
    "from bs4 import BeautifulSoup \n",
    "import csv \n",
    "\n",
    "USER_AGENTS = [\n",
    "    \"Mozilla/5.0 (Windows NT 10.0; Win64; x64) AppleWebKit/537.36 (KHTML, like Gecko) Chrome/58.0.3029.110 Safari/537.3\",\n",
    "    \"Mozilla/5.0 (Windows NT 10.0; Win64; x64) AppleWebKit/537.36 (KHTML, like Gecko) Firefox/68.0\",\n",
    "    \"Mozilla/5.0 (Macintosh; Intel Mac OS X 10_15_3) AppleWebKit/537.36 (KHTML, like Gecko) Chrome/79.0.3945.88 Safari/537.36\",\n",
    "]\n",
    "\n",
    "HEADERS = {\n",
    "    \"User-Agent\": \"Mozilla/5.0 (Windows NT 10.0; Win64; x64) AppleWebKit/537.36 (KHTML, like Gecko) Chrome/58.0.3029.110 Safari/537.3\"\n",
    "}\n",
    "\n",
    "\n",
    "all_books = []"
   ]
  },
  {
   "cell_type": "code",
   "execution_count": null,
   "metadata": {},
   "outputs": [],
   "source": [
    "st = 30001\n",
    "en = 40000"
   ]
  },
  {
   "cell_type": "code",
   "execution_count": null,
   "metadata": {},
   "outputs": [],
   "source": [
    "def fetch_book_details(book_id):\n",
    "    \"\"\"Fetch book details from a specific book page on rokomari.com.\"\"\"\n",
    "    book_url = f\"https://www.rokomari.com/book/{book_id}\"\n",
    "\n",
    "    headers = HEADERS\n",
    "    headers[\"User-Agent\"] = USER_AGENTS[randint(0, len(USER_AGENTS) - 1)]\n",
    "\n",
    "  \n",
    "    response = requests.get(book_url, headers=headers)\n",
    "    print(f\"\\n🔹 Fetching: {book_url}\")\n",
    "    print(f\"🔹 Response Status Code: {response.status_code}\")\n",
    "\n",
    "    if response.ok:\n",
    "        soup = BeautifulSoup(response.text, 'html.parser')\n",
    "\n",
    "        book_name_tag = soup.find(\"h1\", class_=\"detailsBookContainer_bookName__pLCtW\")\n",
    "        book_name = book_name_tag.text.strip() if book_name_tag else \"N/A\"\n",
    "\n",
    "        subtitle_tag = soup.find(\"h2\", class_=\"detailsBookContainer_subTitle__nEIOj\")\n",
    "        subtitle = subtitle_tag.text.strip() if subtitle_tag else \"N/A\"\n",
    "\n",
    "        author_tag = soup.find(\"p\", class_=\"detailsBookContainer_authorName__ZP0vX\")\n",
    "        author_names = \", \".join([a.text.strip() for a in author_tag.find_all(\"a\")]) if author_tag else \"N/A\"\n",
    "\n",
    "        category_tag = soup.find(\"p\", class_=\"detailsBookContainer_category___lQrb\")\n",
    "        category = category_tag.find(\"a\").text.strip() if category_tag else \"N/A\"\n",
    "\n",
    "        sell_price_tag = soup.find(\"span\", class_=\"sell-price\")\n",
    "        sell_price = sell_price_tag.text.strip().replace(\"TK.\", \"\").strip() if sell_price_tag else \"N/A\"\n",
    "\n",
    "        book_details = {\n",
    "            \"Book ID\": book_id,\n",
    "            \"Book Name\": book_name,\n",
    "            \"Subtitle\": subtitle,\n",
    "            \"Author\": author_names,\n",
    "            \"Category\": category,\n",
    "            \"Price\": sell_price\n",
    "        }\n",
    "\n",
    "        if book_name != \"N/A\":\n",
    "            all_books.append(book_details)\n",
    "            print(f\"✅ Extracted: {book_name}\")\n",
    "    else:\n",
    "        print(f\"❌ Failed to fetch: {response.reason}\")"
   ]
  },
  {
   "cell_type": "code",
   "execution_count": null,
   "metadata": {},
   "outputs": [],
   "source": [
    "for book_id in range(st, en + 1):\n",
    "    fetch_book_details(book_id)"
   ]
  },
  {
   "cell_type": "code",
   "execution_count": null,
   "metadata": {},
   "outputs": [],
   "source": [
    "csv_filename = f\"rokomari_books_{st}_to_{en}.csv\"\n",
    "with open(csv_filename, \"w\", newline=\"\", encoding=\"utf-8\") as f:\n",
    "    if all_books:\n",
    "        fieldnames = all_books[0].keys()  \n",
    "        writer = csv.DictWriter(f, fieldnames=fieldnames)\n",
    "        writer.writeheader()\n",
    "        writer.writerows(all_books)\n",
    "        print(f\"✅ Data saved to {csv_filename}\")\n",
    "    else:\n",
    "        print(\"❌ No book details found to save.\")"
   ]
  }
 ],
 "metadata": {
  "kernelspec": {
   "display_name": "Python 3",
   "language": "python",
   "name": "python3"
  },
  "language_info": {
   "codemirror_mode": {
    "name": "ipython",
    "version": 3
   },
   "file_extension": ".py",
   "mimetype": "text/x-python",
   "name": "python",
   "nbconvert_exporter": "python",
   "pygments_lexer": "ipython3",
   "version": "3.11.2"
  }
 },
 "nbformat": 4,
 "nbformat_minor": 2
}

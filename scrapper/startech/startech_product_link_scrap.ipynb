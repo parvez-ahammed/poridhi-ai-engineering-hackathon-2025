{
 "cells": [
  {
   "cell_type": "code",
   "execution_count": 1,
   "id": "3c4da54d",
   "metadata": {},
   "outputs": [],
   "source": [
    "import os\n",
    "import pandas as pd\n",
    "from random import randint\n",
    "from time import sleep\n",
    "from selenium.webdriver.support.ui import Select\n",
    "from selenium.webdriver.common.by import By\n",
    "import undetected_chromedriver as uc\n",
    "from scrapy.http import TextResponse\n",
    "from tqdm.notebook import tqdm"
   ]
  },
  {
   "cell_type": "code",
   "execution_count": 2,
   "id": "b5beda62",
   "metadata": {},
   "outputs": [],
   "source": [
    "options = uc.ChromeOptions()\n",
    "options.add_experimental_option(\n",
    "    \"prefs\",\n",
    "    {\n",
    "        \"download.default_directory\": os.getcwd(),\n",
    "        \"download.prompt_for_download\": False,\n",
    "        \"download.directory_upgrade\": True,\n",
    "        \"plugins.always_open_pdf_externally\": True,\n",
    "    },\n",
    ")\n",
    "\n",
    "options.add_argument(\"--disable-gpu\")\n",
    "options.add_argument(\"--disable-popup-blocking\")\n",
    "\n",
    "webdriver = uc.Chrome(options=options)\n",
    "\n",
    "webdriver.set_page_load_timeout(120)\n",
    "webdriver.maximize_window()\n",
    "url = \"https://www.startech.com.bd\"\n",
    "webdriver.get(url)"
   ]
  },
  {
   "cell_type": "code",
   "execution_count": 3,
   "id": "9fbd07af",
   "metadata": {},
   "outputs": [],
   "source": [
    "def get_scrapy_res(url, webdriver, xpath):\n",
    "    response = (\n",
    "        TextResponse(\n",
    "            url=url,\n",
    "            body=webdriver.page_source.encode(\"utf-8\"),\n",
    "        )\n",
    "        .xpath(xpath)\n",
    "        .extract()\n",
    "    )\n",
    "    return response"
   ]
  },
  {
   "cell_type": "code",
   "execution_count": 4,
   "id": "e9c9b9fe",
   "metadata": {},
   "outputs": [
    {
     "name": "stdout",
     "output_type": "stream",
     "text": [
      "231\n"
     ]
    }
   ],
   "source": [
    "first_level_category_elemnts = webdriver.find_elements(\n",
    "    By.XPATH, '//ul[@class=\"navbar-nav\"]/li/a'\n",
    ")\n",
    "second_level_category_elements = []\n",
    "\n",
    "for element in first_level_category_elemnts:\n",
    "    category_name = element.text.strip()\n",
    "    if category_name.lower() in [\"monitor\", \"phone\"]:\n",
    "        second_level_category_elements.append(element)\n",
    "        continue\n",
    "\n",
    "    second_level_category_elements.extend(\n",
    "        element.find_element(By.XPATH, \"..\").find_elements(\n",
    "            By.XPATH,\n",
    "            './ul/li/a[not(contains(., \"Show All\")) and not(text() = \"All Laptop\") and not(text() = \"Desktop Offer\")] | ./div/ul/li/a[not(contains(., \"Show All\")) and not(text() = \"All Laptop\") and not(text() = \"Desktop Offer\")]',\n",
    "        )\n",
    "    )\n",
    "\n",
    "all_category_links = [\n",
    "    element.get_attribute(\"href\") for element in second_level_category_elements\n",
    "]\n",
    "print(len(all_category_links))"
   ]
  },
  {
   "cell_type": "code",
   "execution_count": 5,
   "id": "38d8256c",
   "metadata": {},
   "outputs": [
    {
     "data": {
      "application/vnd.jupyter.widget-view+json": {
       "model_id": "84fe964352ca4bf5b2319bd2d911ea71",
       "version_major": 2,
       "version_minor": 0
      },
      "text/plain": [
       "  0%|          | 0/231 [00:00<?, ?it/s]"
      ]
     },
     "metadata": {},
     "output_type": "display_data"
    },
    {
     "name": "stdout",
     "output_type": "stream",
     "text": [
      "Current category: Refrigerator | Page link: https://www.startech.com.bd/refrigerator?limit=90mit=900200-5200&limit=90s?limit=90&page=5\r"
     ]
    }
   ],
   "source": [
    "start = 0\n",
    "end = 20\n",
    "\n",
    "product_category_links = {\"category\": [], \"product_link\": []}\n",
    "\n",
    "for category_link in tqdm(all_category_links):\n",
    "    webdriver.get(category_link)\n",
    "    sleep(randint(1, 2))\n",
    "\n",
    "    category_name = webdriver.find_element(\n",
    "        By.XPATH,\n",
    "        '//div[contains(@class, \"top-bar\")]//label[contains(@class, \"page-heading\")]',\n",
    "    ).text.strip()\n",
    "\n",
    "    select_element = webdriver.find_element(\n",
    "        By.XPATH,\n",
    "        '//div[contains(@class, \"top-bar\")]//div[label[text()=\"Show:\"]]//select',\n",
    "    )\n",
    "    last_option_value = select_element.find_elements(By.TAG_NAME, \"option\")[\n",
    "        -1\n",
    "    ].get_attribute(\"value\")\n",
    "    Select(select_element).select_by_value(last_option_value)\n",
    "    sleep(2)\n",
    "    \n",
    "    \n",
    "    pagination_counter = 0\n",
    "    while True:\n",
    "        print(\n",
    "            f\"Current category: {category_name} | Page link: {webdriver.current_url}\",\n",
    "            flush=True,\n",
    "            end=\"\\r\",\n",
    "        )\n",
    "\n",
    "        product_links = get_scrapy_res(\n",
    "            webdriver.current_url,\n",
    "            webdriver,\n",
    "            '//div[contains(@class, \"main-content\")]//div[div[@class=\"actions\"]/span[contains(., \"Buy Now\")]]/h4/a/@href',\n",
    "        )\n",
    "\n",
    "        for product_link in product_links:\n",
    "            product_category_links[\"category\"].append(category_name)\n",
    "            product_category_links[\"product_link\"].append(product_link)\n",
    "        \n",
    "        pagination_elements = webdriver.find_elements(By.XPATH, '//ul[@class=\"pagination\"]/li')[2:-1]\n",
    "        \n",
    "        if pagination_counter + 1 >= len(pagination_elements):\n",
    "            break\n",
    "        \n",
    "        pagination_counter += 1\n",
    "        pagination_element = pagination_elements[pagination_counter]\n",
    "        webdriver.execute_script(\"arguments[0].scrollIntoView({behavior: 'auto', block: 'center'});\", pagination_element)\n",
    "        sleep(1)\n",
    "        pagination_element.click()\n",
    "        sleep(randint(1, 2))"
   ]
  },
  {
   "cell_type": "code",
   "execution_count": 6,
   "id": "ac37ac62",
   "metadata": {},
   "outputs": [
    {
     "name": "stdout",
     "output_type": "stream",
     "text": [
      "(8758, 2)\n"
     ]
    },
    {
     "data": {
      "text/html": [
       "<div>\n",
       "<style scoped>\n",
       "    .dataframe tbody tr th:only-of-type {\n",
       "        vertical-align: middle;\n",
       "    }\n",
       "\n",
       "    .dataframe tbody tr th {\n",
       "        vertical-align: top;\n",
       "    }\n",
       "\n",
       "    .dataframe thead th {\n",
       "        text-align: right;\n",
       "    }\n",
       "</style>\n",
       "<table border=\"1\" class=\"dataframe\">\n",
       "  <thead>\n",
       "    <tr style=\"text-align: right;\">\n",
       "      <th></th>\n",
       "      <th>category</th>\n",
       "      <th>product_link</th>\n",
       "    </tr>\n",
       "  </thead>\n",
       "  <tbody>\n",
       "    <tr>\n",
       "      <th>0</th>\n",
       "      <td>Star PC</td>\n",
       "      <td>https://www.startech.com.bd/amd-ryzen-5-5600g-...</td>\n",
       "    </tr>\n",
       "    <tr>\n",
       "      <th>1</th>\n",
       "      <td>Star PC</td>\n",
       "      <td>https://www.startech.com.bd/amd-ryzen-5-5600g-...</td>\n",
       "    </tr>\n",
       "    <tr>\n",
       "      <th>2</th>\n",
       "      <td>Star PC</td>\n",
       "      <td>https://www.startech.com.bd/intel-12th-gen-cor...</td>\n",
       "    </tr>\n",
       "    <tr>\n",
       "      <th>3</th>\n",
       "      <td>Star PC</td>\n",
       "      <td>https://www.startech.com.bd/amd-ryzen-7-5700g-...</td>\n",
       "    </tr>\n",
       "    <tr>\n",
       "      <th>4</th>\n",
       "      <td>Star PC</td>\n",
       "      <td>https://www.startech.com.bd/amd-ryzen-5-8500g-...</td>\n",
       "    </tr>\n",
       "  </tbody>\n",
       "</table>\n",
       "</div>"
      ],
      "text/plain": [
       "  category                                       product_link\n",
       "0  Star PC  https://www.startech.com.bd/amd-ryzen-5-5600g-...\n",
       "1  Star PC  https://www.startech.com.bd/amd-ryzen-5-5600g-...\n",
       "2  Star PC  https://www.startech.com.bd/intel-12th-gen-cor...\n",
       "3  Star PC  https://www.startech.com.bd/amd-ryzen-7-5700g-...\n",
       "4  Star PC  https://www.startech.com.bd/amd-ryzen-5-8500g-..."
      ]
     },
     "execution_count": 6,
     "metadata": {},
     "output_type": "execute_result"
    }
   ],
   "source": [
    "product_category_links_df = pd.DataFrame(product_category_links)\n",
    "print(product_category_links_df.shape)\n",
    "product_category_links_df.head(5)"
   ]
  },
  {
   "cell_type": "code",
   "execution_count": 7,
   "id": "8e0e5d28",
   "metadata": {},
   "outputs": [
    {
     "name": "stdout",
     "output_type": "stream",
     "text": [
      "(7931, 2)\n"
     ]
    }
   ],
   "source": [
    "product_category_links_df = (\n",
    "    product_category_links_df.drop_duplicates(subset=[\"product_link\"])\n",
    "    .reset_index(drop=True)\n",
    "    .copy()\n",
    ")\n",
    "# product_category_links_df.drop(columns=[\"index\"], inplace=True)\n",
    "print(product_category_links_df.shape)\n",
    "product_category_links_df.to_csv(f\"./product_category_links.csv\", index=False)"
   ]
  }
 ],
 "metadata": {
  "kernelspec": {
   "display_name": "venv",
   "language": "python",
   "name": "python3"
  },
  "language_info": {
   "codemirror_mode": {
    "name": "ipython",
    "version": 3
   },
   "file_extension": ".py",
   "mimetype": "text/x-python",
   "name": "python",
   "nbconvert_exporter": "python",
   "pygments_lexer": "ipython3",
   "version": "3.12.4"
  }
 },
 "nbformat": 4,
 "nbformat_minor": 5
}

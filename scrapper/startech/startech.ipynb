{
 "cells": [
  {
   "cell_type": "code",
   "execution_count": 1,
   "id": "3c4da54d",
   "metadata": {},
   "outputs": [],
   "source": [
    "import os\n",
    "import pandas as pd\n",
    "from random import randint\n",
    "from time import sleep\n",
    "from selenium.webdriver.support.ui import Select\n",
    "from selenium.webdriver.common.by import By\n",
    "import undetected_chromedriver as uc\n",
    "from scrapy.http import TextResponse\n",
    "from tqdm.notebook import tqdm"
   ]
  },
  {
   "cell_type": "code",
   "execution_count": 2,
   "id": "b5beda62",
   "metadata": {},
   "outputs": [],
   "source": [
    "options = uc.ChromeOptions()\n",
    "options.add_experimental_option(\n",
    "    \"prefs\",\n",
    "    {\n",
    "        \"download.default_directory\": os.getcwd(),\n",
    "        \"download.prompt_for_download\": False,\n",
    "        \"download.directory_upgrade\": True,\n",
    "        \"plugins.always_open_pdf_externally\": True,\n",
    "    },\n",
    ")\n",
    "\n",
    "options.add_argument(\"--disable-gpu\")\n",
    "options.add_argument(\"--disable-popup-blocking\")\n",
    "\n",
    "webdriver = uc.Chrome(options=options)\n",
    "\n",
    "webdriver.set_page_load_timeout(120)\n",
    "webdriver.maximize_window()\n",
    "url = \"https://www.startech.com.bd\"\n",
    "webdriver.get(url)"
   ]
  },
  {
   "cell_type": "code",
   "execution_count": 3,
   "id": "9fbd07af",
   "metadata": {},
   "outputs": [],
   "source": [
    "def get_scrapy_res(url, webdriver, xpath):\n",
    "    response = (\n",
    "        TextResponse(\n",
    "            url=url,\n",
    "            body=webdriver.page_source.encode(\"utf-8\"),\n",
    "        )\n",
    "        .xpath(xpath)\n",
    "        .extract()\n",
    "    )\n",
    "    return response"
   ]
  },
  {
   "cell_type": "code",
   "execution_count": 4,
   "id": "e9c9b9fe",
   "metadata": {},
   "outputs": [
    {
     "name": "stdout",
     "output_type": "stream",
     "text": [
      "231\n"
     ]
    }
   ],
   "source": [
    "first_level_category_elemnts = webdriver.find_elements(\n",
    "    By.XPATH, '//ul[@class=\"navbar-nav\"]/li/a'\n",
    ")\n",
    "second_level_category_elements = []\n",
    "\n",
    "for element in first_level_category_elemnts:\n",
    "    category_name = element.text.strip()\n",
    "    if category_name.lower() in [\"monitor\", \"phone\"]:\n",
    "        second_level_category_elements.append(element)\n",
    "        continue\n",
    "\n",
    "    second_level_category_elements.extend(\n",
    "        element.find_element(By.XPATH, \"..\").find_elements(\n",
    "            By.XPATH,\n",
    "            './ul/li/a[not(contains(., \"Show All\")) and not(text() = \"All Laptop\") and not(text() = \"Desktop Offer\")] | ./div/ul/li/a[not(contains(., \"Show All\")) and not(text() = \"All Laptop\") and not(text() = \"Desktop Offer\")]',\n",
    "        )\n",
    "    )\n",
    "\n",
    "all_category_links = [\n",
    "    element.get_attribute(\"href\") for element in second_level_category_elements\n",
    "]\n",
    "print(len(all_category_links))"
   ]
  },
  {
   "cell_type": "code",
   "execution_count": null,
   "id": "38d8256c",
   "metadata": {},
   "outputs": [
    {
     "data": {
      "application/vnd.jupyter.widget-view+json": {
       "model_id": "747625c1cce74890b15d4999a1a70bf9",
       "version_major": 2,
       "version_minor": 0
      },
      "text/plain": [
       "  0%|          | 0/231 [00:00<?, ?it/s]"
      ]
     },
     "metadata": {},
     "output_type": "display_data"
    },
    {
     "name": "stdout",
     "output_type": "stream",
     "text": [
      "Current category: Laptop Accessories | Page link: https://www.startech.com.bd/laptop-notebook/laptop-accessories\r"
     ]
    },
    {
     "ename": "ElementClickInterceptedException",
     "evalue": "Message: element click intercepted: Element <li>...</li> is not clickable at point (750, 496). Other element would receive the click: <div class=\"popup f-in\">...</div>\n  (Session info: chrome=135.0.7049.52)\nStacktrace:\n#0 0x5d539d529e6a <unknown>\n#1 0x5d539cfdb640 <unknown>\n#2 0x5d539d03399c <unknown>\n#3 0x5d539d0317fc <unknown>\n#4 0x5d539d02ee92 <unknown>\n#5 0x5d539d02e590 <unknown>\n#6 0x5d539d020b7d <unknown>\n#7 0x5d539d052752 <unknown>\n#8 0x5d539d0204fa <unknown>\n#9 0x5d539d05291e <unknown>\n#10 0x5d539d0787b5 <unknown>\n#11 0x5d539d052523 <unknown>\n#12 0x5d539d01eef3 <unknown>\n#13 0x5d539d01fb51 <unknown>\n#14 0x5d539d4eed2b <unknown>\n#15 0x5d539d4f2c01 <unknown>\n#16 0x5d539d4d6512 <unknown>\n#17 0x5d539d4f3774 <unknown>\n#18 0x5d539d4ba90f <unknown>\n#19 0x5d539d517fb8 <unknown>\n#20 0x5d539d518196 <unknown>\n#21 0x5d539d528cb6 <unknown>\n#22 0x7fe30f29caa4 <unknown>\n#23 0x7fe30f329c3c <unknown>\n",
     "output_type": "error",
     "traceback": [
      "\u001b[31m---------------------------------------------------------------------------\u001b[39m",
      "\u001b[31mElementClickInterceptedException\u001b[39m          Traceback (most recent call last)",
      "\u001b[36mCell\u001b[39m\u001b[36m \u001b[39m\u001b[32mIn[5]\u001b[39m\u001b[32m, line 50\u001b[39m\n\u001b[32m     48\u001b[39m webdriver.execute_script(\u001b[33m\"\u001b[39m\u001b[33marguments[0].scrollIntoView(\u001b[39m\u001b[33m{\u001b[39m\u001b[33mbehavior: \u001b[39m\u001b[33m'\u001b[39m\u001b[33mauto\u001b[39m\u001b[33m'\u001b[39m\u001b[33m, block: \u001b[39m\u001b[33m'\u001b[39m\u001b[33mcenter\u001b[39m\u001b[33m'\u001b[39m\u001b[33m});\u001b[39m\u001b[33m\"\u001b[39m, pagination_element)\n\u001b[32m     49\u001b[39m sleep(\u001b[32m1\u001b[39m)\n\u001b[32m---> \u001b[39m\u001b[32m50\u001b[39m \u001b[43mpagination_element\u001b[49m\u001b[43m.\u001b[49m\u001b[43mclick\u001b[49m\u001b[43m(\u001b[49m\u001b[43m)\u001b[49m\n\u001b[32m     51\u001b[39m sleep(\u001b[32m0.5\u001b[39m)\n",
      "\u001b[36mFile \u001b[39m\u001b[32m~/venv/lib/python3.12/site-packages/selenium/webdriver/remote/webelement.py:119\u001b[39m, in \u001b[36mWebElement.click\u001b[39m\u001b[34m(self)\u001b[39m\n\u001b[32m    111\u001b[39m \u001b[38;5;28;01mdef\u001b[39;00m\u001b[38;5;250m \u001b[39m\u001b[34mclick\u001b[39m(\u001b[38;5;28mself\u001b[39m) -> \u001b[38;5;28;01mNone\u001b[39;00m:\n\u001b[32m    112\u001b[39m \u001b[38;5;250m    \u001b[39m\u001b[33;03m\"\"\"Clicks the element.\u001b[39;00m\n\u001b[32m    113\u001b[39m \n\u001b[32m    114\u001b[39m \u001b[33;03m    Example:\u001b[39;00m\n\u001b[32m   (...)\u001b[39m\u001b[32m    117\u001b[39m \u001b[33;03m    >>> element.click()\u001b[39;00m\n\u001b[32m    118\u001b[39m \u001b[33;03m    \"\"\"\u001b[39;00m\n\u001b[32m--> \u001b[39m\u001b[32m119\u001b[39m     \u001b[38;5;28;43mself\u001b[39;49m\u001b[43m.\u001b[49m\u001b[43m_execute\u001b[49m\u001b[43m(\u001b[49m\u001b[43mCommand\u001b[49m\u001b[43m.\u001b[49m\u001b[43mCLICK_ELEMENT\u001b[49m\u001b[43m)\u001b[49m\n",
      "\u001b[36mFile \u001b[39m\u001b[32m~/venv/lib/python3.12/site-packages/selenium/webdriver/remote/webelement.py:572\u001b[39m, in \u001b[36mWebElement._execute\u001b[39m\u001b[34m(self, command, params)\u001b[39m\n\u001b[32m    570\u001b[39m     params = {}\n\u001b[32m    571\u001b[39m params[\u001b[33m\"\u001b[39m\u001b[33mid\u001b[39m\u001b[33m\"\u001b[39m] = \u001b[38;5;28mself\u001b[39m._id\n\u001b[32m--> \u001b[39m\u001b[32m572\u001b[39m \u001b[38;5;28;01mreturn\u001b[39;00m \u001b[38;5;28;43mself\u001b[39;49m\u001b[43m.\u001b[49m\u001b[43m_parent\u001b[49m\u001b[43m.\u001b[49m\u001b[43mexecute\u001b[49m\u001b[43m(\u001b[49m\u001b[43mcommand\u001b[49m\u001b[43m,\u001b[49m\u001b[43m \u001b[49m\u001b[43mparams\u001b[49m\u001b[43m)\u001b[49m\n",
      "\u001b[36mFile \u001b[39m\u001b[32m~/venv/lib/python3.12/site-packages/selenium/webdriver/remote/webdriver.py:429\u001b[39m, in \u001b[36mWebDriver.execute\u001b[39m\u001b[34m(self, driver_command, params)\u001b[39m\n\u001b[32m    427\u001b[39m response = \u001b[38;5;28mself\u001b[39m.command_executor.execute(driver_command, params)\n\u001b[32m    428\u001b[39m \u001b[38;5;28;01mif\u001b[39;00m response:\n\u001b[32m--> \u001b[39m\u001b[32m429\u001b[39m     \u001b[38;5;28;43mself\u001b[39;49m\u001b[43m.\u001b[49m\u001b[43merror_handler\u001b[49m\u001b[43m.\u001b[49m\u001b[43mcheck_response\u001b[49m\u001b[43m(\u001b[49m\u001b[43mresponse\u001b[49m\u001b[43m)\u001b[49m\n\u001b[32m    430\u001b[39m     response[\u001b[33m\"\u001b[39m\u001b[33mvalue\u001b[39m\u001b[33m\"\u001b[39m] = \u001b[38;5;28mself\u001b[39m._unwrap_value(response.get(\u001b[33m\"\u001b[39m\u001b[33mvalue\u001b[39m\u001b[33m\"\u001b[39m, \u001b[38;5;28;01mNone\u001b[39;00m))\n\u001b[32m    431\u001b[39m     \u001b[38;5;28;01mreturn\u001b[39;00m response\n",
      "\u001b[36mFile \u001b[39m\u001b[32m~/venv/lib/python3.12/site-packages/selenium/webdriver/remote/errorhandler.py:232\u001b[39m, in \u001b[36mErrorHandler.check_response\u001b[39m\u001b[34m(self, response)\u001b[39m\n\u001b[32m    230\u001b[39m         alert_text = value[\u001b[33m\"\u001b[39m\u001b[33malert\u001b[39m\u001b[33m\"\u001b[39m].get(\u001b[33m\"\u001b[39m\u001b[33mtext\u001b[39m\u001b[33m\"\u001b[39m)\n\u001b[32m    231\u001b[39m     \u001b[38;5;28;01mraise\u001b[39;00m exception_class(message, screen, stacktrace, alert_text)  \u001b[38;5;66;03m# type: ignore[call-arg]  # mypy is not smart enough here\u001b[39;00m\n\u001b[32m--> \u001b[39m\u001b[32m232\u001b[39m \u001b[38;5;28;01mraise\u001b[39;00m exception_class(message, screen, stacktrace)\n",
      "\u001b[31mElementClickInterceptedException\u001b[39m: Message: element click intercepted: Element <li>...</li> is not clickable at point (750, 496). Other element would receive the click: <div class=\"popup f-in\">...</div>\n  (Session info: chrome=135.0.7049.52)\nStacktrace:\n#0 0x5d539d529e6a <unknown>\n#1 0x5d539cfdb640 <unknown>\n#2 0x5d539d03399c <unknown>\n#3 0x5d539d0317fc <unknown>\n#4 0x5d539d02ee92 <unknown>\n#5 0x5d539d02e590 <unknown>\n#6 0x5d539d020b7d <unknown>\n#7 0x5d539d052752 <unknown>\n#8 0x5d539d0204fa <unknown>\n#9 0x5d539d05291e <unknown>\n#10 0x5d539d0787b5 <unknown>\n#11 0x5d539d052523 <unknown>\n#12 0x5d539d01eef3 <unknown>\n#13 0x5d539d01fb51 <unknown>\n#14 0x5d539d4eed2b <unknown>\n#15 0x5d539d4f2c01 <unknown>\n#16 0x5d539d4d6512 <unknown>\n#17 0x5d539d4f3774 <unknown>\n#18 0x5d539d4ba90f <unknown>\n#19 0x5d539d517fb8 <unknown>\n#20 0x5d539d518196 <unknown>\n#21 0x5d539d528cb6 <unknown>\n#22 0x7fe30f29caa4 <unknown>\n#23 0x7fe30f329c3c <unknown>\n"
     ]
    }
   ],
   "source": [
    "product_category_links = {\"category\": [], \"product_link\": []}\n",
    "\n",
    "for category_link in tqdm(all_category_links):\n",
    "    webdriver.get(category_link)\n",
    "    sleep(randint(1, 2))\n",
    "\n",
    "    category_name = webdriver.find_element(\n",
    "        By.XPATH,\n",
    "        '//div[contains(@class, \"top-bar\")]//label[contains(@class, \"page-heading\")]',\n",
    "    ).text.strip()\n",
    "\n",
    "    select_element = webdriver.find_element(\n",
    "        By.XPATH,\n",
    "        '//div[contains(@class, \"top-bar\")]//div[label[text()=\"Show:\"]]//select',\n",
    "    )\n",
    "    last_option_value = select_element.find_elements(By.TAG_NAME, \"option\")[\n",
    "        -1\n",
    "    ].get_attribute(\"value\")\n",
    "    Select(select_element).select_by_value(last_option_value)\n",
    "    sleep(2)\n",
    "    \n",
    "    \n",
    "    pagination_counter = 0\n",
    "    while True:\n",
    "        print(\n",
    "            f\"Current category: {category_name} | Page link: {webdriver.current_url}\",\n",
    "            flush=True,\n",
    "            end=\"\\r\",\n",
    "        )\n",
    "\n",
    "        product_links = get_scrapy_res(\n",
    "            webdriver.current_url,\n",
    "            webdriver,\n",
    "            '//div[contains(@class, \"main-content\")]//div[div[@class=\"actions\"]/span[contains(., \"Buy Now\")]]/h4/a/@href',\n",
    "        )\n",
    "\n",
    "        for product_link in product_links:\n",
    "            product_category_links[\"category\"].append(category_name)\n",
    "            product_category_links[\"product_link\"].append(product_link)\n",
    "        \n",
    "        pagination_elements = webdriver.find_elements(By.XPATH, '//ul[@class=\"pagination\"]/li')[2:-1]\n",
    "        \n",
    "        if pagination_counter + 1 >= len(pagination_elements):\n",
    "            break\n",
    "        \n",
    "        pagination_counter += 1\n",
    "        pagination_element = pagination_elements[pagination_counter]\n",
    "        webdriver.execute_script(\"arguments[0].scrollIntoView({behavior: 'auto', block: 'center'});\", pagination_element)\n",
    "        sleep(1)\n",
    "        pagination_element.click()\n",
    "        sleep(randint(1, 2))"
   ]
  },
  {
   "cell_type": "code",
   "execution_count": null,
   "id": "ac37ac62",
   "metadata": {},
   "outputs": [],
   "source": [
    "product_category_links_df = pd.DataFrame(product_category_links)\n",
    "print(product_category_links_df.shape)\n",
    "product_category_links_df.head(5)"
   ]
  },
  {
   "cell_type": "code",
   "execution_count": null,
   "id": "8e0e5d28",
   "metadata": {},
   "outputs": [],
   "source": [
    "product_category_links_df = (\n",
    "    product_category_links_df.drop_duplicates(subset=[\"product_link\"])\n",
    "    .reset_index(drop=True)\n",
    "    .copy()\n",
    ")\n",
    "# product_category_links_df.drop(columns=[\"index\"], inplace=True)\n",
    "print(product_category_links_df.shape)\n",
    "product_category_links_df.to_csv(\"./product_category_links.csv\", index=False)"
   ]
  }
 ],
 "metadata": {
  "kernelspec": {
   "display_name": "venv",
   "language": "python",
   "name": "python3"
  },
  "language_info": {
   "codemirror_mode": {
    "name": "ipython",
    "version": 3
   },
   "file_extension": ".py",
   "mimetype": "text/x-python",
   "name": "python",
   "nbconvert_exporter": "python",
   "pygments_lexer": "ipython3",
   "version": "3.12.3"
  }
 },
 "nbformat": 4,
 "nbformat_minor": 5
}
